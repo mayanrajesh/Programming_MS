{
  "nbformat": 4,
  "nbformat_minor": 0,
  "metadata": {
    "colab": {
      "name": "Web_scrapping_amazon.ipynb",
      "provenance": [],
      "collapsed_sections": [],
      "authorship_tag": "ABX9TyOVFGVI43cDaXJyqey1+Jp8",
      "include_colab_link": true
    },
    "kernelspec": {
      "name": "python3",
      "display_name": "Python 3"
    }
  },
  "cells": [
    {
      "cell_type": "markdown",
      "metadata": {
        "id": "view-in-github",
        "colab_type": "text"
      },
      "source": [
        "<a href=\"https://colab.research.google.com/github/mayanrajesh/Programming_MS/blob/main/Web_scrapping_amazon.ipynb\" target=\"_parent\"><img src=\"https://colab.research.google.com/assets/colab-badge.svg\" alt=\"Open In Colab\"/></a>"
      ]
    },
    {
      "cell_type": "code",
      "metadata": {
        "id": "3iP_DE9gV0JK"
      },
      "source": [
        "#Author: Abhishek Kaushik\n",
        "#ModifiedBy: Rajesh Kumar"
      ],
      "execution_count": null,
      "outputs": []
    },
    {
      "cell_type": "code",
      "metadata": {
        "colab": {
          "base_uri": "https://localhost:8080/"
        },
        "id": "DR24AiKxQpLp",
        "outputId": "f5170fe9-a9ad-42d8-d45f-da647b7e9d2d"
      },
      "source": [
        "#Installing beautiful soap\n",
        "!pip install beautifulsoup4"
      ],
      "execution_count": 2,
      "outputs": [
        {
          "output_type": "stream",
          "text": [
            "Requirement already satisfied: beautifulsoup4 in /usr/local/lib/python3.6/dist-packages (4.6.3)\n"
          ],
          "name": "stdout"
        }
      ]
    },
    {
      "cell_type": "code",
      "metadata": {
        "id": "4cCP_i1UQ25N"
      },
      "source": [
        "#import library\n",
        "from bs4 import BeautifulSoup as bs\n"
      ],
      "execution_count": 3,
      "outputs": []
    },
    {
      "cell_type": "code",
      "metadata": {
        "id": "8y39DODWRC9-"
      },
      "source": [
        "#import library requests to make a connection to webpage\n",
        "import requests"
      ],
      "execution_count": 4,
      "outputs": []
    },
    {
      "cell_type": "code",
      "metadata": {
        "id": "4DZKbUl9e5b3"
      },
      "source": [
        "#import library for pandas for data framing\n",
        "import pandas as pd"
      ],
      "execution_count": 5,
      "outputs": []
    },
    {
      "cell_type": "code",
      "metadata": {
        "colab": {
          "base_uri": "https://localhost:8080/"
        },
        "id": "OB3_T0DTR3jW",
        "outputId": "3deb187e-0e54-495b-9f31-2756250c0dd7"
      },
      "source": [
        "#Amazon link to extract the customer feedback information\n",
        "link=\"https://www.amazon.in/WOW-Raw-Apple-Cider-Vinegar/product-reviews/B01AC9G656/ref=cm_cr_dp_d_show_all_btm?ie=UTF8&reviewerType=all_reviews\"\n",
        "\n",
        "#Build a connection\n",
        "page = requests.get(link)\n",
        "print(page) \n"
      ],
      "execution_count": 6,
      "outputs": [
        {
          "output_type": "stream",
          "text": [
            "<Response [200]>\n"
          ],
          "name": "stdout"
        }
      ]
    },
    {
      "cell_type": "code",
      "metadata": {
        "id": "zoLLJ-yLSqPs"
      },
      "source": [
        "# fetch the raw HTML content \n",
        "soup = bs(page.content,'html.parser')\n",
        "print(soup)\n"
      ],
      "execution_count": null,
      "outputs": []
    },
    {
      "cell_type": "code",
      "metadata": {
        "id": "3RnMmPkqcTQI"
      },
      "source": [
        "#The prettify() transform a Beautiful Soup parse tree into a pleasantly arranged Unicode string, with a different line for each tag\n",
        "soup.prettify()\n"
      ],
      "execution_count": null,
      "outputs": []
    },
    {
      "cell_type": "code",
      "metadata": {
        "colab": {
          "base_uri": "https://localhost:8080/"
        },
        "id": "s_i9WqJ87Z3W",
        "outputId": "a89d3d8c-2339-48ca-dbb3-7839ece99fec"
      },
      "source": [
        "# soup.title.string returns the titile of web page.\n",
        "Title=soup.title.string\n",
        "print(Title)"
      ],
      "execution_count": 9,
      "outputs": [
        {
          "output_type": "stream",
          "text": [
            "Amazon.in:Customer reviews: WOW Organic Raw Apple Cider Vinegar - with strand of mother - Not from concentrate - 750mL\n"
          ],
          "name": "stdout"
        }
      ]
    },
    {
      "cell_type": "code",
      "metadata": {
        "colab": {
          "base_uri": "https://localhost:8080/"
        },
        "id": "jqomDb8QdSz7",
        "outputId": "3fdbdcf1-31f3-41f2-f5b2-8131cfe7af24"
      },
      "source": [
        "#find_all  will find all content contains \"a-profile-name\" as a class in Span tag.\n",
        "Cnames = soup.find_all('span',class_='a-profile-name')\n",
        "Cnames"
      ],
      "execution_count": 11,
      "outputs": [
        {
          "output_type": "execute_result",
          "data": {
            "text/plain": [
              "[<span class=\"a-profile-name\">Amazon Customer</span>,\n",
              " <span class=\"a-profile-name\">Oli Paul</span>,\n",
              " <span class=\"a-profile-name\">Amazon Customer</span>,\n",
              " <span class=\"a-profile-name\">KD</span>,\n",
              " <span class=\"a-profile-name\">Paritosh Singh</span>,\n",
              " <span class=\"a-profile-name\">Oli Paul</span>,\n",
              " <span class=\"a-profile-name\">Gautam Nayak</span>,\n",
              " <span class=\"a-profile-name\">❤Aachu❤</span>,\n",
              " <span class=\"a-profile-name\">Hitesh</span>,\n",
              " <span class=\"a-profile-name\">Dev Patel</span>,\n",
              " <span class=\"a-profile-name\">Meet</span>,\n",
              " <span class=\"a-profile-name\">gulzar ahmed laskar</span>]"
            ]
          },
          "metadata": {
            "tags": []
          },
          "execution_count": 11
        }
      ]
    },
    {
      "cell_type": "code",
      "metadata": {
        "colab": {
          "base_uri": "https://localhost:8080/",
          "height": 421
        },
        "id": "sTPaJ8KqeaDp",
        "outputId": "cf9f2a82-d9f8-4d50-82a2-d8f6b6dc093f"
      },
      "source": [
        "#create empty list and store all the customer name.\n",
        "cust_name = []\n",
        "for i in range(0,len(Cnames)):\n",
        "  cust_name.append(Cnames[i].get_text()) #get_text() method used to get the text of a Beautiful Soup or a Tag object.\n",
        "#framing list data into column \"Customer_Name\"\n",
        "pd.DataFrame (cust_name,columns=['Customer_Name'])\n"
      ],
      "execution_count": 12,
      "outputs": [
        {
          "output_type": "execute_result",
          "data": {
            "text/html": [
              "<div>\n",
              "<style scoped>\n",
              "    .dataframe tbody tr th:only-of-type {\n",
              "        vertical-align: middle;\n",
              "    }\n",
              "\n",
              "    .dataframe tbody tr th {\n",
              "        vertical-align: top;\n",
              "    }\n",
              "\n",
              "    .dataframe thead th {\n",
              "        text-align: right;\n",
              "    }\n",
              "</style>\n",
              "<table border=\"1\" class=\"dataframe\">\n",
              "  <thead>\n",
              "    <tr style=\"text-align: right;\">\n",
              "      <th></th>\n",
              "      <th>Customer_Name</th>\n",
              "    </tr>\n",
              "  </thead>\n",
              "  <tbody>\n",
              "    <tr>\n",
              "      <th>0</th>\n",
              "      <td>Amazon Customer</td>\n",
              "    </tr>\n",
              "    <tr>\n",
              "      <th>1</th>\n",
              "      <td>Oli Paul</td>\n",
              "    </tr>\n",
              "    <tr>\n",
              "      <th>2</th>\n",
              "      <td>Amazon Customer</td>\n",
              "    </tr>\n",
              "    <tr>\n",
              "      <th>3</th>\n",
              "      <td>KD</td>\n",
              "    </tr>\n",
              "    <tr>\n",
              "      <th>4</th>\n",
              "      <td>Paritosh Singh</td>\n",
              "    </tr>\n",
              "    <tr>\n",
              "      <th>5</th>\n",
              "      <td>Oli Paul</td>\n",
              "    </tr>\n",
              "    <tr>\n",
              "      <th>6</th>\n",
              "      <td>Gautam Nayak</td>\n",
              "    </tr>\n",
              "    <tr>\n",
              "      <th>7</th>\n",
              "      <td>❤Aachu❤</td>\n",
              "    </tr>\n",
              "    <tr>\n",
              "      <th>8</th>\n",
              "      <td>Hitesh</td>\n",
              "    </tr>\n",
              "    <tr>\n",
              "      <th>9</th>\n",
              "      <td>Dev Patel</td>\n",
              "    </tr>\n",
              "    <tr>\n",
              "      <th>10</th>\n",
              "      <td>Meet</td>\n",
              "    </tr>\n",
              "    <tr>\n",
              "      <th>11</th>\n",
              "      <td>gulzar ahmed laskar</td>\n",
              "    </tr>\n",
              "  </tbody>\n",
              "</table>\n",
              "</div>"
            ],
            "text/plain": [
              "          Customer_Name\n",
              "0       Amazon Customer\n",
              "1              Oli Paul\n",
              "2       Amazon Customer\n",
              "3                    KD\n",
              "4        Paritosh Singh\n",
              "5              Oli Paul\n",
              "6          Gautam Nayak\n",
              "7               ❤Aachu❤\n",
              "8                Hitesh\n",
              "9             Dev Patel\n",
              "10                 Meet\n",
              "11  gulzar ahmed laskar"
            ]
          },
          "metadata": {
            "tags": []
          },
          "execution_count": 12
        }
      ]
    },
    {
      "cell_type": "code",
      "metadata": {
        "colab": {
          "base_uri": "https://localhost:8080/"
        },
        "id": "52GJucWz3HKI",
        "outputId": "1493355b-301b-45f5-8679-00bc6a5f8ae2"
      },
      "source": [
        "#will find all content, contains \"review-title-content\" in anchor tag <a>.\n",
        "Ptitle = soup.find_all('a',class_='review-title-content')\n",
        "print(Ptitle)"
      ],
      "execution_count": 13,
      "outputs": [
        {
          "output_type": "stream",
          "text": [
            "[<a class=\"a-size-base a-link-normal review-title a-color-base review-title-content a-text-bold\" data-hook=\"review-title\" href=\"/gp/customer-reviews/R19ADJ450SLYG9?ASIN=B01AC9G656\">\n",
            "<span>Best Apple Cider</span>\n",
            "</a>, <a class=\"a-size-base a-link-normal review-title a-color-base review-title-content a-text-bold\" data-hook=\"review-title\" href=\"/gp/customer-reviews/R2FIG789KJ00FC?ASIN=B01AC9G656\">\n",
            "<span>Great product. Wait for the offer every month otherwise a bit overpriced.</span>\n",
            "</a>, <a class=\"a-size-base a-link-normal review-title a-color-base review-title-content a-text-bold\" data-hook=\"review-title\" href=\"/gp/customer-reviews/R283A2VFRXQD2?ASIN=B01AC9G656\">\n",
            "<span>Great for improving digestion</span>\n",
            "</a>, <a class=\"a-size-base a-link-normal review-title a-color-base review-title-content a-text-bold\" data-hook=\"review-title\" href=\"/gp/customer-reviews/R341JQB7YQ3W03?ASIN=B01AC9G656\">\n",
            "<span>Different in colour</span>\n",
            "</a>, <a class=\"a-size-base a-link-normal review-title a-color-base review-title-content a-text-bold\" data-hook=\"review-title\" href=\"/gp/customer-reviews/R26D7QY4C3OM9S?ASIN=B01AC9G656\">\n",
            "<span>Substandard and diluted</span>\n",
            "</a>, <a class=\"a-size-base a-link-normal review-title a-color-base review-title-content a-text-bold\" data-hook=\"review-title\" href=\"/gp/customer-reviews/R1SIKF2HN98AOE?ASIN=B01AC9G656\">\n",
            "<span>Best 4 weight loss</span>\n",
            "</a>, <a class=\"a-size-base a-link-normal review-title a-color-base review-title-content a-text-bold\" data-hook=\"review-title\" href=\"/gp/customer-reviews/RLRMW7WSPMQB8?ASIN=B01AC9G656\">\n",
            "<span>Best Quality with excellent Results</span>\n",
            "</a>, <a class=\"a-size-base a-link-normal review-title a-color-base review-title-content a-text-bold\" data-hook=\"review-title\" href=\"/gp/customer-reviews/R1S88HA5KPUC1H?ASIN=B01AC9G656\">\n",
            "<span>My health has improved!</span>\n",
            "</a>, <a class=\"a-size-base a-link-normal review-title a-color-base review-title-content a-text-bold\" data-hook=\"review-title\" href=\"/gp/customer-reviews/R3L0KR3QEGHHE3?ASIN=B01AC9G656\">\n",
            "<span>Pure and quality product</span>\n",
            "</a>, <a class=\"a-size-base a-link-normal review-title a-color-base review-title-content a-text-bold\" data-hook=\"review-title\" href=\"/gp/customer-reviews/RNPOVRIF7R77A?ASIN=B01AC9G656\">\n",
            "<span>Mantra for good Health,100% Pure and Genuine Product</span>\n",
            "</a>]\n"
          ],
          "name": "stdout"
        }
      ]
    },
    {
      "cell_type": "code",
      "metadata": {
        "colab": {
          "base_uri": "https://localhost:8080/"
        },
        "id": "PcA2WTXR3vhe",
        "outputId": "8ffdeb2d-6fd2-4c1a-f2a3-5a291dc73113"
      },
      "source": [
        "#appending all the review title in a list using append and get_text method.\n",
        "review_title = []\n",
        "for i in range(0,len(Ptitle)):\n",
        "  review_title.append(Ptitle[i].get_text())\n",
        "\n",
        "print(review_title)\n"
      ],
      "execution_count": 14,
      "outputs": [
        {
          "output_type": "stream",
          "text": [
            "['\\nBest Apple Cider\\n', '\\nGreat product. Wait for the offer every month otherwise a bit overpriced.\\n', '\\nGreat for improving digestion\\n', '\\nDifferent in colour\\n', '\\nSubstandard and diluted\\n', '\\nBest 4 weight loss\\n', '\\nBest Quality with excellent Results\\n', '\\nMy health has improved!\\n', '\\nPure and quality product\\n', '\\nMantra for good Health,100% Pure and Genuine Product\\n']\n"
          ],
          "name": "stdout"
        }
      ]
    },
    {
      "cell_type": "code",
      "metadata": {
        "colab": {
          "base_uri": "https://localhost:8080/"
        },
        "id": "xE0jkbHu6NUx",
        "outputId": "c68b27cf-0122-4209-96a2-76b055e07daa"
      },
      "source": [
        "#lstrip and rstrip method is used to delete all the leading characters\n",
        "review_title[:] = [titles.lstrip('\\n') for titles in review_title] #remove left side leading characters (\\n)\n",
        "review_title[:] = [titles.rstrip('\\n') for titles in review_title] #remove right side leading characters(\\n)\n",
        "review_title"
      ],
      "execution_count": 15,
      "outputs": [
        {
          "output_type": "execute_result",
          "data": {
            "text/plain": [
              "['Best Apple Cider',\n",
              " 'Great product. Wait for the offer every month otherwise a bit overpriced.',\n",
              " 'Great for improving digestion',\n",
              " 'Different in colour',\n",
              " 'Substandard and diluted',\n",
              " 'Best 4 weight loss',\n",
              " 'Best Quality with excellent Results',\n",
              " 'My health has improved!',\n",
              " 'Pure and quality product',\n",
              " 'Mantra for good Health,100% Pure and Genuine Product']"
            ]
          },
          "metadata": {
            "tags": []
          },
          "execution_count": 15
        }
      ]
    },
    {
      "cell_type": "code",
      "metadata": {
        "colab": {
          "base_uri": "https://localhost:8080/",
          "height": 359
        },
        "id": "awkWNSeG9zre",
        "outputId": "f2a02b3b-72c0-4a6c-fa59-e46f70c4a657"
      },
      "source": [
        "#framing list data into column \"Review_Title\"\n",
        "pd.DataFrame (review_title,columns=['Review_Title'])"
      ],
      "execution_count": 16,
      "outputs": [
        {
          "output_type": "execute_result",
          "data": {
            "text/html": [
              "<div>\n",
              "<style scoped>\n",
              "    .dataframe tbody tr th:only-of-type {\n",
              "        vertical-align: middle;\n",
              "    }\n",
              "\n",
              "    .dataframe tbody tr th {\n",
              "        vertical-align: top;\n",
              "    }\n",
              "\n",
              "    .dataframe thead th {\n",
              "        text-align: right;\n",
              "    }\n",
              "</style>\n",
              "<table border=\"1\" class=\"dataframe\">\n",
              "  <thead>\n",
              "    <tr style=\"text-align: right;\">\n",
              "      <th></th>\n",
              "      <th>Review_Title</th>\n",
              "    </tr>\n",
              "  </thead>\n",
              "  <tbody>\n",
              "    <tr>\n",
              "      <th>0</th>\n",
              "      <td>Best Apple Cider</td>\n",
              "    </tr>\n",
              "    <tr>\n",
              "      <th>1</th>\n",
              "      <td>Great product. Wait for the offer every month ...</td>\n",
              "    </tr>\n",
              "    <tr>\n",
              "      <th>2</th>\n",
              "      <td>Great for improving digestion</td>\n",
              "    </tr>\n",
              "    <tr>\n",
              "      <th>3</th>\n",
              "      <td>Different in colour</td>\n",
              "    </tr>\n",
              "    <tr>\n",
              "      <th>4</th>\n",
              "      <td>Substandard and diluted</td>\n",
              "    </tr>\n",
              "    <tr>\n",
              "      <th>5</th>\n",
              "      <td>Best 4 weight loss</td>\n",
              "    </tr>\n",
              "    <tr>\n",
              "      <th>6</th>\n",
              "      <td>Best Quality with excellent Results</td>\n",
              "    </tr>\n",
              "    <tr>\n",
              "      <th>7</th>\n",
              "      <td>My health has improved!</td>\n",
              "    </tr>\n",
              "    <tr>\n",
              "      <th>8</th>\n",
              "      <td>Pure and quality product</td>\n",
              "    </tr>\n",
              "    <tr>\n",
              "      <th>9</th>\n",
              "      <td>Mantra for good Health,100% Pure and Genuine P...</td>\n",
              "    </tr>\n",
              "  </tbody>\n",
              "</table>\n",
              "</div>"
            ],
            "text/plain": [
              "                                        Review_Title\n",
              "0                                   Best Apple Cider\n",
              "1  Great product. Wait for the offer every month ...\n",
              "2                      Great for improving digestion\n",
              "3                                Different in colour\n",
              "4                            Substandard and diluted\n",
              "5                                 Best 4 weight loss\n",
              "6                Best Quality with excellent Results\n",
              "7                            My health has improved!\n",
              "8                           Pure and quality product\n",
              "9  Mantra for good Health,100% Pure and Genuine P..."
            ]
          },
          "metadata": {
            "tags": []
          },
          "execution_count": 16
        }
      ]
    },
    {
      "cell_type": "code",
      "metadata": {
        "colab": {
          "base_uri": "https://localhost:8080/",
          "height": 196
        },
        "id": "UKBr55MoByZV",
        "outputId": "7daa7884-b367-443a-be54-803d7665afd6"
      },
      "source": [
        "#create datafram to assign both column in one frame\n",
        "data=pd.DataFrame ([cust_name,review_title]) #will create frame with each list as row.\n",
        "data"
      ],
      "execution_count": 17,
      "outputs": [
        {
          "output_type": "execute_result",
          "data": {
            "text/html": [
              "<div>\n",
              "<style scoped>\n",
              "    .dataframe tbody tr th:only-of-type {\n",
              "        vertical-align: middle;\n",
              "    }\n",
              "\n",
              "    .dataframe tbody tr th {\n",
              "        vertical-align: top;\n",
              "    }\n",
              "\n",
              "    .dataframe thead th {\n",
              "        text-align: right;\n",
              "    }\n",
              "</style>\n",
              "<table border=\"1\" class=\"dataframe\">\n",
              "  <thead>\n",
              "    <tr style=\"text-align: right;\">\n",
              "      <th></th>\n",
              "      <th>0</th>\n",
              "      <th>1</th>\n",
              "      <th>2</th>\n",
              "      <th>3</th>\n",
              "      <th>4</th>\n",
              "      <th>5</th>\n",
              "      <th>6</th>\n",
              "      <th>7</th>\n",
              "      <th>8</th>\n",
              "      <th>9</th>\n",
              "      <th>10</th>\n",
              "      <th>11</th>\n",
              "    </tr>\n",
              "  </thead>\n",
              "  <tbody>\n",
              "    <tr>\n",
              "      <th>0</th>\n",
              "      <td>Amazon Customer</td>\n",
              "      <td>Oli Paul</td>\n",
              "      <td>Amazon Customer</td>\n",
              "      <td>KD</td>\n",
              "      <td>Paritosh Singh</td>\n",
              "      <td>Oli Paul</td>\n",
              "      <td>Gautam Nayak</td>\n",
              "      <td>❤Aachu❤</td>\n",
              "      <td>Hitesh</td>\n",
              "      <td>Dev Patel</td>\n",
              "      <td>Meet</td>\n",
              "      <td>gulzar ahmed laskar</td>\n",
              "    </tr>\n",
              "    <tr>\n",
              "      <th>1</th>\n",
              "      <td>Best Apple Cider</td>\n",
              "      <td>Great product. Wait for the offer every month ...</td>\n",
              "      <td>Great for improving digestion</td>\n",
              "      <td>Different in colour</td>\n",
              "      <td>Substandard and diluted</td>\n",
              "      <td>Best 4 weight loss</td>\n",
              "      <td>Best Quality with excellent Results</td>\n",
              "      <td>My health has improved!</td>\n",
              "      <td>Pure and quality product</td>\n",
              "      <td>Mantra for good Health,100% Pure and Genuine P...</td>\n",
              "      <td>None</td>\n",
              "      <td>None</td>\n",
              "    </tr>\n",
              "  </tbody>\n",
              "</table>\n",
              "</div>"
            ],
            "text/plain": [
              "                 0   ...                   11\n",
              "0   Amazon Customer  ...  gulzar ahmed laskar\n",
              "1  Best Apple Cider  ...                 None\n",
              "\n",
              "[2 rows x 12 columns]"
            ]
          },
          "metadata": {
            "tags": []
          },
          "execution_count": 17
        }
      ]
    },
    {
      "cell_type": "code",
      "metadata": {
        "colab": {
          "base_uri": "https://localhost:8080/",
          "height": 421
        },
        "id": "sLK11taTDXge",
        "outputId": "c9f41411-cf4c-4874-eb42-2029c336a2d9"
      },
      "source": [
        "#transposing all the row as column\n",
        "data=data.transpose() #transpose row as column \n",
        "data.columns=['Names','title']\n",
        "data"
      ],
      "execution_count": 18,
      "outputs": [
        {
          "output_type": "execute_result",
          "data": {
            "text/html": [
              "<div>\n",
              "<style scoped>\n",
              "    .dataframe tbody tr th:only-of-type {\n",
              "        vertical-align: middle;\n",
              "    }\n",
              "\n",
              "    .dataframe tbody tr th {\n",
              "        vertical-align: top;\n",
              "    }\n",
              "\n",
              "    .dataframe thead th {\n",
              "        text-align: right;\n",
              "    }\n",
              "</style>\n",
              "<table border=\"1\" class=\"dataframe\">\n",
              "  <thead>\n",
              "    <tr style=\"text-align: right;\">\n",
              "      <th></th>\n",
              "      <th>Names</th>\n",
              "      <th>title</th>\n",
              "    </tr>\n",
              "  </thead>\n",
              "  <tbody>\n",
              "    <tr>\n",
              "      <th>0</th>\n",
              "      <td>Amazon Customer</td>\n",
              "      <td>Best Apple Cider</td>\n",
              "    </tr>\n",
              "    <tr>\n",
              "      <th>1</th>\n",
              "      <td>Oli Paul</td>\n",
              "      <td>Great product. Wait for the offer every month ...</td>\n",
              "    </tr>\n",
              "    <tr>\n",
              "      <th>2</th>\n",
              "      <td>Amazon Customer</td>\n",
              "      <td>Great for improving digestion</td>\n",
              "    </tr>\n",
              "    <tr>\n",
              "      <th>3</th>\n",
              "      <td>KD</td>\n",
              "      <td>Different in colour</td>\n",
              "    </tr>\n",
              "    <tr>\n",
              "      <th>4</th>\n",
              "      <td>Paritosh Singh</td>\n",
              "      <td>Substandard and diluted</td>\n",
              "    </tr>\n",
              "    <tr>\n",
              "      <th>5</th>\n",
              "      <td>Oli Paul</td>\n",
              "      <td>Best 4 weight loss</td>\n",
              "    </tr>\n",
              "    <tr>\n",
              "      <th>6</th>\n",
              "      <td>Gautam Nayak</td>\n",
              "      <td>Best Quality with excellent Results</td>\n",
              "    </tr>\n",
              "    <tr>\n",
              "      <th>7</th>\n",
              "      <td>❤Aachu❤</td>\n",
              "      <td>My health has improved!</td>\n",
              "    </tr>\n",
              "    <tr>\n",
              "      <th>8</th>\n",
              "      <td>Hitesh</td>\n",
              "      <td>Pure and quality product</td>\n",
              "    </tr>\n",
              "    <tr>\n",
              "      <th>9</th>\n",
              "      <td>Dev Patel</td>\n",
              "      <td>Mantra for good Health,100% Pure and Genuine P...</td>\n",
              "    </tr>\n",
              "    <tr>\n",
              "      <th>10</th>\n",
              "      <td>Meet</td>\n",
              "      <td>None</td>\n",
              "    </tr>\n",
              "    <tr>\n",
              "      <th>11</th>\n",
              "      <td>gulzar ahmed laskar</td>\n",
              "      <td>None</td>\n",
              "    </tr>\n",
              "  </tbody>\n",
              "</table>\n",
              "</div>"
            ],
            "text/plain": [
              "                  Names                                              title\n",
              "0       Amazon Customer                                   Best Apple Cider\n",
              "1              Oli Paul  Great product. Wait for the offer every month ...\n",
              "2       Amazon Customer                      Great for improving digestion\n",
              "3                    KD                                Different in colour\n",
              "4        Paritosh Singh                            Substandard and diluted\n",
              "5              Oli Paul                                 Best 4 weight loss\n",
              "6          Gautam Nayak                Best Quality with excellent Results\n",
              "7               ❤Aachu❤                            My health has improved!\n",
              "8                Hitesh                           Pure and quality product\n",
              "9             Dev Patel  Mantra for good Health,100% Pure and Genuine P...\n",
              "10                 Meet                                               None\n",
              "11  gulzar ahmed laskar                                               None"
            ]
          },
          "metadata": {
            "tags": []
          },
          "execution_count": 18
        }
      ]
    },
    {
      "cell_type": "code",
      "metadata": {
        "colab": {
          "base_uri": "https://localhost:8080/"
        },
        "id": "MXUWiZcjD02p",
        "outputId": "3a95d4e8-7d1d-4f30-881c-9163e9adb90d"
      },
      "source": [
        "#<i> tag defines a part of text \n",
        "#will find all content, contains \"review-rating\" available in tag <i>.\n",
        "Prating = soup.find_all('i',class_='review-rating')\n",
        "Prating"
      ],
      "execution_count": 19,
      "outputs": [
        {
          "output_type": "execute_result",
          "data": {
            "text/plain": [
              "[<i class=\"a-icon a-icon-star a-star-5 review-rating\" data-hook=\"review-star-rating-view-point\"><span class=\"a-icon-alt\">5.0 out of 5 stars</span></i>,\n",
              " <i class=\"a-icon a-icon-star a-star-1 review-rating\" data-hook=\"review-star-rating-view-point\"><span class=\"a-icon-alt\">1.0 out of 5 stars</span></i>,\n",
              " <i class=\"a-icon a-icon-star a-star-5 review-rating\" data-hook=\"review-star-rating\"><span class=\"a-icon-alt\">5.0 out of 5 stars</span></i>,\n",
              " <i class=\"a-icon a-icon-star a-star-5 review-rating\" data-hook=\"review-star-rating\"><span class=\"a-icon-alt\">5.0 out of 5 stars</span></i>,\n",
              " <i class=\"a-icon a-icon-star a-star-5 review-rating\" data-hook=\"review-star-rating\"><span class=\"a-icon-alt\">5.0 out of 5 stars</span></i>,\n",
              " <i class=\"a-icon a-icon-star a-star-1 review-rating\" data-hook=\"review-star-rating\"><span class=\"a-icon-alt\">1.0 out of 5 stars</span></i>,\n",
              " <i class=\"a-icon a-icon-star a-star-1 review-rating\" data-hook=\"review-star-rating\"><span class=\"a-icon-alt\">1.0 out of 5 stars</span></i>,\n",
              " <i class=\"a-icon a-icon-star a-star-5 review-rating\" data-hook=\"review-star-rating\"><span class=\"a-icon-alt\">5.0 out of 5 stars</span></i>,\n",
              " <i class=\"a-icon a-icon-star a-star-5 review-rating\" data-hook=\"review-star-rating\"><span class=\"a-icon-alt\">5.0 out of 5 stars</span></i>,\n",
              " <i class=\"a-icon a-icon-star a-star-5 review-rating\" data-hook=\"review-star-rating\"><span class=\"a-icon-alt\">5.0 out of 5 stars</span></i>,\n",
              " <i class=\"a-icon a-icon-star a-star-5 review-rating\" data-hook=\"review-star-rating\"><span class=\"a-icon-alt\">5.0 out of 5 stars</span></i>,\n",
              " <i class=\"a-icon a-icon-star a-star-5 review-rating\" data-hook=\"review-star-rating\"><span class=\"a-icon-alt\">5.0 out of 5 stars</span></i>]"
            ]
          },
          "metadata": {
            "tags": []
          },
          "execution_count": 19
        }
      ]
    },
    {
      "cell_type": "code",
      "metadata": {
        "colab": {
          "base_uri": "https://localhost:8080/"
        },
        "id": "z9c9t06IHP83",
        "outputId": "ec34b234-74a0-4ce1-cde7-a0552954bbc2"
      },
      "source": [
        "#appending all the rating in a list using append and get_text method.\n",
        "rate = []\n",
        "for i in range(0,len(Prating)):\n",
        "  rate.append(Prating[i].get_text())\n",
        "rate"
      ],
      "execution_count": 20,
      "outputs": [
        {
          "output_type": "execute_result",
          "data": {
            "text/plain": [
              "['5.0 out of 5 stars',\n",
              " '1.0 out of 5 stars',\n",
              " '5.0 out of 5 stars',\n",
              " '5.0 out of 5 stars',\n",
              " '5.0 out of 5 stars',\n",
              " '1.0 out of 5 stars',\n",
              " '1.0 out of 5 stars',\n",
              " '5.0 out of 5 stars',\n",
              " '5.0 out of 5 stars',\n",
              " '5.0 out of 5 stars',\n",
              " '5.0 out of 5 stars',\n",
              " '5.0 out of 5 stars']"
            ]
          },
          "metadata": {
            "tags": []
          },
          "execution_count": 20
        }
      ]
    },
    {
      "cell_type": "code",
      "metadata": {
        "colab": {
          "base_uri": "https://localhost:8080/",
          "height": 421
        },
        "id": "VVo9pfryHsRq",
        "outputId": "121ffd00-68e2-4471-c1c6-5a7d4ff007d1"
      },
      "source": [
        "#framing list data into column \"Review_Title\"\n",
        "pd.DataFrame (rate,columns=['Ratings'])"
      ],
      "execution_count": 21,
      "outputs": [
        {
          "output_type": "execute_result",
          "data": {
            "text/html": [
              "<div>\n",
              "<style scoped>\n",
              "    .dataframe tbody tr th:only-of-type {\n",
              "        vertical-align: middle;\n",
              "    }\n",
              "\n",
              "    .dataframe tbody tr th {\n",
              "        vertical-align: top;\n",
              "    }\n",
              "\n",
              "    .dataframe thead th {\n",
              "        text-align: right;\n",
              "    }\n",
              "</style>\n",
              "<table border=\"1\" class=\"dataframe\">\n",
              "  <thead>\n",
              "    <tr style=\"text-align: right;\">\n",
              "      <th></th>\n",
              "      <th>Ratings</th>\n",
              "    </tr>\n",
              "  </thead>\n",
              "  <tbody>\n",
              "    <tr>\n",
              "      <th>0</th>\n",
              "      <td>5.0 out of 5 stars</td>\n",
              "    </tr>\n",
              "    <tr>\n",
              "      <th>1</th>\n",
              "      <td>1.0 out of 5 stars</td>\n",
              "    </tr>\n",
              "    <tr>\n",
              "      <th>2</th>\n",
              "      <td>5.0 out of 5 stars</td>\n",
              "    </tr>\n",
              "    <tr>\n",
              "      <th>3</th>\n",
              "      <td>5.0 out of 5 stars</td>\n",
              "    </tr>\n",
              "    <tr>\n",
              "      <th>4</th>\n",
              "      <td>5.0 out of 5 stars</td>\n",
              "    </tr>\n",
              "    <tr>\n",
              "      <th>5</th>\n",
              "      <td>1.0 out of 5 stars</td>\n",
              "    </tr>\n",
              "    <tr>\n",
              "      <th>6</th>\n",
              "      <td>1.0 out of 5 stars</td>\n",
              "    </tr>\n",
              "    <tr>\n",
              "      <th>7</th>\n",
              "      <td>5.0 out of 5 stars</td>\n",
              "    </tr>\n",
              "    <tr>\n",
              "      <th>8</th>\n",
              "      <td>5.0 out of 5 stars</td>\n",
              "    </tr>\n",
              "    <tr>\n",
              "      <th>9</th>\n",
              "      <td>5.0 out of 5 stars</td>\n",
              "    </tr>\n",
              "    <tr>\n",
              "      <th>10</th>\n",
              "      <td>5.0 out of 5 stars</td>\n",
              "    </tr>\n",
              "    <tr>\n",
              "      <th>11</th>\n",
              "      <td>5.0 out of 5 stars</td>\n",
              "    </tr>\n",
              "  </tbody>\n",
              "</table>\n",
              "</div>"
            ],
            "text/plain": [
              "               Ratings\n",
              "0   5.0 out of 5 stars\n",
              "1   1.0 out of 5 stars\n",
              "2   5.0 out of 5 stars\n",
              "3   5.0 out of 5 stars\n",
              "4   5.0 out of 5 stars\n",
              "5   1.0 out of 5 stars\n",
              "6   1.0 out of 5 stars\n",
              "7   5.0 out of 5 stars\n",
              "8   5.0 out of 5 stars\n",
              "9   5.0 out of 5 stars\n",
              "10  5.0 out of 5 stars\n",
              "11  5.0 out of 5 stars"
            ]
          },
          "metadata": {
            "tags": []
          },
          "execution_count": 21
        }
      ]
    },
    {
      "cell_type": "code",
      "metadata": {
        "colab": {
          "base_uri": "https://localhost:8080/",
          "height": 278
        },
        "id": "DBDURwxJH6sk",
        "outputId": "7bebdcd4-b35f-4752-ea1f-dbd3c06e0d03"
      },
      "source": [
        "#create datafram to assign both column in one frame\n",
        "data=pd.DataFrame ([cust_name,review_title,rate]) #will create frame with each list as row.\n",
        "data\n"
      ],
      "execution_count": 22,
      "outputs": [
        {
          "output_type": "execute_result",
          "data": {
            "text/html": [
              "<div>\n",
              "<style scoped>\n",
              "    .dataframe tbody tr th:only-of-type {\n",
              "        vertical-align: middle;\n",
              "    }\n",
              "\n",
              "    .dataframe tbody tr th {\n",
              "        vertical-align: top;\n",
              "    }\n",
              "\n",
              "    .dataframe thead th {\n",
              "        text-align: right;\n",
              "    }\n",
              "</style>\n",
              "<table border=\"1\" class=\"dataframe\">\n",
              "  <thead>\n",
              "    <tr style=\"text-align: right;\">\n",
              "      <th></th>\n",
              "      <th>0</th>\n",
              "      <th>1</th>\n",
              "      <th>2</th>\n",
              "      <th>3</th>\n",
              "      <th>4</th>\n",
              "      <th>5</th>\n",
              "      <th>6</th>\n",
              "      <th>7</th>\n",
              "      <th>8</th>\n",
              "      <th>9</th>\n",
              "      <th>10</th>\n",
              "      <th>11</th>\n",
              "    </tr>\n",
              "  </thead>\n",
              "  <tbody>\n",
              "    <tr>\n",
              "      <th>0</th>\n",
              "      <td>Amazon Customer</td>\n",
              "      <td>Oli Paul</td>\n",
              "      <td>Amazon Customer</td>\n",
              "      <td>KD</td>\n",
              "      <td>Paritosh Singh</td>\n",
              "      <td>Oli Paul</td>\n",
              "      <td>Gautam Nayak</td>\n",
              "      <td>❤Aachu❤</td>\n",
              "      <td>Hitesh</td>\n",
              "      <td>Dev Patel</td>\n",
              "      <td>Meet</td>\n",
              "      <td>gulzar ahmed laskar</td>\n",
              "    </tr>\n",
              "    <tr>\n",
              "      <th>1</th>\n",
              "      <td>Best Apple Cider</td>\n",
              "      <td>Great product. Wait for the offer every month ...</td>\n",
              "      <td>Great for improving digestion</td>\n",
              "      <td>Different in colour</td>\n",
              "      <td>Substandard and diluted</td>\n",
              "      <td>Best 4 weight loss</td>\n",
              "      <td>Best Quality with excellent Results</td>\n",
              "      <td>My health has improved!</td>\n",
              "      <td>Pure and quality product</td>\n",
              "      <td>Mantra for good Health,100% Pure and Genuine P...</td>\n",
              "      <td>None</td>\n",
              "      <td>None</td>\n",
              "    </tr>\n",
              "    <tr>\n",
              "      <th>2</th>\n",
              "      <td>5.0 out of 5 stars</td>\n",
              "      <td>1.0 out of 5 stars</td>\n",
              "      <td>5.0 out of 5 stars</td>\n",
              "      <td>5.0 out of 5 stars</td>\n",
              "      <td>5.0 out of 5 stars</td>\n",
              "      <td>1.0 out of 5 stars</td>\n",
              "      <td>1.0 out of 5 stars</td>\n",
              "      <td>5.0 out of 5 stars</td>\n",
              "      <td>5.0 out of 5 stars</td>\n",
              "      <td>5.0 out of 5 stars</td>\n",
              "      <td>5.0 out of 5 stars</td>\n",
              "      <td>5.0 out of 5 stars</td>\n",
              "    </tr>\n",
              "  </tbody>\n",
              "</table>\n",
              "</div>"
            ],
            "text/plain": [
              "                   0   ...                   11\n",
              "0     Amazon Customer  ...  gulzar ahmed laskar\n",
              "1    Best Apple Cider  ...                 None\n",
              "2  5.0 out of 5 stars  ...   5.0 out of 5 stars\n",
              "\n",
              "[3 rows x 12 columns]"
            ]
          },
          "metadata": {
            "tags": []
          },
          "execution_count": 22
        }
      ]
    },
    {
      "cell_type": "code",
      "metadata": {
        "colab": {
          "base_uri": "https://localhost:8080/",
          "height": 421
        },
        "id": "4bViIIFbIHTX",
        "outputId": "ac0213b1-64e7-4754-b341-121b3476bc7f"
      },
      "source": [
        "#transposing all the row as column\n",
        "data=data.transpose() #transpose row as column \n",
        "data.columns=['Names','Title','Ratings']\n",
        "data"
      ],
      "execution_count": 23,
      "outputs": [
        {
          "output_type": "execute_result",
          "data": {
            "text/html": [
              "<div>\n",
              "<style scoped>\n",
              "    .dataframe tbody tr th:only-of-type {\n",
              "        vertical-align: middle;\n",
              "    }\n",
              "\n",
              "    .dataframe tbody tr th {\n",
              "        vertical-align: top;\n",
              "    }\n",
              "\n",
              "    .dataframe thead th {\n",
              "        text-align: right;\n",
              "    }\n",
              "</style>\n",
              "<table border=\"1\" class=\"dataframe\">\n",
              "  <thead>\n",
              "    <tr style=\"text-align: right;\">\n",
              "      <th></th>\n",
              "      <th>Names</th>\n",
              "      <th>Title</th>\n",
              "      <th>Ratings</th>\n",
              "    </tr>\n",
              "  </thead>\n",
              "  <tbody>\n",
              "    <tr>\n",
              "      <th>0</th>\n",
              "      <td>Amazon Customer</td>\n",
              "      <td>Best Apple Cider</td>\n",
              "      <td>5.0 out of 5 stars</td>\n",
              "    </tr>\n",
              "    <tr>\n",
              "      <th>1</th>\n",
              "      <td>Oli Paul</td>\n",
              "      <td>Great product. Wait for the offer every month ...</td>\n",
              "      <td>1.0 out of 5 stars</td>\n",
              "    </tr>\n",
              "    <tr>\n",
              "      <th>2</th>\n",
              "      <td>Amazon Customer</td>\n",
              "      <td>Great for improving digestion</td>\n",
              "      <td>5.0 out of 5 stars</td>\n",
              "    </tr>\n",
              "    <tr>\n",
              "      <th>3</th>\n",
              "      <td>KD</td>\n",
              "      <td>Different in colour</td>\n",
              "      <td>5.0 out of 5 stars</td>\n",
              "    </tr>\n",
              "    <tr>\n",
              "      <th>4</th>\n",
              "      <td>Paritosh Singh</td>\n",
              "      <td>Substandard and diluted</td>\n",
              "      <td>5.0 out of 5 stars</td>\n",
              "    </tr>\n",
              "    <tr>\n",
              "      <th>5</th>\n",
              "      <td>Oli Paul</td>\n",
              "      <td>Best 4 weight loss</td>\n",
              "      <td>1.0 out of 5 stars</td>\n",
              "    </tr>\n",
              "    <tr>\n",
              "      <th>6</th>\n",
              "      <td>Gautam Nayak</td>\n",
              "      <td>Best Quality with excellent Results</td>\n",
              "      <td>1.0 out of 5 stars</td>\n",
              "    </tr>\n",
              "    <tr>\n",
              "      <th>7</th>\n",
              "      <td>❤Aachu❤</td>\n",
              "      <td>My health has improved!</td>\n",
              "      <td>5.0 out of 5 stars</td>\n",
              "    </tr>\n",
              "    <tr>\n",
              "      <th>8</th>\n",
              "      <td>Hitesh</td>\n",
              "      <td>Pure and quality product</td>\n",
              "      <td>5.0 out of 5 stars</td>\n",
              "    </tr>\n",
              "    <tr>\n",
              "      <th>9</th>\n",
              "      <td>Dev Patel</td>\n",
              "      <td>Mantra for good Health,100% Pure and Genuine P...</td>\n",
              "      <td>5.0 out of 5 stars</td>\n",
              "    </tr>\n",
              "    <tr>\n",
              "      <th>10</th>\n",
              "      <td>Meet</td>\n",
              "      <td>None</td>\n",
              "      <td>5.0 out of 5 stars</td>\n",
              "    </tr>\n",
              "    <tr>\n",
              "      <th>11</th>\n",
              "      <td>gulzar ahmed laskar</td>\n",
              "      <td>None</td>\n",
              "      <td>5.0 out of 5 stars</td>\n",
              "    </tr>\n",
              "  </tbody>\n",
              "</table>\n",
              "</div>"
            ],
            "text/plain": [
              "                  Names  ...             Ratings\n",
              "0       Amazon Customer  ...  5.0 out of 5 stars\n",
              "1              Oli Paul  ...  1.0 out of 5 stars\n",
              "2       Amazon Customer  ...  5.0 out of 5 stars\n",
              "3                    KD  ...  5.0 out of 5 stars\n",
              "4        Paritosh Singh  ...  5.0 out of 5 stars\n",
              "5              Oli Paul  ...  1.0 out of 5 stars\n",
              "6          Gautam Nayak  ...  1.0 out of 5 stars\n",
              "7               ❤Aachu❤  ...  5.0 out of 5 stars\n",
              "8                Hitesh  ...  5.0 out of 5 stars\n",
              "9             Dev Patel  ...  5.0 out of 5 stars\n",
              "10                 Meet  ...  5.0 out of 5 stars\n",
              "11  gulzar ahmed laskar  ...  5.0 out of 5 stars\n",
              "\n",
              "[12 rows x 3 columns]"
            ]
          },
          "metadata": {
            "tags": []
          },
          "execution_count": 23
        }
      ]
    },
    {
      "cell_type": "code",
      "metadata": {
        "colab": {
          "base_uri": "https://localhost:8080/"
        },
        "id": "Yo3_jZ2XKkIK",
        "outputId": "1c7e72a1-94ce-46f1-de5a-24c68ce626d9"
      },
      "source": [
        "#will find all content, contains {data-hook\":\"review-body} available in tag <span>.\n",
        "review = soup.find_all(\"span\",{\"data-hook\":\"review-body\"}) \n",
        "review"
      ],
      "execution_count": 24,
      "outputs": [
        {
          "output_type": "execute_result",
          "data": {
            "text/plain": [
              "[<span class=\"a-size-base review-text review-text-content\" data-hook=\"review-body\">\n",
              " <span>\n",
              "   Really helped me with my digestion and sinus problems. Took it twice daily before or after meals - 2 spoon of cider with 2 spoons of honey in a glass of water.\n",
              " </span>\n",
              " </span>,\n",
              " <span class=\"a-size-base review-text review-text-content\" data-hook=\"review-body\">\n",
              " <span>\n",
              "   It's good and everything like the description says.<br/>Drink up 30-50 ml mixed in a cup of water early morning everyday. First time users will need some time to develop taste. For people who have never tasted wine/alcohol, this one is going to be a struggle to drink but it's very worth it. 😂\n",
              " </span>\n",
              " </span>,\n",
              " <span class=\"a-size-base review-text review-text-content\" data-hook=\"review-body\">\n",
              " <span>\n",
              "   Really good product. It is as same as mentioned in the description and the quantity is also enough for a usage of about 2 months. Helped me a lot in improving my digestive problems.\n",
              " </span>\n",
              " </span>,\n",
              " <span class=\"a-size-base review-text review-text-content\" data-hook=\"review-body\">\n",
              " <span>\n",
              "   I ordered two bottles at the same time but the colour of the vinegar varies. Am worried.\n",
              " </span>\n",
              " </span>,\n",
              " <span class=\"a-size-base review-text review-text-content\" data-hook=\"review-body\">\n",
              " <span>\n",
              "   This product is no more what it used to be earlier . Generally I don't write reviews however for the larger interest of other buyers thought to write this time . I have used this product earlier as well . It seems current lot is a fake one as it is very -very diluted so much so that it doesn't taste like vinegar at all . Not sure what to do with my bottle ,may be need to pour it in the drain . Will surely complain to Amazon about this cheating .\n",
              " </span>\n",
              " </span>,\n",
              " <span class=\"a-size-base review-text review-text-content\" data-hook=\"review-body\">\n",
              " <span>\n",
              "   Bought my 2nd bottle... I drink twice 2 reduce my weight... I hav reduced almost 3kg in 2 months wit my drink &amp; 60min walk... Everything takes time... I really love d products by WOW... And it improves ur skintone too... Pls drink lots of water in a day 4 even more better results...\n",
              " </span>\n",
              " </span>,\n",
              " <span class=\"a-size-base review-text review-text-content\" data-hook=\"review-body\">\n",
              " <span>\n",
              "   Ritesh Gupta - I've been using Wow ACV from past 3 months and i can say it has magically helped me stay fit &amp; Stay healthy.<br/>Ive also tried many other ACV before but none could match Wow Quality.<br/>Since I've started drinking it in the morning, I feel more Energetic and fit. It has helped me reduce weight and manage my blood sugar levels. The mother of vinegar in its product has a magic charm which evolves over the time..<br/><br/>Id highly recommend Wow ACV for anyone if you're serious about quality and results. Dont get infatuated with cheaper price of other brands and try it once. You won't get disappointed!\n",
              " </span>\n",
              " </span>,\n",
              " <span class=\"a-size-base review-text review-text-content\" data-hook=\"review-body\">\n",
              " <span>\n",
              "   I have been using ACV for 2 months now. And it has helped with hair, skin and weight loss. I lost 2 inches in two months. It works great if you have it on regular basis.\n",
              " </span>\n",
              " </span>,\n",
              " <span class=\"a-size-base review-text review-text-content\" data-hook=\"review-body\">\n",
              " <span>\n",
              "   Very good apple cider Vinegar. One should avoid synthetic vinegars available in the market. This one is pure and quality product. Wow products are very good. Really helpful for a healthy start of the day.\n",
              " </span>\n",
              " </span>,\n",
              " <span class=\"a-size-base review-text review-text-content\" data-hook=\"review-body\">\n",
              " <span>\n",
              "   This Gem is what one of my friend Suggested Wow Applecider Vinegar Worked a Wonder to me ,i feel energetic whole day ,i suggest it to everyone if you are health concious you shouldnt miss WOW APPLECIDER VINEGAR.\n",
              " </span>\n",
              " </span>]"
            ]
          },
          "metadata": {
            "tags": []
          },
          "execution_count": 24
        }
      ]
    },
    {
      "cell_type": "code",
      "metadata": {
        "colab": {
          "base_uri": "https://localhost:8080/"
        },
        "id": "lqzOpKcxQBBx",
        "outputId": "eb66a6ae-33ab-4b99-9d8f-f01c0ebb775b"
      },
      "source": [
        "#appending all the reviews in a list using append and get_text method.\n",
        "review_content = []\n",
        "for i in range(0,len(review)):\n",
        "  review_content.append(review[i].get_text())\n",
        "\n",
        "review_content"
      ],
      "execution_count": 25,
      "outputs": [
        {
          "output_type": "execute_result",
          "data": {
            "text/plain": [
              "['\\n\\n  Really helped me with my digestion and sinus problems. Took it twice daily before or after meals - 2 spoon of cider with 2 spoons of honey in a glass of water.\\n\\n',\n",
              " \"\\n\\n  It's good and everything like the description says.Drink up 30-50 ml mixed in a cup of water early morning everyday. First time users will need some time to develop taste. For people who have never tasted wine/alcohol, this one is going to be a struggle to drink but it's very worth it. 😂\\n\\n\",\n",
              " '\\n\\n  Really good product. It is as same as mentioned in the description and the quantity is also enough for a usage of about 2 months. Helped me a lot in improving my digestive problems.\\n\\n',\n",
              " '\\n\\n  I ordered two bottles at the same time but the colour of the vinegar varies. Am worried.\\n\\n',\n",
              " \"\\n\\n  This product is no more what it used to be earlier . Generally I don't write reviews however for the larger interest of other buyers thought to write this time . I have used this product earlier as well . It seems current lot is a fake one as it is very -very diluted so much so that it doesn't taste like vinegar at all . Not sure what to do with my bottle ,may be need to pour it in the drain . Will surely complain to Amazon about this cheating .\\n\\n\",\n",
              " '\\n\\n  Bought my 2nd bottle... I drink twice 2 reduce my weight... I hav reduced almost 3kg in 2 months wit my drink & 60min walk... Everything takes time... I really love d products by WOW... And it improves ur skintone too... Pls drink lots of water in a day 4 even more better results...\\n\\n',\n",
              " \"\\n\\n  Ritesh Gupta - I've been using Wow ACV from past 3 months and i can say it has magically helped me stay fit & Stay healthy.Ive also tried many other ACV before but none could match Wow Quality.Since I've started drinking it in the morning, I feel more Energetic and fit. It has helped me reduce weight and manage my blood sugar levels. The mother of vinegar in its product has a magic charm which evolves over the time..Id highly recommend Wow ACV for anyone if you're serious about quality and results. Dont get infatuated with cheaper price of other brands and try it once. You won't get disappointed!\\n\\n\",\n",
              " '\\n\\n  I have been using ACV for 2 months now. And it has helped with hair, skin and weight loss. I lost 2 inches in two months. It works great if you have it on regular basis.\\n\\n',\n",
              " '\\n\\n  Very good apple cider Vinegar. One should avoid synthetic vinegars available in the market. This one is pure and quality product. Wow products are very good. Really helpful for a healthy start of the day.\\n\\n',\n",
              " '\\n\\n  This Gem is what one of my friend Suggested Wow Applecider Vinegar Worked a Wonder to me ,i feel energetic whole day ,i suggest it to everyone if you are health concious you shouldnt miss WOW APPLECIDER VINEGAR.\\n\\n']"
            ]
          },
          "metadata": {
            "tags": []
          },
          "execution_count": 25
        }
      ]
    },
    {
      "cell_type": "code",
      "metadata": {
        "colab": {
          "base_uri": "https://localhost:8080/"
        },
        "id": "f9JMQRIPQaev",
        "outputId": "95369dd4-b53a-4ce3-e682-50ca019aae8c"
      },
      "source": [
        "#lstrip and rstrip method is used to delete all the leading characters\n",
        "review_content[:] = [reviews.lstrip('\\n') for reviews in review_content]\n",
        "review_content[:] = [reviews.rstrip('\\n') for reviews in review_content]\n",
        "review_content"
      ],
      "execution_count": 26,
      "outputs": [
        {
          "output_type": "execute_result",
          "data": {
            "text/plain": [
              "['  Really helped me with my digestion and sinus problems. Took it twice daily before or after meals - 2 spoon of cider with 2 spoons of honey in a glass of water.',\n",
              " \"  It's good and everything like the description says.Drink up 30-50 ml mixed in a cup of water early morning everyday. First time users will need some time to develop taste. For people who have never tasted wine/alcohol, this one is going to be a struggle to drink but it's very worth it. 😂\",\n",
              " '  Really good product. It is as same as mentioned in the description and the quantity is also enough for a usage of about 2 months. Helped me a lot in improving my digestive problems.',\n",
              " '  I ordered two bottles at the same time but the colour of the vinegar varies. Am worried.',\n",
              " \"  This product is no more what it used to be earlier . Generally I don't write reviews however for the larger interest of other buyers thought to write this time . I have used this product earlier as well . It seems current lot is a fake one as it is very -very diluted so much so that it doesn't taste like vinegar at all . Not sure what to do with my bottle ,may be need to pour it in the drain . Will surely complain to Amazon about this cheating .\",\n",
              " '  Bought my 2nd bottle... I drink twice 2 reduce my weight... I hav reduced almost 3kg in 2 months wit my drink & 60min walk... Everything takes time... I really love d products by WOW... And it improves ur skintone too... Pls drink lots of water in a day 4 even more better results...',\n",
              " \"  Ritesh Gupta - I've been using Wow ACV from past 3 months and i can say it has magically helped me stay fit & Stay healthy.Ive also tried many other ACV before but none could match Wow Quality.Since I've started drinking it in the morning, I feel more Energetic and fit. It has helped me reduce weight and manage my blood sugar levels. The mother of vinegar in its product has a magic charm which evolves over the time..Id highly recommend Wow ACV for anyone if you're serious about quality and results. Dont get infatuated with cheaper price of other brands and try it once. You won't get disappointed!\",\n",
              " '  I have been using ACV for 2 months now. And it has helped with hair, skin and weight loss. I lost 2 inches in two months. It works great if you have it on regular basis.',\n",
              " '  Very good apple cider Vinegar. One should avoid synthetic vinegars available in the market. This one is pure and quality product. Wow products are very good. Really helpful for a healthy start of the day.',\n",
              " '  This Gem is what one of my friend Suggested Wow Applecider Vinegar Worked a Wonder to me ,i feel energetic whole day ,i suggest it to everyone if you are health concious you shouldnt miss WOW APPLECIDER VINEGAR.']"
            ]
          },
          "metadata": {
            "tags": []
          },
          "execution_count": 26
        }
      ]
    },
    {
      "cell_type": "code",
      "metadata": {
        "colab": {
          "base_uri": "https://localhost:8080/",
          "height": 359
        },
        "id": "oKtscNCwQ8cl",
        "outputId": "025d0d73-3246-4a05-ed4d-2e13aa553663"
      },
      "source": [
        "#framing list data into column \"Review_Title\"\n",
        "pd.DataFrame (review_content,columns=['Reviews'])"
      ],
      "execution_count": 27,
      "outputs": [
        {
          "output_type": "execute_result",
          "data": {
            "text/html": [
              "<div>\n",
              "<style scoped>\n",
              "    .dataframe tbody tr th:only-of-type {\n",
              "        vertical-align: middle;\n",
              "    }\n",
              "\n",
              "    .dataframe tbody tr th {\n",
              "        vertical-align: top;\n",
              "    }\n",
              "\n",
              "    .dataframe thead th {\n",
              "        text-align: right;\n",
              "    }\n",
              "</style>\n",
              "<table border=\"1\" class=\"dataframe\">\n",
              "  <thead>\n",
              "    <tr style=\"text-align: right;\">\n",
              "      <th></th>\n",
              "      <th>Reviews</th>\n",
              "    </tr>\n",
              "  </thead>\n",
              "  <tbody>\n",
              "    <tr>\n",
              "      <th>0</th>\n",
              "      <td>Really helped me with my digestion and sinus...</td>\n",
              "    </tr>\n",
              "    <tr>\n",
              "      <th>1</th>\n",
              "      <td>It's good and everything like the descriptio...</td>\n",
              "    </tr>\n",
              "    <tr>\n",
              "      <th>2</th>\n",
              "      <td>Really good product. It is as same as mentio...</td>\n",
              "    </tr>\n",
              "    <tr>\n",
              "      <th>3</th>\n",
              "      <td>I ordered two bottles at the same time but t...</td>\n",
              "    </tr>\n",
              "    <tr>\n",
              "      <th>4</th>\n",
              "      <td>This product is no more what it used to be e...</td>\n",
              "    </tr>\n",
              "    <tr>\n",
              "      <th>5</th>\n",
              "      <td>Bought my 2nd bottle... I drink twice 2 redu...</td>\n",
              "    </tr>\n",
              "    <tr>\n",
              "      <th>6</th>\n",
              "      <td>Ritesh Gupta - I've been using Wow ACV from ...</td>\n",
              "    </tr>\n",
              "    <tr>\n",
              "      <th>7</th>\n",
              "      <td>I have been using ACV for 2 months now. And ...</td>\n",
              "    </tr>\n",
              "    <tr>\n",
              "      <th>8</th>\n",
              "      <td>Very good apple cider Vinegar. One should av...</td>\n",
              "    </tr>\n",
              "    <tr>\n",
              "      <th>9</th>\n",
              "      <td>This Gem is what one of my friend Suggested ...</td>\n",
              "    </tr>\n",
              "  </tbody>\n",
              "</table>\n",
              "</div>"
            ],
            "text/plain": [
              "                                             Reviews\n",
              "0    Really helped me with my digestion and sinus...\n",
              "1    It's good and everything like the descriptio...\n",
              "2    Really good product. It is as same as mentio...\n",
              "3    I ordered two bottles at the same time but t...\n",
              "4    This product is no more what it used to be e...\n",
              "5    Bought my 2nd bottle... I drink twice 2 redu...\n",
              "6    Ritesh Gupta - I've been using Wow ACV from ...\n",
              "7    I have been using ACV for 2 months now. And ...\n",
              "8    Very good apple cider Vinegar. One should av...\n",
              "9    This Gem is what one of my friend Suggested ..."
            ]
          },
          "metadata": {
            "tags": []
          },
          "execution_count": 27
        }
      ]
    },
    {
      "cell_type": "code",
      "metadata": {
        "colab": {
          "base_uri": "https://localhost:8080/",
          "height": 394
        },
        "id": "ZSxSrdPZR_a-",
        "outputId": "19794fee-7422-4351-f8fe-5bf67a01e007"
      },
      "source": [
        "#create datafram to assign both column in one frame\n",
        "data=pd.DataFrame ([cust_name,review_title,rate,review_content]) #will create frame with each list as row.\n",
        "data\n"
      ],
      "execution_count": 28,
      "outputs": [
        {
          "output_type": "execute_result",
          "data": {
            "text/html": [
              "<div>\n",
              "<style scoped>\n",
              "    .dataframe tbody tr th:only-of-type {\n",
              "        vertical-align: middle;\n",
              "    }\n",
              "\n",
              "    .dataframe tbody tr th {\n",
              "        vertical-align: top;\n",
              "    }\n",
              "\n",
              "    .dataframe thead th {\n",
              "        text-align: right;\n",
              "    }\n",
              "</style>\n",
              "<table border=\"1\" class=\"dataframe\">\n",
              "  <thead>\n",
              "    <tr style=\"text-align: right;\">\n",
              "      <th></th>\n",
              "      <th>0</th>\n",
              "      <th>1</th>\n",
              "      <th>2</th>\n",
              "      <th>3</th>\n",
              "      <th>4</th>\n",
              "      <th>5</th>\n",
              "      <th>6</th>\n",
              "      <th>7</th>\n",
              "      <th>8</th>\n",
              "      <th>9</th>\n",
              "      <th>10</th>\n",
              "      <th>11</th>\n",
              "    </tr>\n",
              "  </thead>\n",
              "  <tbody>\n",
              "    <tr>\n",
              "      <th>0</th>\n",
              "      <td>Amazon Customer</td>\n",
              "      <td>Oli Paul</td>\n",
              "      <td>Amazon Customer</td>\n",
              "      <td>KD</td>\n",
              "      <td>Paritosh Singh</td>\n",
              "      <td>Oli Paul</td>\n",
              "      <td>Gautam Nayak</td>\n",
              "      <td>❤Aachu❤</td>\n",
              "      <td>Hitesh</td>\n",
              "      <td>Dev Patel</td>\n",
              "      <td>Meet</td>\n",
              "      <td>gulzar ahmed laskar</td>\n",
              "    </tr>\n",
              "    <tr>\n",
              "      <th>1</th>\n",
              "      <td>Best Apple Cider</td>\n",
              "      <td>Great product. Wait for the offer every month ...</td>\n",
              "      <td>Great for improving digestion</td>\n",
              "      <td>Different in colour</td>\n",
              "      <td>Substandard and diluted</td>\n",
              "      <td>Best 4 weight loss</td>\n",
              "      <td>Best Quality with excellent Results</td>\n",
              "      <td>My health has improved!</td>\n",
              "      <td>Pure and quality product</td>\n",
              "      <td>Mantra for good Health,100% Pure and Genuine P...</td>\n",
              "      <td>None</td>\n",
              "      <td>None</td>\n",
              "    </tr>\n",
              "    <tr>\n",
              "      <th>2</th>\n",
              "      <td>5.0 out of 5 stars</td>\n",
              "      <td>1.0 out of 5 stars</td>\n",
              "      <td>5.0 out of 5 stars</td>\n",
              "      <td>5.0 out of 5 stars</td>\n",
              "      <td>5.0 out of 5 stars</td>\n",
              "      <td>1.0 out of 5 stars</td>\n",
              "      <td>1.0 out of 5 stars</td>\n",
              "      <td>5.0 out of 5 stars</td>\n",
              "      <td>5.0 out of 5 stars</td>\n",
              "      <td>5.0 out of 5 stars</td>\n",
              "      <td>5.0 out of 5 stars</td>\n",
              "      <td>5.0 out of 5 stars</td>\n",
              "    </tr>\n",
              "    <tr>\n",
              "      <th>3</th>\n",
              "      <td>Really helped me with my digestion and sinus...</td>\n",
              "      <td>It's good and everything like the descriptio...</td>\n",
              "      <td>Really good product. It is as same as mentio...</td>\n",
              "      <td>I ordered two bottles at the same time but t...</td>\n",
              "      <td>This product is no more what it used to be e...</td>\n",
              "      <td>Bought my 2nd bottle... I drink twice 2 redu...</td>\n",
              "      <td>Ritesh Gupta - I've been using Wow ACV from ...</td>\n",
              "      <td>I have been using ACV for 2 months now. And ...</td>\n",
              "      <td>Very good apple cider Vinegar. One should av...</td>\n",
              "      <td>This Gem is what one of my friend Suggested ...</td>\n",
              "      <td>None</td>\n",
              "      <td>None</td>\n",
              "    </tr>\n",
              "  </tbody>\n",
              "</table>\n",
              "</div>"
            ],
            "text/plain": [
              "                                                  0   ...                   11\n",
              "0                                    Amazon Customer  ...  gulzar ahmed laskar\n",
              "1                                   Best Apple Cider  ...                 None\n",
              "2                                 5.0 out of 5 stars  ...   5.0 out of 5 stars\n",
              "3    Really helped me with my digestion and sinus...  ...                 None\n",
              "\n",
              "[4 rows x 12 columns]"
            ]
          },
          "metadata": {
            "tags": []
          },
          "execution_count": 28
        }
      ]
    },
    {
      "cell_type": "code",
      "metadata": {
        "colab": {
          "base_uri": "https://localhost:8080/",
          "height": 421
        },
        "id": "Keb1kl8ESUbI",
        "outputId": "ce3a02c7-1821-4f51-f238-ef1030b25a7a"
      },
      "source": [
        "#transposing all the row as column\n",
        "data=data.transpose() #transpose row as column \n",
        "data.columns=['Names','Title','Ratings','Reviews']\n",
        "data"
      ],
      "execution_count": 29,
      "outputs": [
        {
          "output_type": "execute_result",
          "data": {
            "text/html": [
              "<div>\n",
              "<style scoped>\n",
              "    .dataframe tbody tr th:only-of-type {\n",
              "        vertical-align: middle;\n",
              "    }\n",
              "\n",
              "    .dataframe tbody tr th {\n",
              "        vertical-align: top;\n",
              "    }\n",
              "\n",
              "    .dataframe thead th {\n",
              "        text-align: right;\n",
              "    }\n",
              "</style>\n",
              "<table border=\"1\" class=\"dataframe\">\n",
              "  <thead>\n",
              "    <tr style=\"text-align: right;\">\n",
              "      <th></th>\n",
              "      <th>Names</th>\n",
              "      <th>Title</th>\n",
              "      <th>Ratings</th>\n",
              "      <th>Reviews</th>\n",
              "    </tr>\n",
              "  </thead>\n",
              "  <tbody>\n",
              "    <tr>\n",
              "      <th>0</th>\n",
              "      <td>Amazon Customer</td>\n",
              "      <td>Best Apple Cider</td>\n",
              "      <td>5.0 out of 5 stars</td>\n",
              "      <td>Really helped me with my digestion and sinus...</td>\n",
              "    </tr>\n",
              "    <tr>\n",
              "      <th>1</th>\n",
              "      <td>Oli Paul</td>\n",
              "      <td>Great product. Wait for the offer every month ...</td>\n",
              "      <td>1.0 out of 5 stars</td>\n",
              "      <td>It's good and everything like the descriptio...</td>\n",
              "    </tr>\n",
              "    <tr>\n",
              "      <th>2</th>\n",
              "      <td>Amazon Customer</td>\n",
              "      <td>Great for improving digestion</td>\n",
              "      <td>5.0 out of 5 stars</td>\n",
              "      <td>Really good product. It is as same as mentio...</td>\n",
              "    </tr>\n",
              "    <tr>\n",
              "      <th>3</th>\n",
              "      <td>KD</td>\n",
              "      <td>Different in colour</td>\n",
              "      <td>5.0 out of 5 stars</td>\n",
              "      <td>I ordered two bottles at the same time but t...</td>\n",
              "    </tr>\n",
              "    <tr>\n",
              "      <th>4</th>\n",
              "      <td>Paritosh Singh</td>\n",
              "      <td>Substandard and diluted</td>\n",
              "      <td>5.0 out of 5 stars</td>\n",
              "      <td>This product is no more what it used to be e...</td>\n",
              "    </tr>\n",
              "    <tr>\n",
              "      <th>5</th>\n",
              "      <td>Oli Paul</td>\n",
              "      <td>Best 4 weight loss</td>\n",
              "      <td>1.0 out of 5 stars</td>\n",
              "      <td>Bought my 2nd bottle... I drink twice 2 redu...</td>\n",
              "    </tr>\n",
              "    <tr>\n",
              "      <th>6</th>\n",
              "      <td>Gautam Nayak</td>\n",
              "      <td>Best Quality with excellent Results</td>\n",
              "      <td>1.0 out of 5 stars</td>\n",
              "      <td>Ritesh Gupta - I've been using Wow ACV from ...</td>\n",
              "    </tr>\n",
              "    <tr>\n",
              "      <th>7</th>\n",
              "      <td>❤Aachu❤</td>\n",
              "      <td>My health has improved!</td>\n",
              "      <td>5.0 out of 5 stars</td>\n",
              "      <td>I have been using ACV for 2 months now. And ...</td>\n",
              "    </tr>\n",
              "    <tr>\n",
              "      <th>8</th>\n",
              "      <td>Hitesh</td>\n",
              "      <td>Pure and quality product</td>\n",
              "      <td>5.0 out of 5 stars</td>\n",
              "      <td>Very good apple cider Vinegar. One should av...</td>\n",
              "    </tr>\n",
              "    <tr>\n",
              "      <th>9</th>\n",
              "      <td>Dev Patel</td>\n",
              "      <td>Mantra for good Health,100% Pure and Genuine P...</td>\n",
              "      <td>5.0 out of 5 stars</td>\n",
              "      <td>This Gem is what one of my friend Suggested ...</td>\n",
              "    </tr>\n",
              "    <tr>\n",
              "      <th>10</th>\n",
              "      <td>Meet</td>\n",
              "      <td>None</td>\n",
              "      <td>5.0 out of 5 stars</td>\n",
              "      <td>None</td>\n",
              "    </tr>\n",
              "    <tr>\n",
              "      <th>11</th>\n",
              "      <td>gulzar ahmed laskar</td>\n",
              "      <td>None</td>\n",
              "      <td>5.0 out of 5 stars</td>\n",
              "      <td>None</td>\n",
              "    </tr>\n",
              "  </tbody>\n",
              "</table>\n",
              "</div>"
            ],
            "text/plain": [
              "                  Names  ...                                            Reviews\n",
              "0       Amazon Customer  ...    Really helped me with my digestion and sinus...\n",
              "1              Oli Paul  ...    It's good and everything like the descriptio...\n",
              "2       Amazon Customer  ...    Really good product. It is as same as mentio...\n",
              "3                    KD  ...    I ordered two bottles at the same time but t...\n",
              "4        Paritosh Singh  ...    This product is no more what it used to be e...\n",
              "5              Oli Paul  ...    Bought my 2nd bottle... I drink twice 2 redu...\n",
              "6          Gautam Nayak  ...    Ritesh Gupta - I've been using Wow ACV from ...\n",
              "7               ❤Aachu❤  ...    I have been using ACV for 2 months now. And ...\n",
              "8                Hitesh  ...    Very good apple cider Vinegar. One should av...\n",
              "9             Dev Patel  ...    This Gem is what one of my friend Suggested ...\n",
              "10                 Meet  ...                                               None\n",
              "11  gulzar ahmed laskar  ...                                               None\n",
              "\n",
              "[12 rows x 4 columns]"
            ]
          },
          "metadata": {
            "tags": []
          },
          "execution_count": 29
        }
      ]
    },
    {
      "cell_type": "code",
      "metadata": {
        "id": "DUIw8bbaUIIH"
      },
      "source": [
        "#Write above data to CSV file\n",
        "data.to_csv('Amazon_reviews.csv',index=True)"
      ],
      "execution_count": 30,
      "outputs": []
    }
  ]
}
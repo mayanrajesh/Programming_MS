{
  "nbformat": 4,
  "nbformat_minor": 0,
  "metadata": {
    "colab": {
      "name": "week3 class.ipynb",
      "provenance": [],
      "authorship_tag": "ABX9TyNAWQFO+ipNW37ywDvotIOE",
      "include_colab_link": true
    },
    "kernelspec": {
      "name": "python3",
      "display_name": "Python 3"
    }
  },
  "cells": [
    {
      "cell_type": "markdown",
      "metadata": {
        "id": "view-in-github",
        "colab_type": "text"
      },
      "source": [
        "<a href=\"https://colab.research.google.com/github/mayanrajesh/Programming_MS/blob/main/week3_class.ipynb\" target=\"_parent\"><img src=\"https://colab.research.google.com/assets/colab-badge.svg\" alt=\"Open In Colab\"/></a>"
      ]
    },
    {
      "cell_type": "code",
      "metadata": {
        "id": "qTpK138KS-ze"
      },
      "source": [
        ""
      ],
      "execution_count": null,
      "outputs": []
    },
    {
      "cell_type": "markdown",
      "metadata": {
        "id": "T4AJ0UKZTXhg"
      },
      "source": [
        "#traditonla programming and python\n",
        "##traditional programming:\n",
        "###declaration\n",
        "public int info1()\n",
        "###definition\n",
        "Public int info()\n",
        "{\n",
        "  A+B\n",
        "}\n",
        "##calling\n",
        "By creating its object\n",
        "info()\n",
        "\n",
        "\n",
        "##python programming:\n",
        "\n",
        "###No declaration\n",
        "### Definition\n",
        "Def func_name():\n",
        "a+b\n",
        "\n",
        "###calling\n",
        "func_name()"
      ]
    },
    {
      "cell_type": "code",
      "metadata": {
        "id": "oS9AYsJnUkkb",
        "outputId": "0e09c1ab-da5b-4613-b663-2b094a13d8db",
        "colab": {
          "base_uri": "https://localhost:8080/"
        }
      },
      "source": [
        "def incometax(salary):\n",
        "  tax = (salary * 40)/100\n",
        "  print(\"tax in the salray {} is {}\".format(salary,tax))\n",
        "\n",
        "incometax(32000)"
      ],
      "execution_count": 2,
      "outputs": [
        {
          "output_type": "stream",
          "text": [
            "tax in the salray 32000 is 12800.0\n"
          ],
          "name": "stdout"
        }
      ]
    },
    {
      "cell_type": "code",
      "metadata": {
        "id": "nfo4li1dWVNm",
        "outputId": "e86f5788-ab36-49b0-c93a-2539b0ed1399",
        "colab": {
          "base_uri": "https://localhost:8080/"
        }
      },
      "source": [
        "def incometax():\n",
        "  salary=int(input(\"enter the annual salary\"))\n",
        "  tax = (salary * 40)/100\n",
        "  print(\"tax in the salray {} is {}\".format(salary,tax))\n",
        "\n",
        "incometax()"
      ],
      "execution_count": 3,
      "outputs": [
        {
          "output_type": "stream",
          "text": [
            "enter the annual salary32000\n",
            "tax in the salray 32000 is 12800.0\n"
          ],
          "name": "stdout"
        }
      ]
    },
    {
      "cell_type": "markdown",
      "metadata": {
        "id": "aUqfwON9Woik"
      },
      "source": [
        "##Lamda : allows us to create function in easy way.\n",
        "\n"
      ]
    },
    {
      "cell_type": "code",
      "metadata": {
        "id": "WJhDmtIpW8gC",
        "outputId": "8d36d091-1a7d-4a2b-c3a4-fa1bd8571f29",
        "colab": {
          "base_uri": "https://localhost:8080/"
        }
      },
      "source": [
        "sum11=lambda a,b,c:a+b+c\n",
        "sum11(5,6,7)"
      ],
      "execution_count": 4,
      "outputs": [
        {
          "output_type": "execute_result",
          "data": {
            "text/plain": [
              "18"
            ]
          },
          "metadata": {
            "tags": []
          },
          "execution_count": 4
        }
      ]
    },
    {
      "cell_type": "code",
      "metadata": {
        "id": "whOOBLkyXNRv",
        "outputId": "669ec81a-8b28-4b6e-ae40-0dbba2cb081c",
        "colab": {
          "base_uri": "https://localhost:8080/"
        }
      },
      "source": [
        "income_tax = lambda salary:(salary*40)/100\n",
        "income_tax(32000)"
      ],
      "execution_count": 5,
      "outputs": [
        {
          "output_type": "execute_result",
          "data": {
            "text/plain": [
              "12800.0"
            ]
          },
          "metadata": {
            "tags": []
          },
          "execution_count": 5
        }
      ]
    },
    {
      "cell_type": "markdown",
      "metadata": {
        "id": "H4RCFzuXZDsR"
      },
      "source": [
        "#Range Function\n",
        "range(start_position,end_position,interval)"
      ]
    },
    {
      "cell_type": "code",
      "metadata": {
        "id": "xNFniBtLY1lG"
      },
      "source": [
        "A=[5,6,7,8,9]\n",
        "for x in range(0,5,2)"
      ],
      "execution_count": null,
      "outputs": []
    },
    {
      "cell_type": "code",
      "metadata": {
        "id": "LYKW3QVQak4G",
        "outputId": "5bca0354-df58-454d-a494-4d6b7433b0ce",
        "colab": {
          "base_uri": "https://localhost:8080/"
        }
      },
      "source": [
        "#using while loop\n",
        "def fibonacci(n):\n",
        "   c = 0\n",
        "   a = 0\n",
        "   b = 1\n",
        "   sum = 0\n",
        " \n",
        "   while c < n:\n",
        "      print(a)\n",
        "      sum = a + b\n",
        "      a = b\n",
        "      b = sum\n",
        "      c = c + 1\n",
        "\n",
        "\n",
        "fibonacci(10)"
      ],
      "execution_count": 9,
      "outputs": [
        {
          "output_type": "stream",
          "text": [
            "0\n",
            "1\n",
            "1\n",
            "2\n",
            "3\n",
            "5\n",
            "8\n",
            "13\n",
            "21\n",
            "34\n"
          ],
          "name": "stdout"
        }
      ]
    },
    {
      "cell_type": "code",
      "metadata": {
        "id": "Lid15TfxbUNY",
        "outputId": "0f68b552-6b2d-41b4-9d88-0c5a1d292377",
        "colab": {
          "base_uri": "https://localhost:8080/"
        }
      },
      "source": [
        "#using range function:\n",
        "def fibonacci(n):\n",
        "   c = 0\n",
        "   a = 0\n",
        "   b = 1\n",
        "   sum = 0\n",
        "   for c in range(n):\n",
        "      print(a)\n",
        "      sum = a + b\n",
        "      a = b\n",
        "      b = sum\n",
        "      c = c + 1\n",
        "\n",
        "\n",
        "fibonacci(10)"
      ],
      "execution_count": 8,
      "outputs": [
        {
          "output_type": "stream",
          "text": [
            "0\n",
            "1\n",
            "1\n",
            "2\n",
            "3\n",
            "5\n",
            "8\n",
            "13\n",
            "21\n",
            "34\n"
          ],
          "name": "stdout"
        }
      ]
    },
    {
      "cell_type": "markdown",
      "metadata": {
        "id": "wxHU0yaudp2U"
      },
      "source": [
        "#File I/O System\n",
        "*File system was one of the complex system in programming languages in traditiona programmning language but in python its easy to use.*\n",
        "\n",
        "easiest way to use:\n",
        "### \"w\" means write in the file but will overright the existing .\n",
        "* w+ uses additional keywords\n",
        "* wb uses when using binary files/digits/numbers\n",
        "### \"a\" will append the content in the file.\n",
        "* a+ uses additional keywords\n",
        "* ab uses when using binary files/digits/numbers\n",
        "### \"r\" will read from the file \n",
        "* r+ uses additional keywords\n",
        "* rb uses when using binary files/digits/numbers\n",
        "\n",
        "\n",
        "with open (\"filename.csv\",\"w\") as f:"
      ]
    },
    {
      "cell_type": "code",
      "metadata": {
        "id": "whXXjZGmdHvr"
      },
      "source": [
        "with open(\"Intro.txt\",\"w\") as f:\n",
        "  f.write(\"My name is Rajesh , I am pursuing the MS in Data Analytics.\")"
      ],
      "execution_count": 10,
      "outputs": []
    },
    {
      "cell_type": "code",
      "metadata": {
        "id": "8lNmQACVg4BP"
      },
      "source": [
        "with open (\"Intro.txt\",\"a\") as f:\n",
        "  f.write(\"\\n I live in Dublin Ireland\")"
      ],
      "execution_count": 11,
      "outputs": []
    },
    {
      "cell_type": "code",
      "metadata": {
        "id": "qn9dcUrphiFa"
      },
      "source": [
        "#one method to open the file\n",
        "with open(\"Intro.txt\",\"r\") as f:\n",
        "  data=f.read()\n",
        "  "
      ],
      "execution_count": null,
      "outputs": []
    },
    {
      "cell_type": "code",
      "metadata": {
        "id": "cI5CZ0Pwiz5C",
        "outputId": "11cb9681-f4c0-4e80-d633-a0df77a13b49",
        "colab": {
          "base_uri": "https://localhost:8080/"
        }
      },
      "source": [
        "f= open(\"Intro.txt\",\"r\")\n",
        "print(f.read())\n",
        "f.close() #its mandatroy to close if using only open command"
      ],
      "execution_count": 12,
      "outputs": [
        {
          "output_type": "stream",
          "text": [
            "My name is Rajesh , I am pursuing the MS in Data Analytics.\n",
            " I live in Dublin Ireland\n"
          ],
          "name": "stdout"
        }
      ]
    },
    {
      "cell_type": "code",
      "metadata": {
        "id": "IbQilWcvkEjf"
      },
      "source": [
        ""
      ],
      "execution_count": null,
      "outputs": []
    },
    {
      "cell_type": "markdown",
      "metadata": {
        "id": "fP3XYiXak1S1"
      },
      "source": [
        "#WAF that will asked you to input your life biography in the text file which is limited to either 20 lines or 100 words.If limit is exdeeded then your program may indicate how many extra words or line you have."
      ]
    },
    {
      "cell_type": "code",
      "metadata": {
        "id": "5jmEBOFVljkl",
        "outputId": "4c85c068-b3f2-4206-ca49-38aabf0d5d34",
        "colab": {
          "base_uri": "https://localhost:8080/"
        }
      },
      "source": [
        "\n",
        "a= input(\"enter your biography here:\")\n",
        "length = len(a.split(\" \"))\n",
        "print(\"word limit is :\".format(length))\n",
        "\n",
        "\n",
        "limit= 100-length\n",
        "if limit ==0:\n",
        "  with open(\"Biography.txt\",\"w+\") as f:\n",
        "    f.write(a)\n",
        "elif limit>0:\n",
        "  print(\"{} word is remaning \".format(limit))\n",
        "else:\n",
        "  print(\"{} word is more , please limit the word as per the guidlines.\".format(limit))\n",
        "  \n",
        "\n",
        "   \n"
      ],
      "execution_count": 22,
      "outputs": [
        {
          "output_type": "stream",
          "text": [
            "enter your biography here:asc\n",
            "word limit is :\n",
            "99 word is remaning \n"
          ],
          "name": "stdout"
        }
      ]
    },
    {
      "cell_type": "code",
      "metadata": {
        "id": "p9cPQsf3ufNU",
        "outputId": "0e045ce0-c9b2-4969-d763-e8494d91ff95",
        "colab": {
          "base_uri": "https://localhost:8080/"
        }
      },
      "source": [
        "with open(\"Biography.txt\",\"r+\") as f:\n",
        "  word=f.read()\n",
        "  count= len(word.split(\" \"))\n",
        "  print(\"word limit is : 100 words\")\n",
        "  \n",
        "if \n",
        "a= input(\"enter your biography here:\")\n",
        "length = len(a.split(\" \"))\n",
        "print(\"word limit is : 100 words\")\n",
        "\n",
        "limit= 100-length\n",
        "if limit ==0:\n",
        "  with open(\"Biography.txt\",\"w+\") as f:\n",
        "    f.write(a)\n",
        "elif limit >0:\n",
        "  a= input(\"continiue entering your biography here:\")\n",
        "  with open(\"Biography.txt\",\"a+\") as f:\n",
        "    f.write(a)\n",
        "  with open(\"Biography.txt\",\"r+\") as f:\n",
        "    word=f.read()\n",
        "    count= len(word.split(\" \"))\n",
        "    print(count)\n",
        "else:\n",
        "  print(\"{} word is more , please limit the word as per the guidlines.\".format(limit))\n",
        "  "
      ],
      "execution_count": 28,
      "outputs": [
        {
          "output_type": "stream",
          "text": [
            "enter your biography here:The theory was advanced in part because of lack of archaeological evidence for large-scale Celtic immigration, though it is accepted that such movements are notoriously difficult to identify. Historical linguists are skeptical that this method alone could account for the absorption of Celtic language, with some saying that an assumed processional view of Celtic linguistic formation is 'an especially hazardous exercise\n",
            "word limit is : 100 words\n",
            "continiue entering your biography here:The theory was advanced in part because of lack of archaeological evidence for large-scale Celtic immigration, though it is accepted that such movements are notoriously difficult to identify. Historical linguists are skeptical that this method alone could account for the absorption of Celtic language, with some saying that an assumed processional view of Celtic linguistic formation is 'an especially hazardous exercise\n",
            "181\n"
          ],
          "name": "stdout"
        }
      ]
    },
    {
      "cell_type": "code",
      "metadata": {
        "id": "x0bMGEwfY4uF",
        "outputId": "9d23d4af-f2d0-42d0-eff9-17f2d752155d",
        "colab": {
          "base_uri": "https://localhost:8080/"
        }
      },
      "source": [
        "for num in range(2,7 +1):\n",
        "  if num> 1:\n",
        "    for i in range (2,num):\n",
        "      if(num % i) == 0:\n",
        "        break\n",
        "      else:\n",
        "        print(num)"
      ],
      "execution_count": 41,
      "outputs": [
        {
          "output_type": "stream",
          "text": [
            "3\n",
            "5\n",
            "5\n",
            "5\n",
            "7\n",
            "7\n",
            "7\n",
            "7\n",
            "7\n"
          ],
          "name": "stdout"
        }
      ]
    }
  ]
}
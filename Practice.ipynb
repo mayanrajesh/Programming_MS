{
  "nbformat": 4,
  "nbformat_minor": 0,
  "metadata": {
    "colab": {
      "name": "Untitled2.ipynb",
      "provenance": [],
      "authorship_tag": "ABX9TyMQgOep+gq/6o33PhG/dGfQ",
      "include_colab_link": true
    },
    "kernelspec": {
      "name": "python3",
      "display_name": "Python 3"
    }
  },
  "cells": [
    {
      "cell_type": "markdown",
      "metadata": {
        "id": "view-in-github",
        "colab_type": "text"
      },
      "source": [
        "<a href=\"https://colab.research.google.com/github/mayanrajesh/Programming_MS/blob/main/Practice.ipynb\" target=\"_parent\"><img src=\"https://colab.research.google.com/assets/colab-badge.svg\" alt=\"Open In Colab\"/></a>"
      ]
    },
    {
      "cell_type": "code",
      "metadata": {
        "id": "88uVhp-B32v4"
      },
      "source": [
        "#Set\n",
        "##prepare own set   and function using set data tyoe and ask user \n",
        "\n",
        "#inout the name of "
      ],
      "execution_count": null,
      "outputs": []
    },
    {
      "cell_type": "code",
      "metadata": {
        "id": "Wxfm-sx77S9c",
        "outputId": "16224009-753c-4229-b68e-3537a94838e6",
        "colab": {
          "base_uri": "https://localhost:8080/"
        }
      },
      "source": [
        "def best_player():\n",
        "  player = {\"ram\", \"shayam\", \"mohan\",\"sohan\",\"rajesh\",\"kumar\",\"abhi\",\"shubham\",\"ramu\"}\n",
        "  name = input(\"Enter the best player name:\")\n",
        "  list_player = name.split(\" \")\n",
        "  name in player\n",
        "  print(\"player name :\".format(list_player))\n",
        "\n",
        "best_player()\n",
        "\n",
        "  "
      ],
      "execution_count": 4,
      "outputs": [
        {
          "output_type": "stream",
          "text": [
            "Enter the best player name:ram rajesh\n",
            "player name :\n"
          ],
          "name": "stdout"
        }
      ]
    },
    {
      "cell_type": "markdown",
      "metadata": {
        "id": "ftwXDa0uAsv2"
      },
      "source": [
        "#Conbtrol Condition"
      ]
    },
    {
      "cell_type": "markdown",
      "metadata": {
        "id": "PoisLo5zA63M"
      },
      "source": [
        "* greater >\n",
        "* lesser <\n",
        "* Equal ==\n",
        "* Greater equal >=\n",
        "* lesser equal <=\n",
        "* not equal to !="
      ]
    },
    {
      "cell_type": "markdown",
      "metadata": {
        "id": "4URoCHNz5sUD"
      },
      "source": [
        ""
      ]
    },
    {
      "cell_type": "code",
      "metadata": {
        "id": "FR9q8nu9Axji"
      },
      "source": [
        "A=5\n",
        "B=6"
      ],
      "execution_count": 5,
      "outputs": []
    },
    {
      "cell_type": "code",
      "metadata": {
        "id": "IDgMmB4VBrG1",
        "outputId": "79345379-932f-4f8f-f4b4-9ccc253ed71b",
        "colab": {
          "base_uri": "https://localhost:8080/"
        }
      },
      "source": [
        "A>B"
      ],
      "execution_count": 6,
      "outputs": [
        {
          "output_type": "execute_result",
          "data": {
            "text/plain": [
              "False"
            ]
          },
          "metadata": {
            "tags": []
          },
          "execution_count": 6
        }
      ]
    },
    {
      "cell_type": "code",
      "metadata": {
        "id": "NriIssRyBuWc",
        "outputId": "43bdcd83-72fc-435b-9fa0-0d34dcddd241",
        "colab": {
          "base_uri": "https://localhost:8080/"
        }
      },
      "source": [
        "A<B"
      ],
      "execution_count": 7,
      "outputs": [
        {
          "output_type": "execute_result",
          "data": {
            "text/plain": [
              "True"
            ]
          },
          "metadata": {
            "tags": []
          },
          "execution_count": 7
        }
      ]
    },
    {
      "cell_type": "markdown",
      "metadata": {
        "id": "PNirx2ZOCJDC"
      },
      "source": [
        "##IF ELSE"
      ]
    },
    {
      "cell_type": "code",
      "metadata": {
        "id": "utPWq_ATCNw1"
      },
      "source": [
        ""
      ],
      "execution_count": null,
      "outputs": []
    },
    {
      "cell_type": "markdown",
      "metadata": {
        "id": "VT57rdBWEJlQ"
      },
      "source": [
        "#Looping\n",
        "* for\n",
        "* While(Conditional)\n",
        "\n"
      ]
    },
    {
      "cell_type": "code",
      "metadata": {
        "id": "vHZrTkZnEUMx",
        "outputId": "561c0acf-d6db-426d-d31c-4b5f31770f65",
        "colab": {
          "base_uri": "https://localhost:8080/"
        }
      },
      "source": [
        "#list example forloop\n",
        "marks = [0,1,2,3,4,5,6,7,8,9,10]\n",
        "print(\"#### Tale of 8 #####\")\n",
        "for x in marks:\n",
        "  #print(\"this is the {} number  \".format(x))\n",
        "  print(\"{} * {} = {}\".format(8,x,8*x))"
      ],
      "execution_count": 14,
      "outputs": [
        {
          "output_type": "stream",
          "text": [
            "#### Tale of 8 #####\n",
            "8 * 0 = 0\n",
            "8 * 1 = 8\n",
            "8 * 2 = 16\n",
            "8 * 3 = 24\n",
            "8 * 4 = 32\n",
            "8 * 5 = 40\n",
            "8 * 6 = 48\n",
            "8 * 7 = 56\n",
            "8 * 8 = 64\n",
            "8 * 9 = 72\n",
            "8 * 10 = 80\n"
          ],
          "name": "stdout"
        }
      ]
    },
    {
      "cell_type": "code",
      "metadata": {
        "id": "Bqz6zZSAGIl4",
        "outputId": "21e44e83-0b4b-42f0-dffd-32d2ffeac278",
        "colab": {
          "base_uri": "https://localhost:8080/"
        }
      },
      "source": [
        "num= [0,1,2,3,4,5,6,7,8,9,10]\n",
        "print(\"******Sqroot of number*****\")\n",
        "for x in num:\n",
        "  print(\"{} ^ {} = {}\".format(x,x,x*x))\n",
        "  #print(\"{} * {} = {}\".format(x,x,x*x*x))"
      ],
      "execution_count": 27,
      "outputs": [
        {
          "output_type": "stream",
          "text": [
            "******Sqroot of number*****\n",
            "0 ^ 0 = 0\n",
            "1 ^ 1 = 1\n",
            "2 ^ 2 = 4\n",
            "3 ^ 3 = 9\n",
            "4 ^ 4 = 16\n",
            "5 ^ 5 = 25\n",
            "6 ^ 6 = 36\n",
            "7 ^ 7 = 49\n",
            "8 ^ 8 = 64\n",
            "9 ^ 9 = 81\n",
            "10 ^ 10 = 100\n"
          ],
          "name": "stdout"
        }
      ]
    },
    {
      "cell_type": "markdown",
      "metadata": {
        "id": "T032l0-yJGpx"
      },
      "source": [
        "##While"
      ]
    },
    {
      "cell_type": "code",
      "metadata": {
        "id": "B0q1zjyzJIpb",
        "outputId": "0bac392e-5b3b-4944-f781-995d683cca9a",
        "colab": {
          "base_uri": "https://localhost:8080/"
        }
      },
      "source": [
        "def prime():\n",
        "  num= int(input(\"Enter the number:\"))\n",
        "  c=0 #seting counter\n",
        "  i=1 #initialization\n",
        "  while i<=num:\n",
        "    rem=num%i\n",
        "    if rem==0:\n",
        "      c=c+1\n",
        "    i=i+1\n",
        "    if c==2:\n",
        "      print(\"{} is prime number\".format(num))\n",
        "    else:\n",
        "      print(\"{} is not a prime number\".format(num))\n",
        "\n",
        "prime()\n"
      ],
      "execution_count": 33,
      "outputs": [
        {
          "output_type": "stream",
          "text": [
            "Enter the number:12\n",
            "12 is not a prime number\n",
            "12 is prime number\n",
            "12 is not a prime number\n",
            "12 is not a prime number\n",
            "12 is not a prime number\n",
            "12 is not a prime number\n",
            "12 is not a prime number\n",
            "12 is not a prime number\n",
            "12 is not a prime number\n",
            "12 is not a prime number\n",
            "12 is not a prime number\n",
            "12 is not a prime number\n"
          ],
          "name": "stdout"
        }
      ]
    }
  ]
}
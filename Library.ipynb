{
  "nbformat": 4,
  "nbformat_minor": 0,
  "metadata": {
    "colab": {
      "name": "Library.ipynb",
      "provenance": [],
      "authorship_tag": "ABX9TyOn0leFn6hXK2NMX15MKlEc",
      "include_colab_link": true
    },
    "kernelspec": {
      "name": "python3",
      "display_name": "Python 3"
    }
  },
  "cells": [
    {
      "cell_type": "markdown",
      "metadata": {
        "id": "view-in-github",
        "colab_type": "text"
      },
      "source": [
        "<a href=\"https://colab.research.google.com/github/mayanrajesh/Programming_MS/blob/main/Library.ipynb\" target=\"_parent\"><img src=\"https://colab.research.google.com/assets/colab-badge.svg\" alt=\"Open In Colab\"/></a>"
      ]
    },
    {
      "cell_type": "code",
      "metadata": {
        "id": "9X8GOqPxewSF"
      },
      "source": [
        "from datetime import date\n",
        "payment={}\n",
        "\n",
        "def addbook():\n",
        "  author=input('Enter Author Name: ')\n",
        "  book=input('Enter Book Name: ')\n",
        "  if author.title() in library:\n",
        "    if book.title() in library[author.title()]:\n",
        "      print(\"Book already avilable in system.\")\n",
        "    else:\n",
        "      library.setdefault(author.title(),[]).append(book.title())\n",
        "      print('Book {}, added for Author {}'.format(book.title(),author.title()))\n",
        "  else:\n",
        "    library.setdefault(author.title(),[]).append(book.title())\n",
        "    print('Book {} added in library with Author {} '.format(book.title(),author.title()))\n",
        "\n",
        "\n",
        "def search():\n",
        "  option=input('want to search by author name(yes/no):')\n",
        "  if option.title() == 'Yes':\n",
        "    author=input('Enter Author name to search: ')\n",
        "    if author.title() in library:\n",
        "      print('Author: {} '.format(author.title()))\n",
        "      print('Book name:')\n",
        "      for name in library[author.title()]:\n",
        "        print('{0:3}{1:1}'.format(' ',name))    \n",
        "    else:\n",
        "      print('No book found with author {}'.format(author.title()))\n",
        "  else:\n",
        "    book=input('Enter book name to search: ')\n",
        "    for key,value in library.items():\n",
        "      if book.title() in value:\n",
        "        print('Author: {} '.format(key))\n",
        "        print('Book Name:')\n",
        "        for name in value:\n",
        "          print('{0:3}{1:1}'.format(' ',name)) \n",
        "    if book.title() not in value:  \n",
        "      print('No book found with name {}'.format(book.title()))\n",
        "\n",
        "\n",
        "\n",
        "def lendbook():\n",
        "  search()\n",
        "  book=input('enter book name you want to lend: ')\n",
        "  author=input('Enter Author name: ')\n",
        "  if author.title() in library:\n",
        "    if book.title() in library[author.title()]:\n",
        "      option=input('confirm if you want to lend(Yes/No): ')\n",
        "      if option.title()=='Yes':\n",
        "        name=input('Enter your Name: ')\n",
        "        library.setdefault(author.title(),[]).remove(book.title())\n",
        "        today = date.today()\n",
        "        payment.setdefault(name.title(),[]).append(today.strftime('%d/%m/%Y'))\n",
        "        payment.setdefault(name.title(),[]).append(book.title())\n",
        "        print('book {} reserverd'.format(book.title()))\n",
        "        if len(library[author.title()])==0:\n",
        "          library.pop(author.title())\n",
        "    else:\n",
        "      print('book not found')\n",
        "  else:\n",
        "    print('No book found with author {}'.format(author.title()))\n",
        "\n"
      ],
      "execution_count": null,
      "outputs": []
    }
  ]
}
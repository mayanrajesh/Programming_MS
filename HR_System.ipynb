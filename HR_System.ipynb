{
  "nbformat": 4,
  "nbformat_minor": 0,
  "metadata": {
    "colab": {
      "name": "HR System.ipynb",
      "provenance": [],
      "authorship_tag": "ABX9TyOpivphgNAT+dNpr61PvGBW",
      "include_colab_link": true
    },
    "kernelspec": {
      "name": "python3",
      "display_name": "Python 3"
    }
  },
  "cells": [
    {
      "cell_type": "markdown",
      "metadata": {
        "id": "view-in-github",
        "colab_type": "text"
      },
      "source": [
        "<a href=\"https://colab.research.google.com/github/mayanrajesh/Programming_MS/blob/main/HR_System.ipynb\" target=\"_parent\"><img src=\"https://colab.research.google.com/assets/colab-badge.svg\" alt=\"Open In Colab\"/></a>"
      ]
    },
    {
      "cell_type": "markdown",
      "metadata": {
        "id": "QtCVEi2dYFuk"
      },
      "source": [
        "##WAP to build a HR system with the help of databases This program would input all the demographics details such as age gender,name,experience, tools,salary and remarks he/she knows etc. of the employees. second half view:\n",
        "###1. manager want to see your demographic details -it will only show experiance,salary and tools\n",
        "###2. you want to see your details , it should show all the details except remarks."
      ]
    },
    {
      "cell_type": "code",
      "metadata": {
        "id": "esKg9mNrX8of"
      },
      "source": [
        "import sqlite3\n",
        "import pandas as pd\n",
        "db = sqlite3.connect(\"HR_database.db\")\n",
        "db.execute(\"drop table if exists results\")\n",
        "try:\n",
        "  db.execute(\"create table HR(Name text, Age text,Gender text, Experience text, Tool_exp text, Remarks text)\")\n",
        "except:\n",
        "  print(\"Already table existed !!\")\n",
        "\n",
        "def emp_input():\n",
        "  db = sqlite3.connect(\"HR_database.db\")\n",
        "  print('Enter employee details.')\n",
        "  name=input('Enter Employee name: ')\n",
        "  age=input('Enter age: ')\n",
        "  gender=input('Enter Gender: ')\n",
        "  exp=input('Enter total Experience: ')\n",
        "  tool=input('Enter tools details: ')\n",
        "  remark=input('Enter Employee remarks: ')\n",
        "  cmd = \"insert into HR(Name, Age, Gender, Experience, Tool_exp, Remarks) values('{}','{}','{}','{}','{}','{}')\".format(name,age,gender,exp,tool,remark)\n",
        "  db.execute(cmd)\n",
        "  db.commit()\n",
        "\n",
        "def emp_view():\n",
        "  db = sqlite3.connect(\"HR_database.db\")\n",
        "  name=input('Enter your name: ')\n",
        "  result = db.execute('SELECT Name,Age,Gender,Experience,Tool_exp FROM HR WHERE name =\"{}\"'.format(name) )\n",
        "  emp=[]\n",
        "  for x in result:\n",
        "    emp.append(x)\n",
        "    data=pd.DataFrame(emp)\n",
        "    data.columns=['Name','Age','Gender','Exp','Tool']\n",
        "  print(data)\n",
        "\n",
        "def HR_view():\n",
        "  db=sqlite3.connect(\"HR_database.db\")\n",
        "  name=input('Enter Employee name:')\n",
        "  result=db.execute('SELECT Name,Age,Gender,Experience,Tool_exp,remarks FROM HR WHERE name =\"{}\"'.format(name) )\n",
        "  view=[]\n",
        "  for x in result:\n",
        "    view.append(x)\n",
        "    data=pd.DataFrame(view)\n",
        "    data.columns=['Name','Age','Gender','Exp','Tool','Remark']\n",
        "  print(data)\n",
        "\n",
        "    #print (pd.DataFrame(x,columns=['Name','age','Gender','Exp','Tool','remark']))\n",
        "\n",
        "def main():\n",
        "  print('1. Add Employee Entry.')\n",
        "  print('2. Employee View.')\n",
        "  print('3. HR View.')\n",
        "  print('4. Quit.')\n",
        "\n",
        "choice = 0                                                                      \n",
        "main()\n",
        "while choice != 4:\n",
        "  choice = int(input(\"\\nSelect the above choice(1-4) : \"))\n",
        "  if choice==1:\n",
        "    emp_input()\n",
        "  elif choice==2:\n",
        "    emp_view()\n",
        "  elif choice==3:\n",
        "    HR_view()\n",
        "  elif choice==4:\n",
        "    print('Thank you')\n",
        "  elif choice!=4:\n",
        "    main()\n",
        "\n"
      ],
      "execution_count": null,
      "outputs": []
    }
  ]
}
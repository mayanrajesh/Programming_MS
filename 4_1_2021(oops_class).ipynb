{
  "nbformat": 4,
  "nbformat_minor": 0,
  "metadata": {
    "colab": {
      "name": "4-1-2021(oops class).ipynb",
      "provenance": [],
      "collapsed_sections": [],
      "include_colab_link": true
    },
    "kernelspec": {
      "name": "python3",
      "display_name": "Python 3"
    }
  },
  "cells": [
    {
      "cell_type": "markdown",
      "metadata": {
        "id": "view-in-github",
        "colab_type": "text"
      },
      "source": [
        "<a href=\"https://colab.research.google.com/github/mayanrajesh/Programming_MS/blob/main/4_1_2021(oops_class).ipynb\" target=\"_parent\"><img src=\"https://colab.research.google.com/assets/colab-badge.svg\" alt=\"Open In Colab\"/></a>"
      ]
    },
    {
      "cell_type": "code",
      "metadata": {
        "colab": {
          "base_uri": "https://localhost:8080/"
        },
        "id": "crB0jWT-rDeo",
        "outputId": "29347400-f275-46d8-a16f-c6590cff5a4a"
      },
      "source": [
        "#WAP which shows inheritance(parent class and student(child) class). class employee and child 2 child one\n",
        "#one is Data Analyst and Machine Learning expert .\n",
        "#From parent class you need to initialise fname,second name,empid \n",
        "#In Data Analyst ,you have to write one function\n",
        "#in Machine expert , one function.\n",
        "#call those function.\n",
        "\n",
        "\n",
        "class employee():\n",
        "\n",
        "  \n",
        "  def __init__(self,fname,sname,empid):\n",
        "    self.fname=fname\n",
        "    self.sname=sname\n",
        "    self.empid=empid\n",
        "\n",
        "class Data_Analyst(employee):\n",
        "  def __init__(self,fname,sname,empid,exp):\n",
        "    super().__init__(fname,sname,empid)\n",
        "    self.exp=exp\n",
        "\n",
        "class Machine_Expert(employee):\n",
        "  def __init__(self,fname,sname,empid,salary):\n",
        "    super().__init__(fname,sname,empid)\n",
        "    self.salary=int(salary)\n",
        "\n",
        "rajesh=Data_Analyst(\"rajesh\",\"kumar\",\"10550250\",\"python\")\n",
        "print(rajesh.fname)\n",
        "print(rajesh.exp)\n",
        "\n",
        "rajesh_k=Machine_Expert(\"rajesh\",\"kumar\",\"10550250\",\"5000\")\n",
        "print(rajesh_k.salary)\n"
      ],
      "execution_count": null,
      "outputs": [
        {
          "output_type": "stream",
          "text": [
            "rajesh\n",
            "python\n",
            "5000\n"
          ],
          "name": "stdout"
        }
      ]
    },
    {
      "cell_type": "code",
      "metadata": {
        "id": "eoPROCa32G7-"
      },
      "source": [
        ""
      ],
      "execution_count": null,
      "outputs": []
    },
    {
      "cell_type": "code",
      "metadata": {
        "colab": {
          "base_uri": "https://localhost:8080/"
        },
        "id": "Groc1VX21GkB",
        "outputId": "23056c86-7cd5-416d-91b2-ae01deadaea6"
      },
      "source": [
        "#WAC whcich will add two name of two diff objectusing magic function\n",
        "\n",
        "class employee():\n",
        "  def __init__(self,fname):\n",
        "    self.fname=fname\n",
        "\n",
        "  def __add__(self,lname):\n",
        "    return(self.fname+lname.fname)\n",
        "raj=employee(\"rajesh\")\n",
        "rajesh=employee(\"Kumar\")\n",
        "\n",
        "print(raj+rajesh)\n"
      ],
      "execution_count": null,
      "outputs": [
        {
          "output_type": "stream",
          "text": [
            "rajeshKumar\n"
          ],
          "name": "stdout"
        }
      ]
    },
    {
      "cell_type": "code",
      "metadata": {
        "colab": {
          "base_uri": "https://localhost:8080/"
        },
        "id": "b0tbi8cx6adv",
        "outputId": "83918c98-5e75-4332-f472-bcdf0eb029e4"
      },
      "source": [
        "#WAC which change the maling address and postal address using the property tag.\n",
        "\n",
        "class worker():\n",
        "  def __init__(self,fname,lname,postal):\n",
        "    self.fname=fname\n",
        "    self.lname=lname\n",
        "    self.postal=postal\n",
        "\n",
        "  @property\n",
        "  def email(self):\n",
        "    return self.fname+self.lname +\"@gmail.com\"\n",
        "  \n",
        "  @property\n",
        "  def Address(self):\n",
        "    return self.fname+self.lname +\" \"+ \"postal code:\"+self.postal\n",
        "\n",
        "if __name__==\"__main__\":\n",
        "  rajesh=worker(\"rajesh\",\"kumar\",\"12345\")\n",
        "  print(rajesh.email)\n",
        "\n",
        "  rajesh.lname=\"sinha\"\n",
        "  print(rajesh.email)\n",
        "  print(rajesh.Address)\n"
      ],
      "execution_count": null,
      "outputs": [
        {
          "output_type": "stream",
          "text": [
            "rajeshkumar@gmail.com\n",
            "rajeshsinha@gmail.com\n",
            "rajeshsinha postal code:12345\n"
          ],
          "name": "stdout"
        }
      ]
    },
    {
      "cell_type": "code",
      "metadata": {
        "colab": {
          "base_uri": "https://localhost:8080/"
        },
        "id": "jkhNSo_t-cHQ",
        "outputId": "e596c60a-907a-4f28-9313-a67d0164c03e"
      },
      "source": [
        "#WAP to change the postal address by using setter\n",
        "class home():\n",
        "  def __init__(self,street,city,state):\n",
        "    self.street=street\n",
        "    self.city=city\n",
        "    self.state=state\n",
        "  \n",
        "  @property\n",
        "  def address(self):\n",
        "    return self.street +\" \"+ self.city +\" \"+ self.state\n",
        "  \n",
        "  @address.setter\n",
        "  def address(self,address):\n",
        "    fulladdress=address.split(\"/\")\n",
        "    self.street=fulladdress[0]\n",
        "    self.city=fulladdress[1]\n",
        "    self.state=fulladdress[2]\n",
        "  \n",
        "\n",
        "if __name__==\"__main__\":\n",
        "  rajesh=home(\"richmond\",\"dublin\",\"ireland\")\n",
        "  print(rajesh.address)\n",
        "  rajesh.address=\"26/cork/ireland\"\n",
        "  print(rajesh.address)\n"
      ],
      "execution_count": null,
      "outputs": [
        {
          "output_type": "stream",
          "text": [
            "richmond dublin ireland\n",
            "26 cork ireland\n"
          ],
          "name": "stdout"
        }
      ]
    }
  ]
}
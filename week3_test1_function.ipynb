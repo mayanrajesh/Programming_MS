{
  "nbformat": 4,
  "nbformat_minor": 0,
  "metadata": {
    "colab": {
      "name": "week3_test1_function.ipynb",
      "provenance": [],
      "collapsed_sections": [],
      "authorship_tag": "ABX9TyNMwuB5fNzfONf1XFuQj3tv",
      "include_colab_link": true
    },
    "kernelspec": {
      "name": "python3",
      "display_name": "Python 3"
    }
  },
  "cells": [
    {
      "cell_type": "markdown",
      "metadata": {
        "id": "view-in-github",
        "colab_type": "text"
      },
      "source": [
        "<a href=\"https://colab.research.google.com/github/mayanrajesh/Programming_MS/blob/main/week3_test1_function.ipynb\" target=\"_parent\"><img src=\"https://colab.research.google.com/assets/colab-badge.svg\" alt=\"Open In Colab\"/></a>"
      ]
    },
    {
      "cell_type": "markdown",
      "metadata": {
        "id": "hVCU04hpJXcn"
      },
      "source": [
        "#Week_3 Test1 \n",
        "\n",
        "*using function*"
      ]
    },
    {
      "cell_type": "markdown",
      "metadata": {
        "id": "Tx9KOxJCAjhs"
      },
      "source": [
        "#Program to count Even and Odd numbers in a List\n"
      ]
    },
    {
      "cell_type": "code",
      "metadata": {
        "id": "efZt_fAWsgo8",
        "colab": {
          "base_uri": "https://localhost:8080/"
        },
        "outputId": "594967c1-a229-4f6d-ec38-eda6919c1e4d"
      },
      "source": [
        "def odd_even():\n",
        "  num = input(\"Enter a number separated by comma(,): \")\n",
        "  A = num.split(\",\")\n",
        "  even=0\n",
        "  odd=0\n",
        "  for x in A:\n",
        "    if(int(x) % 2 == 0):\n",
        "      even += 1\n",
        "    else:\n",
        "      odd += 1\n",
        "  print(\"even numbers in the list is {} \".format(even)) \n",
        "  print(\"odd numbers in the list is {} \".format(odd)) \n",
        "\n",
        "odd_even()\n"
      ],
      "execution_count": null,
      "outputs": [
        {
          "output_type": "stream",
          "text": [
            "Enter a number separated by comma(,): 3,5,1,2,4,8,9,10,12\n",
            "even numbers in the list is 5 \n",
            "odd numbers in the list is 4 \n"
          ],
          "name": "stdout"
        }
      ]
    },
    {
      "cell_type": "markdown",
      "metadata": {
        "id": "br8YkGkoAxn9"
      },
      "source": [
        "#Program to print positive numbers in a list"
      ]
    },
    {
      "cell_type": "code",
      "metadata": {
        "id": "cKN5hqhuvshI",
        "colab": {
          "base_uri": "https://localhost:8080/"
        },
        "outputId": "fde25890-4b1c-4702-f650-0dfd254a5271"
      },
      "source": [
        "def positive_num():\n",
        "  num = input(\"Enter a number separated by comma(,): \")\n",
        "  A = num.split(\",\")\n",
        "  for x in A:\n",
        "    if int(x)>=0:\n",
        "      print(\"{} is positive number \".format(x))\n",
        "\n",
        "positive_num()"
      ],
      "execution_count": null,
      "outputs": [
        {
          "output_type": "stream",
          "text": [
            "Enter a number separated by comma(,): 2,3,-1,-6,-10,4,6\n",
            "2 is positive number \n",
            "3 is positive number \n",
            "4 is positive number \n",
            "6 is positive number \n"
          ],
          "name": "stdout"
        }
      ]
    },
    {
      "cell_type": "markdown",
      "metadata": {
        "id": "i6yPeoQlAirS"
      },
      "source": [
        "#Program to print negative numbers in a list"
      ]
    },
    {
      "cell_type": "code",
      "metadata": {
        "id": "pX_gNTMU_sPX",
        "colab": {
          "base_uri": "https://localhost:8080/"
        },
        "outputId": "d2e33f79-4efe-48f4-ee3b-7a78b5ca8bb3"
      },
      "source": [
        "def negative_num():\n",
        "  num = input(\"Enter a number separated by comma(,): \")\n",
        "  A = num.split(\",\")\n",
        "  for x in A:\n",
        "    if int(x)<0:\n",
        "      print(\"{} is Negative number \".format(x))\n",
        "negative_num()"
      ],
      "execution_count": null,
      "outputs": [
        {
          "output_type": "stream",
          "text": [
            "Enter a number separated by comma(,): 2,3,10,-1,-2,-3,-5,-6\n",
            "-1 is Negative number \n",
            "-2 is Negative number \n",
            "-3 is Negative number \n",
            "-5 is Negative number \n",
            "-6 is Negative number \n"
          ],
          "name": "stdout"
        }
      ]
    },
    {
      "cell_type": "markdown",
      "metadata": {
        "id": "XCg74r_QC0sM"
      },
      "source": [
        "#Program to print all positive numbers in a range"
      ]
    },
    {
      "cell_type": "code",
      "metadata": {
        "id": "cY_Id_xrs_ig",
        "colab": {
          "base_uri": "https://localhost:8080/"
        },
        "outputId": "0a8ab371-3919-42bf-fd07-9ee5b92c0e11"
      },
      "source": [
        "def pos_num_range():\n",
        "  ll=int(input(\"enter the lower range limit:\"))\n",
        "  ul=int(input(\"enter the upper range limit:\"))\n",
        "  A=[]\n",
        "  for x in range(ll,ul):\n",
        "    if x>=0:\n",
        "      A.append(x)\n",
        "  print(\"positive number in range {} to {} is : {}\".format(ll,ul,A))\n",
        "  \n",
        "pos_num_range()"
      ],
      "execution_count": null,
      "outputs": [
        {
          "output_type": "stream",
          "text": [
            "enter the lower range limit:-10\n",
            "enter the upper range limit:6\n",
            "positive number in range -10 to 6 is [0, 1, 2, 3, 4, 5]:\n"
          ],
          "name": "stdout"
        }
      ]
    },
    {
      "cell_type": "markdown",
      "metadata": {
        "id": "WrEZojQfCvXL"
      },
      "source": [
        "#Program to print all negative numbers in a range"
      ]
    },
    {
      "cell_type": "code",
      "metadata": {
        "id": "E3T2dS_6Cxon",
        "colab": {
          "base_uri": "https://localhost:8080/"
        },
        "outputId": "7b558105-d9f3-4e95-be87-547bfb712098"
      },
      "source": [
        "def neg_num_range():\n",
        "  ll=int(input(\"enter the lower range limit:\"))\n",
        "  ul=int(input(\"enter the upper range limit:\"))\n",
        "  A=[]\n",
        "  for x in range(ll,ul):\n",
        "    if x<0:\n",
        "      A.append(x)\n",
        "  print(\"negative number in range {} to {} is : {}\".format(ll,ul,A))\n",
        "  \n",
        "neg_num_range()"
      ],
      "execution_count": null,
      "outputs": [
        {
          "output_type": "stream",
          "text": [
            "enter the lower range limit:-10\n",
            "enter the upper range limit:7\n",
            "negative number in range -10 to 7 is : [-10, -9, -8, -7, -6, -5, -4, -3, -2, -1]\n"
          ],
          "name": "stdout"
        }
      ]
    },
    {
      "cell_type": "markdown",
      "metadata": {
        "id": "9olV0BVLE1xO"
      },
      "source": [
        "#Program to count positive and negative numbers in a list"
      ]
    },
    {
      "cell_type": "code",
      "metadata": {
        "id": "bfDYBk4EE5nD",
        "colab": {
          "base_uri": "https://localhost:8080/"
        },
        "outputId": "bfcaa4f9-14ee-472c-f3d1-cff684899b35"
      },
      "source": [
        "def pos_neg_count():  \n",
        "  num = input(\"Enter a number separated by comma(,): \")\n",
        "  A = num.split(\",\")\n",
        "  positive=0\n",
        "  negative=0 \n",
        "  for x in A:\n",
        "    if int(x)>=0:\n",
        "      positive+=1\n",
        "    if int(x)<0:\n",
        "      negative+=1\n",
        "  print(\"positive  numbers in the list is {} \".format(positive)) \n",
        "  print(\"Negative  numbers in the list is {} \".format(negative))\n",
        "\n",
        "pos_neg_count()"
      ],
      "execution_count": null,
      "outputs": [
        {
          "output_type": "stream",
          "text": [
            "Enter a number separated by comma(,): -10,-12,-3,-4,-5,5,4,3,7,8\n",
            "positive  numbers in the list is 5 \n",
            "Negative  numbers in the list is 5 \n"
          ],
          "name": "stdout"
        }
      ]
    },
    {
      "cell_type": "markdown",
      "metadata": {
        "id": "Sx4ebYC7FnXs"
      },
      "source": [
        "#Program to remove multiple elements from a list in Python"
      ]
    },
    {
      "cell_type": "code",
      "metadata": {
        "id": "80b7gXp6FpCU",
        "colab": {
          "base_uri": "https://localhost:8080/"
        },
        "outputId": "cdb35dba-2798-47f9-c4ee-a95790ce6fc6"
      },
      "source": [
        "def remove_dulicate():  \n",
        "  num = input(\"Enter a number separated by comma(,): \")\n",
        "  A = num.split(\",\")\n",
        "  A=list(set(A))\n",
        "  print (\"unique value in the list is {}\".format(A))\n",
        "\n",
        "remove_dulicate()"
      ],
      "execution_count": null,
      "outputs": [
        {
          "output_type": "stream",
          "text": [
            "Enter a number separated by comma(,): 2,2,4,3,5,3,6\n",
            "unique value in the list is ['3', '5', '6', '4', '2']\n"
          ],
          "name": "stdout"
        }
      ]
    },
    {
      "cell_type": "markdown",
      "metadata": {
        "id": "n8pMbuziHF19"
      },
      "source": [
        "#Program to find area of a circle"
      ]
    },
    {
      "cell_type": "code",
      "metadata": {
        "id": "SLjT-TTLHDeR",
        "colab": {
          "base_uri": "https://localhost:8080/"
        },
        "outputId": "9c272493-bee7-4e97-b084-cd81c66be2da"
      },
      "source": [
        "def area():\n",
        "  r=int(input(\"please enter your radious:\"))\n",
        "  circle_area=3.14*r*r\n",
        "  print(\"Area of circle for radious {} is {}\".format(r,circle_area))\n",
        "\n",
        "area()"
      ],
      "execution_count": null,
      "outputs": [
        {
          "output_type": "stream",
          "text": [
            "please enter your radious:4\n",
            "Area of circle for radious 4 is 50.24\n"
          ],
          "name": "stdout"
        }
      ]
    },
    {
      "cell_type": "markdown",
      "metadata": {
        "id": "CCjFLhYAHiOi"
      },
      "source": [
        "#Program for Fibonacci numbers"
      ]
    },
    {
      "cell_type": "code",
      "metadata": {
        "id": "uZQQtCFeHjlg",
        "colab": {
          "base_uri": "https://localhost:8080/"
        },
        "outputId": "2c275dab-57d0-4007-d3dc-c3da863cdc61"
      },
      "source": [
        "def fibonacci():\n",
        "  n=int(input(\"enter the range :\"))\n",
        "  c = 0\n",
        "  a = 0\n",
        "  b = 1\n",
        "  sum = 0\n",
        "  for c in range(n):\n",
        "    print(a)\n",
        "    sum = a + b\n",
        "    a = b\n",
        "    b = sum\n",
        "    c = c + 1\n",
        "      \n",
        "fibonacci()"
      ],
      "execution_count": null,
      "outputs": [
        {
          "output_type": "stream",
          "text": [
            "enter the range :5\n",
            "0\n",
            "1\n",
            "1\n",
            "2\n",
            "3\n"
          ],
          "name": "stdout"
        }
      ]
    },
    {
      "cell_type": "markdown",
      "metadata": {
        "id": "4idRLUenIM_G"
      },
      "source": [
        "#Program to print all Prime numbers in an Interval"
      ]
    },
    {
      "cell_type": "code",
      "metadata": {
        "id": "V6bGuyEFIDfu",
        "colab": {
          "base_uri": "https://localhost:8080/"
        },
        "outputId": "fde65d9d-2783-4866-d8e4-4cd281c36b47"
      },
      "source": [
        "def prime_num():\n",
        "  ll=int(input(\"enter the lower range limt:\"))\n",
        "  ul=int(input(\"enter the upper range limit:\"))\n",
        "  A=[]\n",
        "  for x in range(ll,ul):\n",
        "    if x>1:\n",
        "      for num in range(2,x):\n",
        "          if(x % num==0):\n",
        "              break\n",
        "      else:\n",
        "          A.append(x)\n",
        "          \n",
        "  print(\"prime number between {} and {} is: {} \".format(ll,ul,A))\n",
        "prime_num()"
      ],
      "execution_count": null,
      "outputs": [
        {
          "output_type": "stream",
          "text": [
            "enter the upper range limit:10\n",
            "prime number between and 10 is: [2, 3, 5, 7] \n"
          ],
          "name": "stdout"
        }
      ]
    },
    {
      "cell_type": "markdown",
      "metadata": {
        "id": "uR_dgtQJJQGm"
      },
      "source": [
        "#Program to check whether a number is Prime or not"
      ]
    },
    {
      "cell_type": "code",
      "metadata": {
        "id": "wXFUVNtqJTTl",
        "colab": {
          "base_uri": "https://localhost:8080/"
        },
        "outputId": "b9cfd28b-6729-40c7-cf7e-1e002d76b062"
      },
      "source": [
        "def prime():\n",
        "  num= int(input(\"Enter the number:\"))\n",
        "  c=0 #seting counter\n",
        "  i=1 #initialization\n",
        "  while i<=num:\n",
        "     \n",
        "    if (num%i)==0:\n",
        "      c=c+1\n",
        "    i=i+1\n",
        "  if c==2:\n",
        "    print(\"{} is prime number\".format(num))\n",
        "  else:\n",
        "    print(\"{} is not a prime number\".format(num))\n",
        "\n",
        "prime()"
      ],
      "execution_count": null,
      "outputs": [
        {
          "output_type": "stream",
          "text": [
            "Enter the number:9\n",
            "9 is not a prime number\n"
          ],
          "name": "stdout"
        }
      ]
    }
  ]
}
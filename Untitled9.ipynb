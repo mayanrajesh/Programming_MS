{
  "nbformat": 4,
  "nbformat_minor": 0,
  "metadata": {
    "colab": {
      "name": "Untitled9.ipynb",
      "provenance": [],
      "collapsed_sections": [],
      "authorship_tag": "ABX9TyN4ugfpBRYqr777Z+srHLev",
      "include_colab_link": true
    },
    "kernelspec": {
      "name": "python3",
      "display_name": "Python 3"
    }
  },
  "cells": [
    {
      "cell_type": "markdown",
      "metadata": {
        "id": "view-in-github",
        "colab_type": "text"
      },
      "source": [
        "<a href=\"https://colab.research.google.com/github/mayanrajesh/Programming_MS/blob/main/Untitled9.ipynb\" target=\"_parent\"><img src=\"https://colab.research.google.com/assets/colab-badge.svg\" alt=\"Open In Colab\"/></a>"
      ]
    },
    {
      "cell_type": "code",
      "metadata": {
        "id": "sPlhEyYy6dFt"
      },
      "source": [
        "def prime():\n",
        "  #num= int(input(\"Enter the number:\"))\n",
        "  c=0 #seting counter\n",
        "  i=1 #initialization\n",
        "  while i<=():\n",
        "     \n",
        "    if (num%i)==0:\n",
        "      c=c+1\n",
        "    i=i+1\n",
        "  if c==2:\n",
        "    print(\"{} is prime number\".format(num))\n",
        "  else:\n",
        "    print(\"{} is not a prime number\".format(num))\n",
        "\n",
        "prime()"
      ],
      "execution_count": null,
      "outputs": []
    },
    {
      "cell_type": "code",
      "metadata": {
        "colab": {
          "base_uri": "https://localhost:8080/"
        },
        "id": "n3QM06NM7PPO",
        "outputId": "3de1bee3-96cb-4ade-c6db-a61c04c71904"
      },
      "source": [
        "def calcPrim(number):\n",
        "    primList = []\n",
        "    primList.append(2)\n",
        "    value = 3\n",
        "    while len(primList) < number:\n",
        "        if checkPrim(primList, value):\n",
        "            primList.append(value)\n",
        "        value += 1\n",
        "    primList.insert(0, 1)\n",
        "    return primList\n",
        " \n",
        "def checkPrim(primList, value):\n",
        "    for prim in primList:\n",
        "        if value%prim == 0:\n",
        "            return False\n",
        "    return True\n",
        " \n",
        "number = 10001\n",
        "primList = calcPrim(number)\n",
        "print('{}th prime = {}'.format(number,primList[number]))"
      ],
      "execution_count": null,
      "outputs": [
        {
          "output_type": "stream",
          "text": [
            "10001th prime = 104743\n"
          ],
          "name": "stdout"
        }
      ]
    },
    {
      "cell_type": "code",
      "metadata": {
        "colab": {
          "base_uri": "https://localhost:8080/",
          "height": 198
        },
        "id": "Jb0qLk0z9vry",
        "outputId": "b6d83797-6eca-417d-a2f5-64f8ab980d48"
      },
      "source": [
        "def sieve_set(n=1000000):\n",
        "    not_prime = set()\n",
        "    primes = []\n",
        "    for i in range(2, n+1): \n",
        "        if i not in not_prime:\n",
        "            primes.append(i) \n",
        "            for j in range(i*i, n+1, i): \n",
        "                not_prime.add(j)\n",
        "\n",
        "    return primes[10002]\n",
        "sieve_set()"
      ],
      "execution_count": null,
      "outputs": [
        {
          "output_type": "error",
          "ename": "TypeError",
          "evalue": "ignored",
          "traceback": [
            "\u001b[0;31m---------------------------------------------------------------------------\u001b[0m",
            "\u001b[0;31mTypeError\u001b[0m                                 Traceback (most recent call last)",
            "\u001b[0;32m<ipython-input-10-4c0b64134f3a>\u001b[0m in \u001b[0;36m<module>\u001b[0;34m()\u001b[0m\n\u001b[1;32m      9\u001b[0m \u001b[0;34m\u001b[0m\u001b[0m\n\u001b[1;32m     10\u001b[0m     \u001b[0;32mreturn\u001b[0m \u001b[0mprimes\u001b[0m\u001b[0;34m[\u001b[0m\u001b[0;36m10002\u001b[0m\u001b[0;34m]\u001b[0m\u001b[0;34m\u001b[0m\u001b[0;34m\u001b[0m\u001b[0m\n\u001b[0;32m---> 11\u001b[0;31m \u001b[0msieve_set\u001b[0m\u001b[0;34m(\u001b[0m\u001b[0mprimes\u001b[0m\u001b[0;34m[\u001b[0m\u001b[0;36m10002\u001b[0m\u001b[0;34m]\u001b[0m\u001b[0;34m)\u001b[0m\u001b[0;34m\u001b[0m\u001b[0;34m\u001b[0m\u001b[0m\n\u001b[0m",
            "\u001b[0;31mTypeError\u001b[0m: 'function' object is not subscriptable"
          ]
        }
      ]
    },
    {
      "cell_type": "code",
      "metadata": {
        "colab": {
          "base_uri": "https://localhost:8080/"
        },
        "id": "BopY9bgIpLcD",
        "outputId": "d8d0a753-f8fb-4a4b-956f-ac18f1adbf7d"
      },
      "source": [
        "\n",
        "while True:\n",
        "  A = input(r\"enter input\")\n",
        "  try:\n",
        "    if '\\\\' in A:\n",
        "      if A.count('\\\\')==1:\n",
        "        A=str(A)\n",
        "  except:\n",
        "    print('try again')\n",
        "    continue\n",
        "  break\n"
      ],
      "execution_count": null,
      "outputs": [
        {
          "output_type": "stream",
          "text": [
            "enter input123\n"
          ],
          "name": "stdout"
        }
      ]
    },
    {
      "cell_type": "code",
      "metadata": {
        "colab": {
          "base_uri": "https://localhost:8080/"
        },
        "id": "-Gv14wqjvjT8",
        "outputId": "add3501a-db70-4ab2-a8cf-ca905ab86d34"
      },
      "source": [
        "A=r\"DBS\\asjaisjds\"\n",
        "if A.count('\\\\')==1:\n",
        "  print('asasdw')\n",
        "else:\n",
        "  print('asdadffadfd')"
      ],
      "execution_count": null,
      "outputs": [
        {
          "output_type": "stream",
          "text": [
            "asasdw\n"
          ],
          "name": "stdout"
        }
      ]
    },
    {
      "cell_type": "code",
      "metadata": {
        "colab": {
          "base_uri": "https://localhost:8080/"
        },
        "id": "bzKTP3Uuz0xJ",
        "outputId": "f6a07a97-b9e2-423f-ec59-9eeb5225673c"
      },
      "source": [
        " A = input(r\"enter input\")\n",
        " s='\\\\' in A\n",
        " c=A.count('\\\\')\n",
        " print(s)\n",
        " print(c)"
      ],
      "execution_count": null,
      "outputs": [
        {
          "output_type": "stream",
          "text": [
            "enter input123\\123\\123\\123\n",
            "True\n",
            "3\n"
          ],
          "name": "stdout"
        }
      ]
    },
    {
      "cell_type": "code",
      "metadata": {
        "colab": {
          "base_uri": "https://localhost:8080/"
        },
        "id": "Up238P1KEZ1D",
        "outputId": "a49032bf-ba12-4212-af2a-214284749ffe"
      },
      "source": [
        "#def freequency():\n",
        "len = int(input(\"Input the number of elements to be stored in the list :\"))\n",
        "c = []\n",
        "print(\"Input {} elements in the list :\".format(len))\n",
        "for i in range(len):\n",
        "    numbers = map(int, input().split())\n",
        "    for number in numbers:\n",
        "        counts.append(number)\n",
        "\n",
        "# Get frequencies\n",
        "for count in set(counts):\n",
        "    print('frequency of', count, 'is', counts.count(count))\n",
        "c.clear()"
      ],
      "execution_count": null,
      "outputs": [
        {
          "output_type": "stream",
          "text": [
            "Input the number of elements to be stored in the list :4\n",
            "Input 4 elements in the list :\n",
            "1\n",
            "2\n",
            "1\n",
            "3\n",
            "frequency of 1 is 16\n",
            "frequency of 2 is 6\n",
            "frequency of 3 is 6\n",
            "frequency of 4 is 2\n",
            "frequency of 5 is 5\n",
            "frequency of 6 is 2\n",
            "frequency of 7 is 1\n"
          ],
          "name": "stdout"
        }
      ]
    },
    {
      "cell_type": "code",
      "metadata": {
        "colab": {
          "base_uri": "https://localhost:8080/"
        },
        "id": "AgH6pLYgNXeT",
        "outputId": "4f608565-dc46-4b5b-e32c-2f2183aebfd6"
      },
      "source": [
        "def freequency():\n",
        "  print(\"#############################\\n Welcome to DBS Console \\n#############################\")\n",
        "  while True:\n",
        "    element = input(\"Input the number of elements to be stored in the list :\")\n",
        "    try:\n",
        "      element=int(element)\n",
        "    except:\n",
        "      print(\"please enter number/interger value.\\n\")\n",
        "      continue\n",
        "    break\n",
        "\n",
        "  print(\"Input {} elements in the list :\".format(element))\n",
        "  num_list = []\n",
        "  for i in range(element):\n",
        "    num = map(int, input(\"element - {} : \".format(i)).split())\n",
        "    for x in num:\n",
        "        num_list.append(x)\n",
        "  print(\"\\nThe freequency of all elements of the list:\")\n",
        "# Get frequencies\n",
        "  for count in set(num_list):\n",
        "    print(count, 'occurs', num_list.count(count),'times')\n",
        "freequency()"
      ],
      "execution_count": 70,
      "outputs": [
        {
          "output_type": "stream",
          "text": [
            "#############################\n",
            " Welcome to DBS Console \n",
            "#############################\n",
            "Input the number of elements to be stored in the list :a\n",
            "please enter number/interger value.\n",
            "\n",
            "Input the number of elements to be stored in the list :3\n",
            "Input 3 elements in the list :\n",
            "element - 0 : 1\n",
            "element - 1 : 2\n",
            "element - 2 : 1\n",
            "\n",
            "The freequency of all elements of the list:\n",
            "1 occurs 2 times\n",
            "2 occurs 1 times\n"
          ],
          "name": "stdout"
        }
      ]
    },
    {
      "cell_type": "code",
      "metadata": {
        "colab": {
          "base_uri": "https://localhost:8080/"
        },
        "id": "1o_WenEFXya_",
        "outputId": "0de302ab-c877-47c6-b1bf-f8205e8ebc8f"
      },
      "source": [
        "def freequency():\n",
        "  print(\"#############################\\n Welcome to DBS Console \\n#############################\")\n",
        "  element = int(input(\"Input the number of elements to be stored in the list :\"))\n",
        "  print(\"Input {} elements in the list :\".format(element))\n",
        "  num_list = []\n",
        "  for i in range(element):\n",
        "    num = map(int, input(\"element - {} : \".format(i)).split())\n",
        "    for x in num:\n",
        "        num_list.append(x)\n",
        "  print(\"\\nThe freequency of all elements of the list:\")\n",
        "# Get frequencies\n",
        "  for count in set(num_list):\n",
        "    print(count, 'occurs', num_list.count(count),'times')\n",
        "freequency()"
      ],
      "execution_count": null,
      "outputs": [
        {
          "output_type": "stream",
          "text": [
            "#############################\n",
            " Welcome to DBS Console \n",
            "#############################\n",
            "Input the number of elements to be stored in the list :5\n",
            "Input 5 elements in the list :\n",
            "element - 0 : 1\n",
            "element - 1 : 1\n",
            "element - 2 : 2\n",
            "element - 3 : 3\n",
            "element - 4 : 3\n",
            "\n",
            "The freequency of all elements of the list:\n",
            "1 occurs 2 times\n",
            "2 occurs 1 times\n",
            "3 occurs 2 times\n"
          ],
          "name": "stdout"
        }
      ]
    },
    {
      "cell_type": "code",
      "metadata": {
        "colab": {
          "base_uri": "https://localhost:8080/"
        },
        "id": "KF62Fcebu4Iu",
        "outputId": "814252e4-4317-4e47-b699-e6f3c7d202e7"
      },
      "source": [
        "cstr = \"\\nI love geeksforgeeks\\n\"\n",
        "print (cstr.center(80, \"#\")) "
      ],
      "execution_count": null,
      "outputs": [
        {
          "output_type": "stream",
          "text": [
            "#############################\n",
            "I love geeksforgeeks\n",
            "#############################\n"
          ],
          "name": "stdout"
        }
      ]
    },
    {
      "cell_type": "code",
      "metadata": {
        "colab": {
          "base_uri": "https://localhost:8080/"
        },
        "id": "Jc9FnmCcYv1Q",
        "outputId": "8cfae6b6-366b-4d58-bb73-e6a6b7ab58e7"
      },
      "source": [
        "def print_menu():\n",
        "    print('1. Print Phone Numbers')\n",
        "    print('2. Add a Phone Number')\n",
        "    print('3. Remove a Phone Number')\n",
        "    print('4. Lookup a Phone Number')\n",
        "    print('5. update a Phone Number')\n",
        "    print('6. Quit')\n",
        "    print()\n",
        "print(\"#############################\\n Welcome to DBS Console \\n#############################\")\n",
        "numbers = {}\n",
        "menu_choice = 0\n",
        "print_menu()\n",
        "while menu_choice != 6:\n",
        "    menu_choice = int(input(\"Type in a number (1-5): \"))\n",
        "    if menu_choice == 1:\n",
        "        print(\"Telephone Numbers:\")\n",
        "        for x in numbers.keys():\n",
        "            print(\"Name: \", x, \"\\tNumber:\", numbers[x])\n",
        "        print()\n",
        "    elif menu_choice == 2:\n",
        "        print(\"Add Name and Number\")\n",
        "        name = input(\"Name: \")\n",
        "        phone = input(\"Number: \")\n",
        "        numbers[name] = phone\n",
        "    elif menu_choice == 3:\n",
        "        print(\"Remove Name and Number\")\n",
        "        name = input(\"Name: \")\n",
        "        if name in numbers:\n",
        "            del numbers[name]\n",
        "        else:\n",
        "            print(name, \"was not found\")\n",
        "    elif menu_choice == 4:\n",
        "        print(\"Lookup Number\")\n",
        "        name = input(\"Name: \")\n",
        "        if name in numbers:\n",
        "            print(\"The number is\", numbers[name])\n",
        "        else:\n",
        "            print(name, \"was not found\")\n",
        "    elif menu_choice == 5:\n",
        "        print(\"update Number\")\n",
        "        name = input(\"Name: \")\n",
        "        phone = input(\"Number: \")\n",
        "        if name in numbers:\n",
        "            numbers[name]=phone\n",
        "        else:\n",
        "            print(name, \"was not found\")\n",
        "    elif menu_choice != 6:\n",
        "        print_menu()"
      ],
      "execution_count": 66,
      "outputs": [
        {
          "output_type": "stream",
          "text": [
            "#############################\n",
            " Welcome to DBS Console \n",
            "#############################\n",
            "1. Print Phone Numbers\n",
            "2. Add a Phone Number\n",
            "3. Remove a Phone Number\n",
            "4. Lookup a Phone Number\n",
            "5. update a Phone Number\n",
            "6. Quit\n",
            "\n",
            "Type in a number (1-5): 6\n"
          ],
          "name": "stdout"
        }
      ]
    },
    {
      "cell_type": "code",
      "metadata": {
        "colab": {
          "base_uri": "https://localhost:8080/"
        },
        "id": "qGnFAz0haKYj",
        "outputId": "17a32357-8a3d-4de1-d6c0-e55e9502317a"
      },
      "source": [
        "def phone_book():\n",
        "    print(\"1. Add New Entry\")\n",
        "    print(\"2. Delete Entry\")\n",
        "    print(\"3. Update Entry\")\n",
        "    print(\"4. Lookup Number\")\n",
        "    print(\"5. Quit\")\n",
        "    \n",
        "print(\"#############################\\n MYPY PHONE BOOK \\n#############################\")\n",
        "MYPY = {}\n",
        "choice = 0\n",
        "phone_book()\n",
        "while choice != 5:\n",
        "    choice = int(input(\"\\nSelect the above option(1-5) : \"))\n",
        "    \n",
        "    if choice == 1:\n",
        "        print(\"\\nAdd New Entry\")\n",
        "        name = input(\"Enter Name: \")\n",
        "        phone = input(\"Enter Number: \")\n",
        "        if name.title() in MYPY:\n",
        "          print(\"{}, already exist.\".format(name.title()))\n",
        "        else:\n",
        "          MYPY[name.title()] = phone\n",
        "          print(\"{}, has been added in MYPY.\".format(name.title()))\n",
        "\n",
        "    elif choice == 2:\n",
        "        print(\"\\nDelete Entry\")\n",
        "        name = input(\"Enter Name: \")\n",
        "        if name.title() in MYPY:\n",
        "          option=input(\"Confirm to delete {} (Yes/No): \".format(name.title()))\n",
        "          if option.title() == 'Yes':\n",
        "            del MYPY[name.title()]\n",
        "            print(\"{}, deleted from MYPY.\".format(name.title()))\n",
        "        else:\n",
        "            print(\"{}, not found in MYPY\".format(name))\n",
        "\n",
        "    elif choice == 3:\n",
        "        print(\"\\nUpdate Entry\")\n",
        "        name = input(\"Enter Name: \")\n",
        "        phone = input(\"Enter Number: \")\n",
        "        if name.title() in MYPY:\n",
        "            MYPY[name.title()]=phone\n",
        "            print(\"{}, number updated in MYPY.\".formar(name.title()))\n",
        "        else:\n",
        "            print(\"{}, not found in MYPY\".format(name))\n",
        "\n",
        "    elif choice == 4:\n",
        "        print(\"\\nLookup Number\")\n",
        "        name = input(\"Enter the Name: \")\n",
        "        name=name.title()\n",
        "        if name in MYPY:\n",
        "            print(\"Name : {}\".format(name))\n",
        "            print(\"Number : {}\".format(MYPY[name]))\n",
        "        else:\n",
        "            print(\"{}, not found in MYPY\".format(name))\n",
        "            option=input(\"do you want to add {} (Yes/No): \".format(name))\n",
        "            if option.title() == 'Yes':\n",
        "              print(\"\\nAdd {} as New Entry\".format(name))\n",
        "              phone = input(\"Enter Number: \")\n",
        "              MYPY[name.title()] = phone\n",
        "              print(\"{}, added in MYPY.\".format(name))\n",
        "            else:\n",
        "              print()\n",
        "    elif choice == 5:\n",
        "      print(\"Thank you for using MYPY.\")\n",
        "\n",
        "    elif choice != 5:\n",
        "        phone_book()"
      ],
      "execution_count": 68,
      "outputs": [
        {
          "output_type": "stream",
          "text": [
            "#############################\n",
            " MYPY PHONE BOOK \n",
            "#############################\n",
            "1. Add New Entry\n",
            "2. Delete Entry\n",
            "3. Update Entry\n",
            "4. Lookup Number\n",
            "5. Quit\n",
            "\n",
            "Select the above option(1-5) : 1\n",
            "\n",
            "Add New Entry\n",
            "Enter Name: raj\n",
            "Enter Number: 234\n",
            "Raj, has been added in MYPY.\n",
            "\n",
            "Select the above option(1-5) : 4\n",
            "\n",
            "Lookup Number\n",
            "Enter the Name: raj\n",
            "Name : Raj\n",
            "Number : 234\n",
            "\n",
            "Select the above option(1-5) : 4\n",
            "\n",
            "Lookup Number\n",
            "Enter the Name: raje\n",
            "Raje, not found in MYPY\n",
            "do you want to add Raje (Yes/No): no\n",
            "\n",
            "\n",
            "Select the above option(1-5) : 2\n",
            "\n",
            "Delete Entry\n",
            "Enter Name: raj\n",
            "Confirm to delete Raj (Yes/No): no\n",
            "\n",
            "Select the above option(1-5) : 2\n",
            "\n",
            "Delete Entry\n",
            "Enter Name: raj\n",
            "Confirm to delete Raj (Yes/No): yes\n",
            "Raj, deleted from MYPY.\n",
            "\n",
            "Select the above option(1-5) : 4\n",
            "\n",
            "Lookup Number\n",
            "Enter the Name: raj\n",
            "Raj, not found in MYPY\n",
            "do you want to add Raj (Yes/No): no\n",
            "\n",
            "\n",
            "Select the above option(1-5) : 5\n",
            "thank you\n"
          ],
          "name": "stdout"
        }
      ]
    },
    {
      "cell_type": "code",
      "metadata": {
        "colab": {
          "base_uri": "https://localhost:8080/"
        },
        "id": "W71CF-qaLbYN",
        "outputId": "341be29e-8f91-478a-a4ab-0bc76087b099"
      },
      "source": [
        "\n",
        "\n",
        "A=input(\"Name: \")\n",
        "A.title()\n",
        "print(A.title())"
      ],
      "execution_count": 9,
      "outputs": [
        {
          "output_type": "stream",
          "text": [
            "Name: rajesh kumar\n",
            "Rajesh Kumar\n"
          ],
          "name": "stdout"
        }
      ]
    },
    {
      "cell_type": "code",
      "metadata": {
        "colab": {
          "base_uri": "https://localhost:8080/"
        },
        "id": "cLBmC5LJHQRO",
        "outputId": "17eeeda0-7651-463a-a47f-aa144e162ee0"
      },
      "source": [
        "print ('\\033[94m' '\\033[1m''Hello'  )"
      ],
      "execution_count": 82,
      "outputs": [
        {
          "output_type": "stream",
          "text": [
            "\u001b[94m\u001b[1mHello\n"
          ],
          "name": "stdout"
        }
      ]
    }
  ]
}
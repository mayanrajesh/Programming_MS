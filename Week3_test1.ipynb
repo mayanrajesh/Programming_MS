{
  "nbformat": 4,
  "nbformat_minor": 0,
  "metadata": {
    "colab": {
      "name": "Week3_test1.ipynb",
      "provenance": [],
      "collapsed_sections": [],
      "authorship_tag": "ABX9TyMvk62AZijbOdS6TeQOdZVf",
      "include_colab_link": true
    },
    "kernelspec": {
      "name": "python3",
      "display_name": "Python 3"
    }
  },
  "cells": [
    {
      "cell_type": "markdown",
      "metadata": {
        "id": "view-in-github",
        "colab_type": "text"
      },
      "source": [
        "<a href=\"https://colab.research.google.com/github/mayanrajesh/Programming_MS/blob/main/Week3_test1.ipynb\" target=\"_parent\"><img src=\"https://colab.research.google.com/assets/colab-badge.svg\" alt=\"Open In Colab\"/></a>"
      ]
    },
    {
      "cell_type": "markdown",
      "metadata": {
        "id": "V-0pvFjQ7urM"
      },
      "source": [
        "##Program to count Even and Odd numbers in a List\n"
      ]
    },
    {
      "cell_type": "code",
      "metadata": {
        "id": "vlWqDYg14Y33",
        "outputId": "1d70e8a3-baf6-4894-99bc-331d55bac59c",
        "colab": {
          "base_uri": "https://localhost:8080/"
        }
      },
      "source": [
        "A = [2,4,3,7,4,8,10,23,15,20,33,22,13,21,28] \n",
        "even=0\n",
        "odd=0\n",
        "for x in A:\n",
        "    if(x % 2 == 0):\n",
        "        even += 1\n",
        "    else:\n",
        "        odd += 1\n",
        "print(\"even numbers in the list is {} \".format(even)) \n",
        "print(\"odd numbers in the list is {} \".format(odd)) "
      ],
      "execution_count": 5,
      "outputs": [
        {
          "output_type": "stream",
          "text": [
            "even numbers in the list is 8 \n",
            "odd numbers in the list is 7 \n"
          ],
          "name": "stdout"
        }
      ]
    },
    {
      "cell_type": "markdown",
      "metadata": {
        "id": "0h5FlFx-9x7G"
      },
      "source": [
        "#Program to print positive numbers in a list"
      ]
    },
    {
      "cell_type": "code",
      "metadata": {
        "id": "rDwvljXt901P",
        "outputId": "109d43a5-3fef-4238-fbe4-6c60b86ad6ab",
        "colab": {
          "base_uri": "https://localhost:8080/"
        }
      },
      "source": [
        "A = [-1,-4,0,-9,2,4,3,7,4,8,10,23] \n",
        "for x in A:\n",
        "  if x>=0:\n",
        "    print(\"{} is positive number \".format(x))"
      ],
      "execution_count": 9,
      "outputs": [
        {
          "output_type": "stream",
          "text": [
            "0 is positive number \n",
            "2 is positive number \n",
            "4 is positive number \n",
            "3 is positive number \n",
            "7 is positive number \n",
            "4 is positive number \n",
            "8 is positive number \n",
            "10 is positive number \n",
            "23 is positive number \n"
          ],
          "name": "stdout"
        }
      ]
    },
    {
      "cell_type": "markdown",
      "metadata": {
        "id": "_EInUBds-w6V"
      },
      "source": [
        "#Program to print negative numbers in a list"
      ]
    },
    {
      "cell_type": "markdown",
      "metadata": {
        "id": "rxOYIFFV4Z8x"
      },
      "source": [
        ""
      ]
    },
    {
      "cell_type": "code",
      "metadata": {
        "id": "HuVdHW1U-yWS",
        "outputId": "c481de27-0f84-4bc2-bb1a-231070385dd1",
        "colab": {
          "base_uri": "https://localhost:8080/"
        }
      },
      "source": [
        "A = [-1,-4,0,-9,2,4,3,7,4,8,10,23] \n",
        "for x in A:\n",
        "  if x<0:\n",
        "    print(\"{} is Negative number \".format(x))"
      ],
      "execution_count": 10,
      "outputs": [
        {
          "output_type": "stream",
          "text": [
            "-1 is Negative number \n",
            "-4 is Negative number \n",
            "-9 is Negative number \n"
          ],
          "name": "stdout"
        }
      ]
    },
    {
      "cell_type": "markdown",
      "metadata": {
        "id": "Vl7i5-ef_Aue"
      },
      "source": [
        "#Program to print all positive numbers in a range"
      ]
    },
    {
      "cell_type": "code",
      "metadata": {
        "id": "C_Gkibtu-2Vh",
        "outputId": "6216a38a-a3fe-4a0a-d328-215e413e0112",
        "colab": {
          "base_uri": "https://localhost:8080/"
        }
      },
      "source": [
        "A=[]\n",
        "for x in range(-10,10):\n",
        "  if x>=0:\n",
        "    A.append(x)\n",
        "print(A)"
      ],
      "execution_count": 15,
      "outputs": [
        {
          "output_type": "stream",
          "text": [
            "[0, 1, 2, 3, 4, 5, 6, 7, 8, 9]\n"
          ],
          "name": "stdout"
        }
      ]
    },
    {
      "cell_type": "markdown",
      "metadata": {
        "id": "WlIZTER0APYh"
      },
      "source": [
        "#Program to print all negative numbers in a range"
      ]
    },
    {
      "cell_type": "code",
      "metadata": {
        "id": "_03zjaZKAQ0d",
        "outputId": "035d5429-e459-47aa-f5d2-24b35e2121a5",
        "colab": {
          "base_uri": "https://localhost:8080/"
        }
      },
      "source": [
        "A=[]\n",
        "for x in range(-10,10):\n",
        "  if x<0:\n",
        "    A.append(x)\n",
        "print(A)"
      ],
      "execution_count": 16,
      "outputs": [
        {
          "output_type": "stream",
          "text": [
            "[-10, -9, -8, -7, -6, -5, -4, -3, -2, -1]\n"
          ],
          "name": "stdout"
        }
      ]
    },
    {
      "cell_type": "markdown",
      "metadata": {
        "id": "9c9XVtM3Aoms"
      },
      "source": [
        "#Program to count positive and negative numbers in a list"
      ]
    },
    {
      "cell_type": "code",
      "metadata": {
        "id": "EjTFyiYQAnwl",
        "outputId": "bf6fd2f7-5805-4c3b-b4b2-e844af1b6444",
        "colab": {
          "base_uri": "https://localhost:8080/"
        }
      },
      "source": [
        "A = [-1,-4,0,-9,2,4,3,7,4,8,10,23]\n",
        "positive=0\n",
        "negative=0 \n",
        "for x in A:\n",
        "  if x>=0:\n",
        "    positive+=1\n",
        "  if x<0:\n",
        "    negative+=1\n",
        "print(\"positive  numbers in the list is {} \".format(positive)) \n",
        "print(\"Negative  numbers in the list is {} \".format(negative)) \n"
      ],
      "execution_count": 18,
      "outputs": [
        {
          "output_type": "stream",
          "text": [
            "positive  numbers in the list is 9 \n",
            "Negative  numbers in the list is 3 \n"
          ],
          "name": "stdout"
        }
      ]
    },
    {
      "cell_type": "markdown",
      "metadata": {
        "id": "eSOoBRt_F07b"
      },
      "source": [
        "#Program to remove multiple elements from a list in Python"
      ]
    },
    {
      "cell_type": "code",
      "metadata": {
        "id": "L-TqfVy0Fuav",
        "outputId": "d26622d2-f455-40ad-eeb1-58c9ed7ac64d",
        "colab": {
          "base_uri": "https://localhost:8080/"
        }
      },
      "source": [
        "A = [-1,-4,0,-9,2,4,3,7,4,8,10,23]\n",
        "A=list(set(A))\n",
        "print (A)\n"
      ],
      "execution_count": 21,
      "outputs": [
        {
          "output_type": "stream",
          "text": [
            "[0, 2, 3, 4, 7, 8, 10, 23, -9, -4, -1]\n"
          ],
          "name": "stdout"
        }
      ]
    },
    {
      "cell_type": "markdown",
      "metadata": {
        "id": "6DHDo2hpITUh"
      },
      "source": [
        "#Program to find area of a circle"
      ]
    },
    {
      "cell_type": "code",
      "metadata": {
        "id": "8CaaSOYqIXWl",
        "outputId": "866a7e68-04ff-4e6d-f01e-7def8e5ce906",
        "colab": {
          "base_uri": "https://localhost:8080/"
        }
      },
      "source": [
        "def area():\n",
        "  r=int(input(\"please enter your radious:\"))\n",
        "  circle_area=3.14*r*r\n",
        "  print(\"Area of circle for radious {} is {}\".format(r,circle_area))\n",
        "\n",
        "area()"
      ],
      "execution_count": 23,
      "outputs": [
        {
          "output_type": "stream",
          "text": [
            "please enter your radious:4\n",
            "Area of circle for radious 4 is 50.24\n"
          ],
          "name": "stdout"
        }
      ]
    },
    {
      "cell_type": "markdown",
      "metadata": {
        "id": "81ZwKUC1LHBH"
      },
      "source": [
        "#Program for Fibonacci numbers"
      ]
    },
    {
      "cell_type": "code",
      "metadata": {
        "id": "ASWujLkbJGdI",
        "outputId": "c5123bae-9707-4ef5-fb0f-2357573f9a9f",
        "colab": {
          "base_uri": "https://localhost:8080/"
        }
      },
      "source": [
        "def fibonacci(n):\n",
        "   c = 0\n",
        "   a = 0\n",
        "   b = 1\n",
        "   sum = 0\n",
        "   for c in range(n):\n",
        "      print(a)\n",
        "      sum = a + b\n",
        "      a = b\n",
        "      b = sum\n",
        "      c = c + 1\n",
        "      \n",
        "fibonacci(10)"
      ],
      "execution_count": 25,
      "outputs": [
        {
          "output_type": "stream",
          "text": [
            "0\n",
            "1\n",
            "1\n",
            "2\n",
            "3\n",
            "5\n",
            "8\n",
            "13\n",
            "21\n",
            "34\n"
          ],
          "name": "stdout"
        }
      ]
    },
    {
      "cell_type": "markdown",
      "metadata": {
        "id": "xTmnpB2-b-J-"
      },
      "source": [
        "#Program to print all Prime numbers in an Interval"
      ]
    },
    {
      "cell_type": "code",
      "metadata": {
        "id": "uyGOGu6FSJyH",
        "outputId": "2870276c-7199-4f71-bd20-43f6f761d5ee",
        "colab": {
          "base_uri": "https://localhost:8080/"
        }
      },
      "source": [
        "for x in range(0,10):\n",
        "  if x>1:\n",
        "    for num in range(2,x):\n",
        "        if(x % num==0):\n",
        "            break\n",
        "    else:\n",
        "        print(x)"
      ],
      "execution_count": 60,
      "outputs": [
        {
          "output_type": "stream",
          "text": [
            "2\n",
            "3\n",
            "5\n",
            "7\n"
          ],
          "name": "stdout"
        }
      ]
    },
    {
      "cell_type": "markdown",
      "metadata": {
        "id": "BNjlpIPid-7S"
      },
      "source": [
        "#Program to check whether a number is Prime or not"
      ]
    },
    {
      "cell_type": "code",
      "metadata": {
        "id": "aUnd59BWOLAO",
        "outputId": "7efb1faf-5e7d-43c9-ef4d-ab59d9cecf93",
        "colab": {
          "base_uri": "https://localhost:8080/"
        }
      },
      "source": [
        "n=int(input(\"enter number :\"))\n",
        "if n>1:\n",
        "  for num in range(2,n):\n",
        "    if(n % num==0):\n",
        "        print(\"{} is a not prime number\".format(n))\n",
        "        break\n",
        "    else:\n",
        "      print(\"{} is a prime number\".format(n))\n",
        "      break"
      ],
      "execution_count": 72,
      "outputs": [
        {
          "output_type": "stream",
          "text": [
            "enter number6\n",
            "6 is a not prime number\n"
          ],
          "name": "stdout"
        }
      ]
    }
  ]
}
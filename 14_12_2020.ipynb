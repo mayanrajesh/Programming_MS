{
  "nbformat": 4,
  "nbformat_minor": 0,
  "metadata": {
    "colab": {
      "name": "14-12-2020.ipynb",
      "provenance": [],
      "collapsed_sections": [],
      "authorship_tag": "ABX9TyOg9/RC6e1d1SWcSatxWAbm",
      "include_colab_link": true
    },
    "kernelspec": {
      "name": "python3",
      "display_name": "Python 3"
    }
  },
  "cells": [
    {
      "cell_type": "markdown",
      "metadata": {
        "id": "view-in-github",
        "colab_type": "text"
      },
      "source": [
        "<a href=\"https://colab.research.google.com/github/mayanrajesh/Programming_MS/blob/main/14_12_2020.ipynb\" target=\"_parent\"><img src=\"https://colab.research.google.com/assets/colab-badge.svg\" alt=\"Open In Colab\"/></a>"
      ]
    },
    {
      "cell_type": "markdown",
      "metadata": {
        "id": "L2IX5yUYlm58"
      },
      "source": [
        "#WAP to build a HR system with the help of databases This program\n",
        "#would input all the demographics details such as age gender,name,experience, tools,salary and remarks he/she knows etc. of the employees.\n",
        "#second half view: \n",
        "#1. manager want to see your demographic details -it will only show experiance,salary and tools\n",
        "#2. you want to see your details , it should show all the details except remarks."
      ]
    },
    {
      "cell_type": "code",
      "metadata": {
        "id": "HCu7BlMQvLCo"
      },
      "source": [
        "import sqlite3\n",
        "import pandas as pd"
      ],
      "execution_count": null,
      "outputs": []
    },
    {
      "cell_type": "code",
      "metadata": {
        "id": "cPUcoJUQjVPF"
      },
      "source": [
        "import sqlite3\n",
        "import pandas as pd\n",
        "db = sqlite3.connect(\"HR_database.db\")\n",
        "db.execute(\"drop table if exists results\")\n",
        "try:\n",
        "  db.execute(\"create table HR(Name text, Age text,Gender text, Experience text, Tool_exp text, Remarks text)\")\n",
        "except:\n",
        "  print(\"Already table existed !!\")"
      ],
      "execution_count": null,
      "outputs": []
    },
    {
      "cell_type": "code",
      "metadata": {
        "colab": {
          "base_uri": "https://localhost:8080/"
        },
        "id": "ChoV5-cKnAV9",
        "outputId": "2eba3714-7f50-46aa-f666-8e539448d2c6"
      },
      "source": [
        "def emp_input():\n",
        "  db = sqlite3.connect(\"HR_database.db\")\n",
        "  print('Enter employee details.')\n",
        "  name=input('Enter Employee name: ')\n",
        "  age=input('Enter age: ')\n",
        "  gender=input('Enter Gender: ')\n",
        "  exp=input('Enter total Experience: ')\n",
        "  tool=input('Enter tools details: ')\n",
        "  remark=input('Enter Employee remarks: ')\n",
        "  cmd = \"insert into HR(Name, Age, Gender, Experience, Tool_exp, Remarks) values('{}','{}','{}','{}','{}','{}')\".format(name,age,gender,exp,tool,remark)\n",
        "  db.execute(cmd)\n",
        "  db.commit()\n",
        "\n",
        "def emp_view():\n",
        "  db = sqlite3.connect(\"HR_database.db\")\n",
        "  name=input('Enter your name: ')\n",
        "  result = db.execute('SELECT Name,Age,Gender,Experience,Tool_exp FROM HR WHERE name =\"{}\"'.format(name) )\n",
        "  emp=[]\n",
        "  for x in result:\n",
        "    emp.append(x)\n",
        "    data=pd.DataFrame(emp)\n",
        "    data.columns=['Name','Age','Gender','Exp','Tool']\n",
        "  print(data)\n",
        "\n",
        "def HR_view():\n",
        "  db=sqlite3.connect(\"HR_database.db\")\n",
        "  name=input('Enter Employee name:')\n",
        "  result=db.execute('SELECT Name,Age,Gender,Experience,Tool_exp,remarks FROM HR WHERE name =\"{}\"'.format(name) )\n",
        "  view=[]\n",
        "  for x in result:\n",
        "    view.append(x)\n",
        "    data=pd.DataFrame(view)\n",
        "    data.columns=['Name','Age','Gender','Exp','Tool','Remark']\n",
        "  print(data)\n",
        "\n",
        "    #print (pd.DataFrame(x,columns=['Name','age','Gender','Exp','Tool','remark']))\n",
        "\n",
        "def main():\n",
        "  print('1. Add Employee Entry.')\n",
        "  print('2. Employee View.')\n",
        "  print('3. HR View.')\n",
        "  print('4. Quit.')\n",
        "\n",
        "choice = 0                                                                      \n",
        "main()\n",
        "while choice != 4:\n",
        "  choice = int(input(\"\\nSelect the above choice(1-4) : \"))\n",
        "  if choice==1:\n",
        "    emp_input()\n",
        "  elif choice==2:\n",
        "    emp_view()\n",
        "  elif choice==3:\n",
        "    HR_view()\n",
        "  elif choice==4:\n",
        "    print('Thank you')\n",
        "  elif choice!=4:\n",
        "    main()\n",
        "\n"
      ],
      "execution_count": null,
      "outputs": [
        {
          "output_type": "stream",
          "text": [
            "1. Add Employee Entry.\n",
            "2. Employee View.\n",
            "3. HR View.\n",
            "4. Quit.\n",
            "\n",
            "Select the above choice(1-4) : 3\n",
            "Enter Employee name:rajesh\n",
            "     Name Age Gender Exp         Tool Remark\n",
            "0  rajesh  23   male   5         ssrs     ok\n",
            "1  rajesh  24   male   3  informatica   good\n",
            "\n",
            "Select the above choice(1-4) : 2\n",
            "Enter your name: ram\n",
            "  Name Age Gender Exp  Tool\n",
            "0  ram  27      m   3  ssas\n",
            "\n",
            "Select the above choice(1-4) : 4\n",
            "Thank you\n"
          ],
          "name": "stdout"
        }
      ]
    },
    {
      "cell_type": "code",
      "metadata": {
        "colab": {
          "base_uri": "https://localhost:8080/"
        },
        "id": "nYsNnZmKoyoo",
        "outputId": "28ab4c12-f64c-4545-886a-d933935d4426"
      },
      "source": [
        "import pandas as pd\n",
        "def emp_view():\n",
        "  db = sqlite3.connect(\"HR_database.db\")\n",
        "  name=input('Enter your name: ')\n",
        "  result = db.execute('SELECT Name,Age,Gender,Experience,Tool_exp FROM HR WHERE name =\"{}\"'.format(name) )\n",
        "  emp=[]\n",
        "  for x in result:\n",
        "    emp.append(x)\n",
        "    a=pd.DataFrame(emp)\n",
        "    a.columns=['Name','age','gender','exp','tool']\n",
        "  print(a)\n",
        "  \n",
        "emp_view()"
      ],
      "execution_count": null,
      "outputs": [
        {
          "output_type": "stream",
          "text": [
            "Enter your name: sita\n",
            "   Name age  gender exp           tool\n",
            "0  sita  22  Female   2  visual studio\n"
          ],
          "name": "stdout"
        }
      ]
    },
    {
      "cell_type": "code",
      "metadata": {
        "id": "4LmHp3w1-Y6S",
        "colab": {
          "base_uri": "https://localhost:8080/",
          "height": 232
        },
        "outputId": "835d1988-8b20-4765-de62-db25f21df0a4"
      },
      "source": [
        "db = sqlite3.connect(\"HR_database.db\")\n",
        "sqlq = \"SELECT COUNT(1) FROM HR WHERE name = 'rajesh'\"\n",
        "db.execute(sqlq)\n",
        "if db.fetchone()[0]:\n",
        "  print('records exist')\n",
        "else:\n",
        "  print('records doesnt exist')\n",
        "    # exists"
      ],
      "execution_count": null,
      "outputs": [
        {
          "output_type": "error",
          "ename": "AttributeError",
          "evalue": "ignored",
          "traceback": [
            "\u001b[0;31m---------------------------------------------------------------------------\u001b[0m",
            "\u001b[0;31mAttributeError\u001b[0m                            Traceback (most recent call last)",
            "\u001b[0;32m<ipython-input-14-06317ce2fd38>\u001b[0m in \u001b[0;36m<module>\u001b[0;34m()\u001b[0m\n\u001b[1;32m      2\u001b[0m \u001b[0msqlq\u001b[0m \u001b[0;34m=\u001b[0m \u001b[0;34m\"SELECT COUNT(1) FROM HR WHERE name = 'rajesh'\"\u001b[0m\u001b[0;34m\u001b[0m\u001b[0;34m\u001b[0m\u001b[0m\n\u001b[1;32m      3\u001b[0m \u001b[0mdb\u001b[0m\u001b[0;34m.\u001b[0m\u001b[0mexecute\u001b[0m\u001b[0;34m(\u001b[0m\u001b[0msqlq\u001b[0m\u001b[0;34m)\u001b[0m\u001b[0;34m\u001b[0m\u001b[0;34m\u001b[0m\u001b[0m\n\u001b[0;32m----> 4\u001b[0;31m \u001b[0;32mif\u001b[0m \u001b[0mdb\u001b[0m\u001b[0;34m.\u001b[0m\u001b[0mfetchone\u001b[0m\u001b[0;34m(\u001b[0m\u001b[0;34m)\u001b[0m\u001b[0;34m[\u001b[0m\u001b[0;36m0\u001b[0m\u001b[0;34m]\u001b[0m\u001b[0;34m:\u001b[0m\u001b[0;34m\u001b[0m\u001b[0;34m\u001b[0m\u001b[0m\n\u001b[0m\u001b[1;32m      5\u001b[0m   \u001b[0mprint\u001b[0m\u001b[0;34m(\u001b[0m\u001b[0;34m'records exist'\u001b[0m\u001b[0;34m)\u001b[0m\u001b[0;34m\u001b[0m\u001b[0;34m\u001b[0m\u001b[0m\n\u001b[1;32m      6\u001b[0m \u001b[0;32melse\u001b[0m\u001b[0;34m:\u001b[0m\u001b[0;34m\u001b[0m\u001b[0;34m\u001b[0m\u001b[0m\n",
            "\u001b[0;31mAttributeError\u001b[0m: 'sqlite3.Connection' object has no attribute 'fetchone'"
          ]
        }
      ]
    },
    {
      "cell_type": "code",
      "metadata": {
        "colab": {
          "base_uri": "https://localhost:8080/"
        },
        "id": "ODEzzbEqr1mP",
        "outputId": "711f293e-ef06-4c56-c017-e4d84c6ed257"
      },
      "source": [
        "import pandas as pd\n",
        "def emp_view():\n",
        "  db = sqlite3.connect(\"HR_database.db\")\n",
        "  name=input('Enter your name: ')\n",
        "  result = db.execute('SELECT count(*) FROM HR WHERE name =\"{}\"'.format(name) )\n",
        "  #for x in result:\n",
        "  #  print(x)\n",
        "\n",
        "  if result ==0:\n",
        "    print('records not exist')\n",
        "  else:\n",
        "    print('record  available')\n",
        "emp_view()"
      ],
      "execution_count": null,
      "outputs": [
        {
          "output_type": "stream",
          "text": [
            "Enter your name: RAJNISH\n",
            "record  available\n"
          ],
          "name": "stdout"
        }
      ]
    },
    {
      "cell_type": "code",
      "metadata": {
        "colab": {
          "base_uri": "https://localhost:8080/",
          "height": 249
        },
        "id": "tTRA8RzGpo0Y",
        "outputId": "38281c96-d23e-4dfc-e383-bb36abc11fb4"
      },
      "source": [
        "user=input('enter name: ')\n",
        "for name in (user): \n",
        "  cursor.execute(\"SELECT rowid FROM HR WHERE name = ?\", (name,))\n",
        "  data=cursor.fetchall()\n",
        "  if len(data)==0:\n",
        "    print('There is no component named %s'%name)\n",
        "  else:\n",
        "    print('Component %s found with rowids %s'%(name,','.join(map(str, next(zip(*data))))))"
      ],
      "execution_count": null,
      "outputs": [
        {
          "output_type": "stream",
          "text": [
            "enter name: rajesh\n"
          ],
          "name": "stdout"
        },
        {
          "output_type": "error",
          "ename": "NameError",
          "evalue": "ignored",
          "traceback": [
            "\u001b[0;31m---------------------------------------------------------------------------\u001b[0m",
            "\u001b[0;31mNameError\u001b[0m                                 Traceback (most recent call last)",
            "\u001b[0;32m<ipython-input-27-acd9ad0a2661>\u001b[0m in \u001b[0;36m<module>\u001b[0;34m()\u001b[0m\n\u001b[1;32m      1\u001b[0m \u001b[0muser\u001b[0m\u001b[0;34m=\u001b[0m\u001b[0minput\u001b[0m\u001b[0;34m(\u001b[0m\u001b[0;34m'enter name: '\u001b[0m\u001b[0;34m)\u001b[0m\u001b[0;34m\u001b[0m\u001b[0;34m\u001b[0m\u001b[0m\n\u001b[1;32m      2\u001b[0m \u001b[0;32mfor\u001b[0m \u001b[0mname\u001b[0m \u001b[0;32min\u001b[0m \u001b[0;34m(\u001b[0m\u001b[0muser\u001b[0m\u001b[0;34m)\u001b[0m\u001b[0;34m:\u001b[0m\u001b[0;34m\u001b[0m\u001b[0;34m\u001b[0m\u001b[0m\n\u001b[0;32m----> 3\u001b[0;31m   \u001b[0mcursor\u001b[0m\u001b[0;34m.\u001b[0m\u001b[0mexecute\u001b[0m\u001b[0;34m(\u001b[0m\u001b[0;34m\"SELECT rowid FROM HR WHERE name = ?\"\u001b[0m\u001b[0;34m,\u001b[0m \u001b[0;34m(\u001b[0m\u001b[0mname\u001b[0m\u001b[0;34m,\u001b[0m\u001b[0;34m)\u001b[0m\u001b[0;34m)\u001b[0m\u001b[0;34m\u001b[0m\u001b[0;34m\u001b[0m\u001b[0m\n\u001b[0m\u001b[1;32m      4\u001b[0m   \u001b[0mdata\u001b[0m\u001b[0;34m=\u001b[0m\u001b[0mcursor\u001b[0m\u001b[0;34m.\u001b[0m\u001b[0mfetchall\u001b[0m\u001b[0;34m(\u001b[0m\u001b[0;34m)\u001b[0m\u001b[0;34m\u001b[0m\u001b[0;34m\u001b[0m\u001b[0m\n\u001b[1;32m      5\u001b[0m   \u001b[0;32mif\u001b[0m \u001b[0mlen\u001b[0m\u001b[0;34m(\u001b[0m\u001b[0mdata\u001b[0m\u001b[0;34m)\u001b[0m\u001b[0;34m==\u001b[0m\u001b[0;36m0\u001b[0m\u001b[0;34m:\u001b[0m\u001b[0;34m\u001b[0m\u001b[0;34m\u001b[0m\u001b[0m\n",
            "\u001b[0;31mNameError\u001b[0m: name 'cursor' is not defined"
          ]
        }
      ]
    },
    {
      "cell_type": "code",
      "metadata": {
        "id": "APZo81jPphht"
      },
      "source": [
        ""
      ],
      "execution_count": null,
      "outputs": []
    },
    {
      "cell_type": "markdown",
      "metadata": {
        "id": "tN1-ilnlt1uH"
      },
      "source": [
        ""
      ]
    },
    {
      "cell_type": "code",
      "metadata": {
        "colab": {
          "base_uri": "https://localhost:8080/",
          "height": 351
        },
        "id": "BqhG43iIspdB",
        "outputId": "a5c73400-3b76-4e54-8b8f-3f3335ec7e02"
      },
      "source": [
        "def HR_view():\n",
        "  db=sqlite3.connect(\"HR_database.db\")\n",
        "  name=input('Enter Employee name:')\n",
        "  result=db.execute('SELECT Name,Age,Gender,Experience,Tool_exp,remarks FROM HR WHERE name =\"{}\"'.format(name) )\n",
        "  a=[]\n",
        "  for x in result:\n",
        "    a.append(x)\n",
        "    df=pd.DataFrame(a)\n",
        "  \n",
        "  print(df)\n",
        "    \n",
        "HR_view()"
      ],
      "execution_count": null,
      "outputs": [
        {
          "output_type": "stream",
          "text": [
            "Enter Employee name:rajesh\n"
          ],
          "name": "stdout"
        },
        {
          "output_type": "error",
          "ename": "OperationalError",
          "evalue": "ignored",
          "traceback": [
            "\u001b[0;31m---------------------------------------------------------------------------\u001b[0m",
            "\u001b[0;31mOperationalError\u001b[0m                          Traceback (most recent call last)",
            "\u001b[0;32m<ipython-input-3-2ddff5e98e0d>\u001b[0m in \u001b[0;36m<module>\u001b[0;34m()\u001b[0m\n\u001b[1;32m     10\u001b[0m   \u001b[0mprint\u001b[0m\u001b[0;34m(\u001b[0m\u001b[0mdf\u001b[0m\u001b[0;34m)\u001b[0m\u001b[0;34m\u001b[0m\u001b[0;34m\u001b[0m\u001b[0m\n\u001b[1;32m     11\u001b[0m \u001b[0;34m\u001b[0m\u001b[0m\n\u001b[0;32m---> 12\u001b[0;31m \u001b[0mHR_view\u001b[0m\u001b[0;34m(\u001b[0m\u001b[0;34m)\u001b[0m\u001b[0;34m\u001b[0m\u001b[0;34m\u001b[0m\u001b[0m\n\u001b[0m",
            "\u001b[0;32m<ipython-input-3-2ddff5e98e0d>\u001b[0m in \u001b[0;36mHR_view\u001b[0;34m()\u001b[0m\n\u001b[1;32m      2\u001b[0m   \u001b[0mdb\u001b[0m\u001b[0;34m=\u001b[0m\u001b[0msqlite3\u001b[0m\u001b[0;34m.\u001b[0m\u001b[0mconnect\u001b[0m\u001b[0;34m(\u001b[0m\u001b[0;34m\"HR_database.db\"\u001b[0m\u001b[0;34m)\u001b[0m\u001b[0;34m\u001b[0m\u001b[0;34m\u001b[0m\u001b[0m\n\u001b[1;32m      3\u001b[0m   \u001b[0mname\u001b[0m\u001b[0;34m=\u001b[0m\u001b[0minput\u001b[0m\u001b[0;34m(\u001b[0m\u001b[0;34m'Enter Employee name:'\u001b[0m\u001b[0;34m)\u001b[0m\u001b[0;34m\u001b[0m\u001b[0;34m\u001b[0m\u001b[0m\n\u001b[0;32m----> 4\u001b[0;31m   \u001b[0mresult\u001b[0m\u001b[0;34m=\u001b[0m\u001b[0mdb\u001b[0m\u001b[0;34m.\u001b[0m\u001b[0mexecute\u001b[0m\u001b[0;34m(\u001b[0m\u001b[0;34m'SELECT Name,Age,Gender,Experience,Tool_exp,remarks FROM HR WHERE name =\"{}\"'\u001b[0m\u001b[0;34m.\u001b[0m\u001b[0mformat\u001b[0m\u001b[0;34m(\u001b[0m\u001b[0mname\u001b[0m\u001b[0;34m)\u001b[0m \u001b[0;34m)\u001b[0m\u001b[0;34m\u001b[0m\u001b[0;34m\u001b[0m\u001b[0m\n\u001b[0m\u001b[1;32m      5\u001b[0m   \u001b[0ma\u001b[0m\u001b[0;34m=\u001b[0m\u001b[0;34m[\u001b[0m\u001b[0;34m]\u001b[0m\u001b[0;34m\u001b[0m\u001b[0;34m\u001b[0m\u001b[0m\n\u001b[1;32m      6\u001b[0m   \u001b[0;32mfor\u001b[0m \u001b[0mx\u001b[0m \u001b[0;32min\u001b[0m \u001b[0mresult\u001b[0m\u001b[0;34m:\u001b[0m\u001b[0;34m\u001b[0m\u001b[0;34m\u001b[0m\u001b[0m\n",
            "\u001b[0;31mOperationalError\u001b[0m: no such table: HR"
          ]
        }
      ]
    },
    {
      "cell_type": "code",
      "metadata": {
        "colab": {
          "base_uri": "https://localhost:8080/",
          "height": 164
        },
        "id": "3D1OC2aY9vf_",
        "outputId": "01bcb603-028a-47f8-8eb0-a582f32bce11"
      },
      "source": [
        "view"
      ],
      "execution_count": null,
      "outputs": [
        {
          "output_type": "error",
          "ename": "NameError",
          "evalue": "ignored",
          "traceback": [
            "\u001b[0;31m---------------------------------------------------------------------------\u001b[0m",
            "\u001b[0;31mNameError\u001b[0m                                 Traceback (most recent call last)",
            "\u001b[0;32m<ipython-input-15-e03aa60f8dd5>\u001b[0m in \u001b[0;36m<module>\u001b[0;34m()\u001b[0m\n\u001b[0;32m----> 1\u001b[0;31m \u001b[0mview\u001b[0m\u001b[0;34m\u001b[0m\u001b[0;34m\u001b[0m\u001b[0m\n\u001b[0m",
            "\u001b[0;31mNameError\u001b[0m: name 'view' is not defined"
          ]
        }
      ]
    },
    {
      "cell_type": "code",
      "metadata": {
        "colab": {
          "base_uri": "https://localhost:8080/"
        },
        "id": "XKyvq-3C1e10",
        "outputId": "9c408e59-e922-49f3-8183-e2f3ef4e4e4f"
      },
      "source": [
        "class employee():\n",
        "\n",
        "  def __init__(self,fname,lname,salary):\n",
        "    self.first_name=fname\n",
        "    self.last_name=lname\n",
        "    self.salary=int(salary)\n",
        "    \n",
        "  \n",
        "  def incr(self,salary_raise):\n",
        "    self.salary=int(self.salary*salary_raise)\n",
        "  \n",
        "Rajesh=employee(\"Rajesh\",\"Kumar\",\"5000\")\n",
        "abhi=employee(\"Abhi\",\"shek\",\"3000\")\n",
        "\n",
        "print('Rajesh Initial Salary: {}'.format(Rajesh.salary))\n",
        "Rajesh.incr(2)\n",
        "print('Rajesh Incremented salary : {}'.format(Rajesh.salary))\n",
        "print('Abhi Initial Salary: {}'.format(abhi.salary))\n",
        "abhi.incr(3)\n",
        "print('Abhi Incremented salary : {}'.format(abhi.salary))\n"
      ],
      "execution_count": null,
      "outputs": [
        {
          "output_type": "stream",
          "text": [
            "Rajesh Initial Salary: 5000\n",
            "Rajesh Incremented salary : 10000\n",
            "Abhi Initial Salary: 3000\n",
            "Abhi Incremented salary : 9000\n"
          ],
          "name": "stdout"
        }
      ]
    },
    {
      "cell_type": "code",
      "metadata": {
        "colab": {
          "base_uri": "https://localhost:8080/"
        },
        "id": "Oe7Zfyq343B0",
        "outputId": "3977b936-1185-4bdf-81ec-00e5f75026df"
      },
      "source": [
        "class employee():\n",
        "  salary_incr=2.5\n",
        "  def __init__(self,fname,lname,salary):\n",
        "    self.first_name=fname\n",
        "    self.last_name=lname\n",
        "    self.salary=int(salary)\n",
        "  \n",
        "  def incr(self):\n",
        "    self.salary=int(self.salary*employee.salary_incr)\n",
        "  \n",
        "rajesh=employee('rajesh','kumar','4000')\n",
        "james=employee('james','langstone','5000')\n",
        "\n",
        "print('Rajesh initial salary {}'.format(rajesh.salary))\n",
        "rajesh.incr()\n",
        "print('Rajesh incremented salary {}'.format(rajesh.salary))\n",
        "\n",
        "print('James initial salary {}'.format(james.salary))\n",
        "james.incr()\n",
        "print('James Incremented salary {}'.format(james.salary))\n",
        "\n"
      ],
      "execution_count": null,
      "outputs": [
        {
          "output_type": "stream",
          "text": [
            "Rajesh initial salary 4000\n",
            "Rajesh incremented salary 10000\n",
            "James initial salary 5000\n",
            "James Incremented salary 12500\n"
          ],
          "name": "stdout"
        }
      ]
    },
    {
      "cell_type": "code",
      "metadata": {
        "colab": {
          "base_uri": "https://localhost:8080/"
        },
        "id": "iUZmdnXADBYR",
        "outputId": "fd1b9d4b-ca70-4f7b-e832-32e8649ac8e9"
      },
      "source": [
        "class employee():\n",
        "\n",
        "  salary_incr=1.5\n",
        "  def __init__(self,fname,lname,salary):\n",
        "    self.firstname=fname\n",
        "    self.lastname=lname\n",
        "    self.salary=int(salary)\n",
        "\n",
        "  def increase(self):\n",
        "    self.salary=int(self.salary*employee.salary_incr)\n",
        "  \n",
        "  @classmethod\n",
        "  def incre(cls,increment):\n",
        "    cls.salary_incr=increment\n",
        "  \n",
        "Raj=employee('rajesh','kumar','1000')\n",
        "Ram=employee('Ram','Kumar','2000')\n",
        "Shaym=employee('shayam','kumar','3000')\n",
        "\n",
        "print('Raj initial salary: {}'.format(Raj.salary))\n",
        "Raj.increase()\n",
        "print('raj incremented salary {}'.format(Raj.salary))\n",
        "print('Ram initial salary {}'.format(Ram.salary))\n",
        "Ram.incre(2)\n",
        "Ram.increase()\n",
        "print('Ram Incremented salary {}'.format(Ram.salary))\n",
        "print('Shaym Initial salary {}'.format(Shaym.salary))\n",
        "Shaym.incre(3)\n",
        "Shaym.increase()\n",
        "print('Shaym Incremented salary {}'.format(Shaym.salary))\n",
        "\n"
      ],
      "execution_count": null,
      "outputs": [
        {
          "output_type": "stream",
          "text": [
            "Raj initial salary: 1000\n",
            "raj incremented salary 1500\n",
            "Ram initial salary 2000\n",
            "Ram Incremented salary 4000\n",
            "Shaym Initial salary 3000\n",
            "Shaym Incremented salary 9000\n"
          ],
          "name": "stdout"
        }
      ]
    },
    {
      "cell_type": "code",
      "metadata": {
        "colab": {
          "base_uri": "https://localhost:8080/",
          "height": 215
        },
        "id": "tkdk-wlIHElY",
        "outputId": "2408a524-bf33-44e3-cee4-4143e11728ba"
      },
      "source": [
        "class employee():\n",
        "\n",
        "  salary_incr=1.5\n",
        "  def __init__(self,fname,lname,salary):\n",
        "    self.firstname=fname\n",
        "    self.lastname=lname\n",
        "    self.salary=int(salary)\n",
        "  \n",
        "  def increase(self):\n",
        "    self.salary=int(self.salary*employee.salary_incr)\n",
        "  \n",
        "  @classmethod\n",
        "  def change(cls,emp_details):\n",
        "    fname,lname,salary=emp_details.split(\"_\")\n",
        "    return cls(fname,lname,salary)\n",
        "\n",
        "Raj=employee.change(\"Rajesh_kumar_1000\")\n",
        "Ram=employee.change(\"Ram_Kumar_2000\")\n",
        "\n",
        "print('Name:{}'.format(Raj.fname))\n",
        "print('Name:{}'.format(Ram.fname))"
      ],
      "execution_count": null,
      "outputs": [
        {
          "output_type": "error",
          "ename": "AttributeError",
          "evalue": "ignored",
          "traceback": [
            "\u001b[0;31m---------------------------------------------------------------------------\u001b[0m",
            "\u001b[0;31mAttributeError\u001b[0m                            Traceback (most recent call last)",
            "\u001b[0;32m<ipython-input-55-ebccc0bbfaf0>\u001b[0m in \u001b[0;36m<module>\u001b[0;34m()\u001b[0m\n\u001b[1;32m     18\u001b[0m \u001b[0mRam\u001b[0m\u001b[0;34m=\u001b[0m\u001b[0memployee\u001b[0m\u001b[0;34m.\u001b[0m\u001b[0mchange\u001b[0m\u001b[0;34m(\u001b[0m\u001b[0;34m\"Ram_Kumar_2000\"\u001b[0m\u001b[0;34m)\u001b[0m\u001b[0;34m\u001b[0m\u001b[0;34m\u001b[0m\u001b[0m\n\u001b[1;32m     19\u001b[0m \u001b[0;34m\u001b[0m\u001b[0m\n\u001b[0;32m---> 20\u001b[0;31m \u001b[0mprint\u001b[0m\u001b[0;34m(\u001b[0m\u001b[0;34m'Name:{}'\u001b[0m\u001b[0;34m.\u001b[0m\u001b[0mformat\u001b[0m\u001b[0;34m(\u001b[0m\u001b[0mRaj\u001b[0m\u001b[0;34m.\u001b[0m\u001b[0mfname\u001b[0m\u001b[0;34m)\u001b[0m\u001b[0;34m)\u001b[0m\u001b[0;34m\u001b[0m\u001b[0;34m\u001b[0m\u001b[0m\n\u001b[0m\u001b[1;32m     21\u001b[0m \u001b[0mprint\u001b[0m\u001b[0;34m(\u001b[0m\u001b[0;34m'Name:{}'\u001b[0m\u001b[0;34m.\u001b[0m\u001b[0mformat\u001b[0m\u001b[0;34m(\u001b[0m\u001b[0mRam\u001b[0m\u001b[0;34m.\u001b[0m\u001b[0mfname\u001b[0m\u001b[0;34m)\u001b[0m\u001b[0;34m)\u001b[0m\u001b[0;34m\u001b[0m\u001b[0;34m\u001b[0m\u001b[0m\n",
            "\u001b[0;31mAttributeError\u001b[0m: 'employee' object has no attribute 'fname'"
          ]
        }
      ]
    },
    {
      "cell_type": "code",
      "metadata": {
        "colab": {
          "base_uri": "https://localhost:8080/",
          "height": 164
        },
        "id": "ZwOjVH3V9aSW",
        "outputId": "13c14570-a45a-40c5-b4d4-69564aeec7d7"
      },
      "source": [
        "view"
      ],
      "execution_count": null,
      "outputs": [
        {
          "output_type": "error",
          "ename": "NameError",
          "evalue": "ignored",
          "traceback": [
            "\u001b[0;31m---------------------------------------------------------------------------\u001b[0m",
            "\u001b[0;31mNameError\u001b[0m                                 Traceback (most recent call last)",
            "\u001b[0;32m<ipython-input-12-e03aa60f8dd5>\u001b[0m in \u001b[0;36m<module>\u001b[0;34m()\u001b[0m\n\u001b[0;32m----> 1\u001b[0;31m \u001b[0mview\u001b[0m\u001b[0;34m\u001b[0m\u001b[0;34m\u001b[0m\u001b[0m\n\u001b[0m",
            "\u001b[0;31mNameError\u001b[0m: name 'view' is not defined"
          ]
        }
      ]
    },
    {
      "cell_type": "code",
      "metadata": {
        "id": "SI2wO9TM9a9B"
      },
      "source": [
        ""
      ],
      "execution_count": null,
      "outputs": []
    }
  ]
}
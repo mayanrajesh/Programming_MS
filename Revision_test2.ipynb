{
  "nbformat": 4,
  "nbformat_minor": 0,
  "metadata": {
    "colab": {
      "name": "Revision_test2.ipynb",
      "provenance": [],
      "collapsed_sections": [],
      "authorship_tag": "ABX9TyMHBSv/BX5ZwlmRptu0qgCt",
      "include_colab_link": true
    },
    "kernelspec": {
      "name": "python3",
      "display_name": "Python 3"
    }
  },
  "cells": [
    {
      "cell_type": "markdown",
      "metadata": {
        "id": "view-in-github",
        "colab_type": "text"
      },
      "source": [
        "<a href=\"https://colab.research.google.com/github/mayanrajesh/Programming_MS/blob/main/Revision_test2.ipynb\" target=\"_parent\"><img src=\"https://colab.research.google.com/assets/colab-badge.svg\" alt=\"Open In Colab\"/></a>"
      ]
    },
    {
      "cell_type": "markdown",
      "metadata": {
        "id": "dxqEVEUkmR-6"
      },
      "source": [
        "##Question1:Given two list, crate a third list by picking an odd-index element from the first list and even index element from second list"
      ]
    },
    {
      "cell_type": "code",
      "metadata": {
        "colab": {
          "base_uri": "https://localhost:8080/"
        },
        "id": "Qcqqb5tWEXgW",
        "outputId": "050fd40a-0b32-4d80-cf61-c4fc70b28234"
      },
      "source": [
        "#1\n",
        "def listsep():\n",
        "  evenlist=[]\n",
        "  oddlist=[]\n",
        "  listone=[3,6,9,12,15,18,21]\n",
        "  listtwo=[4,8,12,16,20,24,28]\n",
        "  for i in range(len(listone)):\n",
        "    if i%2 == 1:\n",
        "      oddlist.append(listone[i])\n",
        "  for j in range(len(listtwo)):\n",
        "    if j%2==0:\n",
        "      evenlist.append(listtwo[j])\n",
        "  \n",
        "  print(\"Element at add-index positions from listone\\n\",oddlist)\n",
        "  print(\"Element at even-index positions from listone\\n\",evenlist)\n",
        "  print(\"printing Final third list\\n\",oddlist+evenlist)\n",
        "listsep()"
      ],
      "execution_count": null,
      "outputs": [
        {
          "output_type": "stream",
          "text": [
            "Element at add-index positions from listone\n",
            " [6, 12, 18]\n",
            "Element at even-index positions from listone\n",
            " [4, 12, 20, 28]\n",
            "printing Final third list\n",
            " [6, 12, 18, 4, 12, 20, 28]\n"
          ],
          "name": "stdout"
        }
      ]
    },
    {
      "cell_type": "markdown",
      "metadata": {
        "id": "OUwd8svEm6s5"
      },
      "source": [
        "##Question2: Given an input list removes the element at index 4 and add it to the 2nd position and also at the end of the list"
      ]
    },
    {
      "cell_type": "code",
      "metadata": {
        "colab": {
          "base_uri": "https://localhost:8080/"
        },
        "id": "FqlhcF0XMtxz",
        "outputId": "f64503b2-4309-4db4-e112-73bc74df489b"
      },
      "source": [
        "#2\n",
        "listname=[34,54,67,89,11,43,94]\n",
        "print(\"Original list \",listname)\n",
        "a=listname.pop(4)\n",
        "print(\"List After removing element at index4 \",listname)\n",
        "b=listname.insert(2,a)\n",
        "print(\"List after adding element at index 2\",listname)\n",
        "c=listname.insert(len(listname),a)\n",
        "print(\"list after adding element at the last index \",listname)\n",
        "\n"
      ],
      "execution_count": null,
      "outputs": [
        {
          "output_type": "stream",
          "text": [
            "Original list  [34, 54, 67, 89, 11, 43, 94]\n",
            "List After removing element at index4  [34, 54, 67, 89, 43, 94]\n",
            "List after adding element at index 2 [34, 54, 11, 67, 89, 43, 94]\n",
            "list after adding element at the last index  [34, 54, 11, 67, 89, 43, 94, 11]\n"
          ],
          "name": "stdout"
        }
      ]
    },
    {
      "cell_type": "markdown",
      "metadata": {
        "id": "zNhg9Wg3nSxX"
      },
      "source": [
        "##Question3: G`iven a list slice it into 3 equal chunks and reverse each list"
      ]
    },
    {
      "cell_type": "code",
      "metadata": {
        "colab": {
          "base_uri": "https://localhost:8080/"
        },
        "id": "Cq_ddYcTRWaY",
        "outputId": "1cc9aa0b-2901-4699-b4d2-5ed428c90843"
      },
      "source": [
        "#3\n",
        "l=[11,45,8,23,14,12,78,45,89]\n",
        "print(\"Original list\",l)\n",
        "for i in range(0,len(l),3):\n",
        "  x=i\n",
        "  a=l[x:x+3]\n",
        "  print (\"chunk \",a)\n",
        "  reversed_list = a[::-1]\n",
        "  print(\"After reverse \",reversed_list)\n",
        "\n"
      ],
      "execution_count": null,
      "outputs": [
        {
          "output_type": "stream",
          "text": [
            "Original list [11, 45, 8, 23, 14, 12, 78, 45, 89]\n",
            "chunk  [11, 45, 8]\n",
            "After reverse  [8, 45, 11]\n",
            "chunk  [23, 14, 12]\n",
            "After reverse  [12, 14, 23]\n",
            "chunk  [78, 45, 89]\n",
            "After reverse  [89, 45, 78]\n"
          ],
          "name": "stdout"
        }
      ]
    },
    {
      "cell_type": "markdown",
      "metadata": {
        "id": "NiFM2SvynbdL"
      },
      "source": [
        "##Question4: Given a list iterate it and count the occurance of each element and create a dictionary to show the count of each element."
      ]
    },
    {
      "cell_type": "code",
      "metadata": {
        "colab": {
          "base_uri": "https://localhost:8080/"
        },
        "id": "WhCkoJNnT2u7",
        "outputId": "9d76d502-59fa-4412-9807-4abbe52f2d3e"
      },
      "source": [
        "#4\n",
        "l=[11,45,8,11,23,45,23,45,89]\n",
        "cnt={}\n",
        "print(\"Original list:\",l)\n",
        "for x in l:\n",
        "  a=l.count(x)\n",
        "  cnt[x]=a\n",
        "print(\"printing count of each items: \",cnt)\n",
        "  "
      ],
      "execution_count": null,
      "outputs": [
        {
          "output_type": "stream",
          "text": [
            "Original list: [11, 45, 8, 11, 23, 45, 23, 45, 89]\n",
            "printing count of each items:  {11: 2, 45: 3, 8: 1, 23: 2, 89: 1}\n"
          ],
          "name": "stdout"
        }
      ]
    },
    {
      "cell_type": "markdown",
      "metadata": {
        "id": "CaFgWV7bnqU3"
      },
      "source": [
        "#Question6: Given a following two sets find the interection and remove those elements from first set."
      ]
    },
    {
      "cell_type": "code",
      "metadata": {
        "colab": {
          "base_uri": "https://localhost:8080/"
        },
        "id": "ugTbWVIEXxjc",
        "outputId": "9a3e3d3e-25a2-4744-b5b7-b66292fba1aa"
      },
      "source": [
        "#6\n",
        "first_set={65,42,78,83,23,57,29}\n",
        "second_set={67,73,43,48,83,57,29}\n",
        "a=second_set.intersection(first_set)\n",
        "print(\"Intersection:\", a)\n",
        "for x in a:\n",
        "  first_set.remove(x)\n",
        "print(\"Fiest set after removing common element: \",first_set)"
      ],
      "execution_count": null,
      "outputs": [
        {
          "output_type": "stream",
          "text": [
            "Intersection: {57, 83, 29}\n",
            "Fiest set after removing common element:  {65, 42, 78, 23}\n"
          ],
          "name": "stdout"
        }
      ]
    },
    {
      "cell_type": "markdown",
      "metadata": {
        "id": "aGDfUwbfn372"
      },
      "source": [
        "##Question7: given two sets, checks if One set is subset or superset of another set. if the subset is found delete all the elements from that set."
      ]
    },
    {
      "cell_type": "code",
      "metadata": {
        "colab": {
          "base_uri": "https://localhost:8080/"
        },
        "id": "uVnkWrHPaYoD",
        "outputId": "e27d9a3e-0f92-4a2b-c219-213b7ab648cf"
      },
      "source": [
        "#7\n",
        "a={27,43,34}\n",
        "b={34,93,22,27,43,53,48}\n",
        "if a.issubset(b)==True:\n",
        "  print(\"first set is subset of second set:{}\".format(a.issubset(b)))\n",
        "  print(\"first set is super of second set:{}\".format(a.issuperset(b)))\n",
        "  a.clear()\n",
        "if b.issubset(a)==True:\n",
        "  print(\"first set is subset of second set:{}\".format(b.issubset(a)))\n",
        "  print(\"first set is super of second set:{}\".format(b.issuperset(a)))\n",
        "  b.clear()\n",
        "print(\"first set: \",a)\n",
        "print(\"second set:\",b)\n",
        "\n"
      ],
      "execution_count": null,
      "outputs": [
        {
          "output_type": "stream",
          "text": [
            "first set is subset of second set:True\n",
            "first set is super of second set:False\n",
            "first set:  set()\n",
            "second set: {34, 43, 48, 53, 22, 27, 93}\n"
          ],
          "name": "stdout"
        }
      ]
    },
    {
      "cell_type": "markdown",
      "metadata": {
        "id": "b8mrWpzBoHZE"
      },
      "source": [
        "##Question8: Iterate a given list and check if a given element already exist in a dictionary as a key's value if not delete it from the list."
      ]
    },
    {
      "cell_type": "code",
      "metadata": {
        "colab": {
          "base_uri": "https://localhost:8080/"
        },
        "id": "EEGmsqmsiGvh",
        "outputId": "9d1b66b1-8246-4058-bbe6-d70d089243e5"
      },
      "source": [
        "#8\n",
        "rollnumber=[47,64,69,37,76,83,95,97]\n",
        "sampleDict={'john':47,'Emma':69,'Kelly':76,'jason':97}\n",
        "for x in rollnumber:\n",
        "  if x in sampleDict.values():\n",
        "    pass\n",
        "  else:\n",
        "    rollnumber.remove(x)\n",
        "print(\"Original List\",rollnumber)\n",
        "print(\"After removing unwanted value from the list\",rollnumber)"
      ],
      "execution_count": null,
      "outputs": [
        {
          "output_type": "stream",
          "text": [
            "Original List [47, 69, 76, 95, 97]\n",
            "After removing unwanted value from the list [47, 69, 76, 95, 97]\n"
          ],
          "name": "stdout"
        }
      ]
    }
  ]
}
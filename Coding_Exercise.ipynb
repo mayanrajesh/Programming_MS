{
  "nbformat": 4,
  "nbformat_minor": 0,
  "metadata": {
    "colab": {
      "name": "Coding Exercise.ipynb",
      "provenance": [],
      "collapsed_sections": [],
      "authorship_tag": "ABX9TyPUMtdWoH2XbT8/AeL0eLOU",
      "include_colab_link": true
    },
    "kernelspec": {
      "name": "python3",
      "display_name": "Python 3"
    }
  },
  "cells": [
    {
      "cell_type": "markdown",
      "metadata": {
        "id": "view-in-github",
        "colab_type": "text"
      },
      "source": [
        "<a href=\"https://colab.research.google.com/github/mayanrajesh/Programming_MS/blob/main/Coding_Exercise.ipynb\" target=\"_parent\"><img src=\"https://colab.research.google.com/assets/colab-badge.svg\" alt=\"Open In Colab\"/></a>"
      ]
    },
    {
      "cell_type": "code",
      "metadata": {
        "id": "z5N_nfHuVJd4"
      },
      "source": [
        ""
      ],
      "execution_count": null,
      "outputs": []
    },
    {
      "cell_type": "markdown",
      "metadata": {
        "id": "XraxKz_4VMxW"
      },
      "source": [
        "##If we list all the natural numbers below 10 that are multiples of 3 or 5, we get 3, 5, 6 and 9. The sum of these multiples is 23.Find the sum of all the multiples of 3 or 5 below 1000."
      ]
    },
    {
      "cell_type": "markdown",
      "metadata": {
        "id": "drzAvRerI6N0"
      },
      "source": [
        "*using Range and initialization of SUM and number(x)*"
      ]
    },
    {
      "cell_type": "code",
      "metadata": {
        "id": "OwtS-eN8VVnT",
        "outputId": "776e1cae-a2da-4807-dd92-e756306d14a8",
        "colab": {
          "base_uri": "https://localhost:8080/"
        }
      },
      "source": [
        "#method 1\n",
        "def natural_number():\n",
        "  num = int(input(\"Enter the number for upper limit:\"))\n",
        "  sum = 0\n",
        "  x=0\n",
        "  for x in range(num):\n",
        "    if x%3==0 or x%5==0:\n",
        "      #print(x)\n",
        "      sum +=x\n",
        "      x+=1\n",
        "  print(\"Sum of the all the multiple of 3 or 5 below {} is: {}\".format(num,sum))\n",
        "\n",
        "natural_number()\n"
      ],
      "execution_count": 26,
      "outputs": [
        {
          "output_type": "stream",
          "text": [
            "Enter the number for upper limit:16\n",
            "Sum of the all the multiple of 3 or 5 below 16 is: 60\n"
          ],
          "name": "stdout"
        }
      ]
    },
    {
      "cell_type": "markdown",
      "metadata": {
        "id": "CsqP1QGKJBSL"
      },
      "source": [
        "*Using range without initialization*"
      ]
    },
    {
      "cell_type": "code",
      "metadata": {
        "id": "WNPO1KECfZR4",
        "outputId": "9f3d4030-ba22-40ae-879b-39574e89e5dc",
        "colab": {
          "base_uri": "https://localhost:8080/"
        }
      },
      "source": [
        "#method 2\n",
        "def sum_number():\n",
        "  n=int(input(\"Enter the upper limit number:\"))\n",
        "  sum_of_number = sum(x for x in range(n) if x % 3 == 0 or x % 5 == 0)\n",
        "  print(\"Sum of the all the multiple of 3 or 5 below {} is: {}\".format(n,sum_of_number))\n",
        "\n",
        "sum_number()"
      ],
      "execution_count": 33,
      "outputs": [
        {
          "output_type": "stream",
          "text": [
            "Enter the upper limit number:1000\n",
            "Sum of the all the multiple of 3 or 5 below 1000 is: 233168\n"
          ],
          "name": "stdout"
        }
      ]
    },
    {
      "cell_type": "markdown",
      "metadata": {
        "id": "KgzJGGcSJHTA"
      },
      "source": [
        "*Without using range (use of while loop)*"
      ]
    },
    {
      "cell_type": "code",
      "metadata": {
        "id": "9f6TKQzIhb29",
        "outputId": "a8ea00c6-1227-4b95-f419-21ead7952727",
        "colab": {
          "base_uri": "https://localhost:8080/"
        }
      },
      "source": [
        "#method 3\n",
        "def sum_number():\n",
        "  n=int(input(\"Enter of upper limit of number:\"))\n",
        "  sum=0\n",
        "  x=0\n",
        "  while x<n:\n",
        "    if x%3==0 or x%5==0:\n",
        "      sum +=x\n",
        "    x+=1\n",
        "  print(\"Sum of the all the multiple of 3 or 5 below {} is: {}\".format(n,sum))\n",
        "sum_number()"
      ],
      "execution_count": 36,
      "outputs": [
        {
          "output_type": "stream",
          "text": [
            "Enter of upper limit of number:1000\n",
            "Sum of the all the multiple of 3 or 5 below 1000 is: 233168\n"
          ],
          "name": "stdout"
        }
      ]
    },
    {
      "cell_type": "code",
      "metadata": {
        "id": "ztSFv48TxB3-"
      },
      "source": [
        ""
      ],
      "execution_count": 93,
      "outputs": []
    },
    {
      "cell_type": "markdown",
      "metadata": {
        "id": "ZktsUuWhHIY1"
      },
      "source": [
        "##The prime factors of 13195 are 5, 7, 13 and 29. What is the largest prime factor of the number 600851475143 ?"
      ]
    },
    {
      "cell_type": "markdown",
      "metadata": {
        "id": "CsjkVGKLIVQV"
      },
      "source": [
        "*Using math Function*"
      ]
    },
    {
      "cell_type": "code",
      "metadata": {
        "id": "TZVq7XO62L0t",
        "outputId": "85c4ca30-8057-468f-9e08-8312f84293ed",
        "colab": {
          "base_uri": "https://localhost:8080/"
        }
      },
      "source": [
        "#Using math function\n",
        "import math\n",
        "def primeFactors():\n",
        "  n = int(input(\"Enter the number : \"))\n",
        "  prime_factor = []\n",
        "  unique_prime_factors = set()\n",
        "  while n % 2 == 0: # no of even divisibility\n",
        "    #print (2),\n",
        "    prime_factor.append(2)\n",
        "    unique_prime_factors.add(2)\n",
        "    n = n / 2 \n",
        "  for i in range(3,int(math.sqrt(n))+1,2): # n become odd after divisible of 2\n",
        "      # while i divides n\n",
        "    while n % i== 0:\n",
        "      #print (i)\n",
        "      prime_factor.append(i)\n",
        "      unique_prime_factors.add(i)\n",
        "      n = n / i\n",
        "   # if n is a prime\n",
        "  if n > 2:\n",
        "    prime_factor.append(n)\n",
        "    unique_prime_factors.add(n)\n",
        "    #print (n)\n",
        "  print(\"List of prime factor of number is {}\".format(prime_factor))\n",
        "  print(\"List of unique prime factor of number is {}\".format(sorted(unique_prime_factors)))\n",
        "\n",
        "primeFactors()"
      ],
      "execution_count": 93,
      "outputs": [
        {
          "output_type": "stream",
          "text": [
            "Enter the number : 13195\n",
            "List of prime factor of number is [5, 7, 13, 29]\n",
            "List of unique prime factor of number is [5, 7, 13, 29]\n"
          ],
          "name": "stdout"
        }
      ]
    },
    {
      "cell_type": "markdown",
      "metadata": {
        "id": "s9HQB1aMIKmB"
      },
      "source": [
        "*Using Without Math Function*\n"
      ]
    },
    {
      "cell_type": "code",
      "metadata": {
        "id": "VMGMhhykHrFT",
        "outputId": "b08fe4bd-9161-4051-d245-388433f579a2",
        "colab": {
          "base_uri": "https://localhost:8080/"
        }
      },
      "source": [
        "#without Math Function\n",
        "def primeFactors():\n",
        "  n = int(input(\"Enter the number : \"))\n",
        "  prime_factor = []\n",
        "  unique_prime_factors = set()\n",
        "  while n % 2 == 0: # no of even divisibility\n",
        "    #print (2),\n",
        "    prime_factor.append(2)\n",
        "    unique_prime_factors.add(2)\n",
        "    n = n / 2 \n",
        "  for i in range(3,int(n**(1/2))+1,2): # n becomes odd after divisible of 2\n",
        "      # while i divides n\n",
        "    while n % i== 0:\n",
        "      #print (i)\n",
        "      prime_factor.append(i)\n",
        "      unique_prime_factors.add(i)\n",
        "      n = n / i\n",
        "   # if n is a prime\n",
        "  if n > 2:\n",
        "    prime_factor.append(n)\n",
        "    unique_prime_factors.add(n)\n",
        "    #print (n)\n",
        "  print(\"List of prime factor of number is {}\".format(prime_factor))\n",
        "  print(\"List of unique prime factor of number is {}\".format(sorted(unique_prime_factors)))\n",
        "\n",
        "primeFactors()"
      ],
      "execution_count": 95,
      "outputs": [
        {
          "output_type": "stream",
          "text": [
            "Enter the number : 200\n",
            "List of prime factor of number is [2, 2, 2, 5, 5]\n",
            "List of unique prime factor of number is [2, 5]\n"
          ],
          "name": "stdout"
        }
      ]
    }
  ]
}
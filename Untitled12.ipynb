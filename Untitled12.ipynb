{
  "nbformat": 4,
  "nbformat_minor": 0,
  "metadata": {
    "colab": {
      "name": "Untitled12.ipynb",
      "provenance": [],
      "collapsed_sections": [],
      "authorship_tag": "ABX9TyPScSxjgrmie7x2nSCb7OF6",
      "include_colab_link": true
    },
    "kernelspec": {
      "name": "python3",
      "display_name": "Python 3"
    }
  },
  "cells": [
    {
      "cell_type": "markdown",
      "metadata": {
        "id": "view-in-github",
        "colab_type": "text"
      },
      "source": [
        "<a href=\"https://colab.research.google.com/github/mayanrajesh/Programming_MS/blob/main/Untitled12.ipynb\" target=\"_parent\"><img src=\"https://colab.research.google.com/assets/colab-badge.svg\" alt=\"Open In Colab\"/></a>"
      ]
    },
    {
      "cell_type": "code",
      "metadata": {
        "colab": {
          "base_uri": "https://localhost:8080/",
          "height": 351
        },
        "id": "MDCYdOO5-SFm",
        "outputId": "93308c7a-49ef-43d9-fd10-60293b58e298"
      },
      "source": [
        "def payslip():\n",
        "  while True:\n",
        "    a=input(\"enter working hr\")\n",
        "    try:\n",
        "      a=float(a)\n",
        "    except:\n",
        "      print(\"invalid number\")\n",
        "      continue\n",
        "    break\n",
        "  while True:\n",
        "    b=input(\"enter rate\")\n",
        "    try:\n",
        "      b=int(b)\n",
        "    except:\n",
        "      print(\"invalid input\")\n",
        "      continue\n",
        "    break\n",
        "\n",
        "  def mul():\n",
        "    c=a*b\n",
        "    d=a+b\n",
        "    return c,d\n",
        "  \n",
        "  def div(d):\n",
        "    e=d/b\n",
        "    return e\n",
        "\n",
        "\n",
        "  print(mul()[0],mul()[1])\n",
        "  print(e)\n",
        "payslip()"
      ],
      "execution_count": null,
      "outputs": [
        {
          "output_type": "stream",
          "text": [
            "enter working hr8\n",
            "enter rate2\n",
            "16.0 10.0\n"
          ],
          "name": "stdout"
        },
        {
          "output_type": "error",
          "ename": "NameError",
          "evalue": "ignored",
          "traceback": [
            "\u001b[0;31m---------------------------------------------------------------------------\u001b[0m",
            "\u001b[0;31mNameError\u001b[0m                                 Traceback (most recent call last)",
            "\u001b[0;32m<ipython-input-4-8e869eb1270b>\u001b[0m in \u001b[0;36m<module>\u001b[0;34m()\u001b[0m\n\u001b[1;32m     29\u001b[0m   \u001b[0mprint\u001b[0m\u001b[0;34m(\u001b[0m\u001b[0mmul\u001b[0m\u001b[0;34m(\u001b[0m\u001b[0;34m)\u001b[0m\u001b[0;34m[\u001b[0m\u001b[0;36m0\u001b[0m\u001b[0;34m]\u001b[0m\u001b[0;34m,\u001b[0m\u001b[0mmul\u001b[0m\u001b[0;34m(\u001b[0m\u001b[0;34m)\u001b[0m\u001b[0;34m[\u001b[0m\u001b[0;36m1\u001b[0m\u001b[0;34m]\u001b[0m\u001b[0;34m)\u001b[0m\u001b[0;34m\u001b[0m\u001b[0;34m\u001b[0m\u001b[0m\n\u001b[1;32m     30\u001b[0m   \u001b[0mprint\u001b[0m\u001b[0;34m(\u001b[0m\u001b[0mdiv\u001b[0m\u001b[0;34m(\u001b[0m\u001b[0md\u001b[0m\u001b[0;34m)\u001b[0m\u001b[0;34m.\u001b[0m\u001b[0me\u001b[0m\u001b[0;34m)\u001b[0m\u001b[0;34m\u001b[0m\u001b[0;34m\u001b[0m\u001b[0m\n\u001b[0;32m---> 31\u001b[0;31m \u001b[0mpayslip\u001b[0m\u001b[0;34m(\u001b[0m\u001b[0;34m)\u001b[0m\u001b[0;34m\u001b[0m\u001b[0;34m\u001b[0m\u001b[0m\n\u001b[0m",
            "\u001b[0;32m<ipython-input-4-8e869eb1270b>\u001b[0m in \u001b[0;36mpayslip\u001b[0;34m()\u001b[0m\n\u001b[1;32m     28\u001b[0m \u001b[0;34m\u001b[0m\u001b[0m\n\u001b[1;32m     29\u001b[0m   \u001b[0mprint\u001b[0m\u001b[0;34m(\u001b[0m\u001b[0mmul\u001b[0m\u001b[0;34m(\u001b[0m\u001b[0;34m)\u001b[0m\u001b[0;34m[\u001b[0m\u001b[0;36m0\u001b[0m\u001b[0;34m]\u001b[0m\u001b[0;34m,\u001b[0m\u001b[0mmul\u001b[0m\u001b[0;34m(\u001b[0m\u001b[0;34m)\u001b[0m\u001b[0;34m[\u001b[0m\u001b[0;36m1\u001b[0m\u001b[0;34m]\u001b[0m\u001b[0;34m)\u001b[0m\u001b[0;34m\u001b[0m\u001b[0;34m\u001b[0m\u001b[0m\n\u001b[0;32m---> 30\u001b[0;31m   \u001b[0mprint\u001b[0m\u001b[0;34m(\u001b[0m\u001b[0mdiv\u001b[0m\u001b[0;34m(\u001b[0m\u001b[0md\u001b[0m\u001b[0;34m)\u001b[0m\u001b[0;34m.\u001b[0m\u001b[0me\u001b[0m\u001b[0;34m)\u001b[0m\u001b[0;34m\u001b[0m\u001b[0;34m\u001b[0m\u001b[0m\n\u001b[0m\u001b[1;32m     31\u001b[0m \u001b[0mpayslip\u001b[0m\u001b[0;34m(\u001b[0m\u001b[0;34m)\u001b[0m\u001b[0;34m\u001b[0m\u001b[0;34m\u001b[0m\u001b[0m\n",
            "\u001b[0;31mNameError\u001b[0m: name 'd' is not defined"
          ]
        }
      ]
    },
    {
      "cell_type": "code",
      "metadata": {
        "colab": {
          "base_uri": "https://localhost:8080/"
        },
        "id": "hcx1HwOkArzT",
        "outputId": "57293e42-cdba-4464-d72f-255de618af63"
      },
      "source": [
        "import datetime\n",
        "from google.colab import output\n",
        "\n",
        "#main function to enter the input with validation \n",
        "def payslip():\n",
        "  ename=input(\"Employee Name : \")\n",
        "  enum=input(\"Employee Number : \")\n",
        "  while True:\n",
        "    wend=input('Week Ending(mm/dd/yyyy): ')\n",
        "    try:\n",
        "      wend=datetime.datetime.strptime(wend,'%m/%d/%Y').date()\n",
        "    except:\n",
        "      print(\"Invalid Input. Enter again.\")\n",
        "      continue\n",
        "    break\n",
        "  while True:\n",
        "    whrs=input(\"Number of hours worked: \")\n",
        "    try:\n",
        "      whrs=float(whrs)\n",
        "    except:\n",
        "      print(\"Invalid Input. Enter again\")\n",
        "      continue\n",
        "    break\n",
        "  while True:\n",
        "    hrate=input(\"Hourly Rate: \")\n",
        "    try:\n",
        "      hrate=float(hrate)\n",
        "    except:\n",
        "      print(\"Invalid Input. Enter again\")\n",
        "      continue\n",
        "    break\n",
        "  while True:\n",
        "    if whrs>37.50:\n",
        "      orate=input(\"Overtime Rate: \")\n",
        "    else:\n",
        "      break\n",
        "    try:\n",
        "      orate=float(orate)\n",
        "    except:\n",
        "      print(\"Invalid Input. Enter again\")\n",
        "      continue\n",
        "    break\n",
        "  while True: \n",
        "    tax=input(\"Standard Tax Rate: \")\n",
        "    try:\n",
        "      tax=int(tax)\n",
        "    except:\n",
        "      print(\"Invalid Input. Enter again\")\n",
        "      continue\n",
        "    break\n",
        "  while True:\n",
        "    if whrs>37.50:\n",
        "      o_r_tax=input(\"Overtime Tax Rate: \")\n",
        "    else:\n",
        "      break\n",
        "    try:\n",
        "      o_r_tax=int(o_r_tax)\n",
        "    except:\n",
        "      print(\"Invalid Input. Enter again\")\n",
        "      continue\n",
        "    break\n",
        "  \n",
        "  def income():\n",
        "    if whrs<=37.50:\n",
        "      tpay=whrs*hrate\n",
        "      return tpay\n",
        "    else:\n",
        "      ohrs=round(whrs-37.50,2)\n",
        "      tpay=round(37.50*hrate,2)\n",
        "      opay=round(ohrs*hrate*orate,2)\n",
        "      total=round(tpay+opay,2)\n",
        "      return ohrs,tpay,opay,total\n",
        "  \n",
        "\n",
        "  def deduction():\n",
        "    if whrs<=37.50:\n",
        "      tpay=income()\n",
        "      stax=round(tpay*tax/100,2)\n",
        "      return stax\n",
        "    else:\n",
        "      ohrs,tpay,opay,total=income()\n",
        "      stax=round(tpay*tax/100,2)\n",
        "      otax=round(opay*o_r_tax/100,2)\n",
        "      tdct=round(stax+otax,2)\n",
        "      return stax,otax,tdct\n",
        "\n",
        "\n",
        "  def display():\n",
        "    print(\"\\n{:30} PAYSLIP\".format(''))\n",
        "    print(\"WEEK ENDING {}\".format(wend))\n",
        "    print(\"Employeee: {}\".format(ename.title()))                       \n",
        "    print(\"Employee Number: {}\".format(enum.upper()))                  \n",
        "    print(\"\\n{:20} Earnings {:20} Deductions\".format(' ',' '))\n",
        "    print(\"{:20} Hours {:3} Rate {:3} Total\".format(' ',' ',' '))\n",
        "    #print(whrs,hrate,tpay)\n",
        "    if whrs<=37.50:\n",
        "      tpay=income()\n",
        "      stax=deduction()\n",
        "      print(\"Hours (Normal) {0:10} {1:9} {2:9}  Tax @{3:3}% {4:3} \".format(whrs,hrate,tpay,tax,stax))\n",
        "      print(\"\\n{0:20} Total Pay: {1:30}\".format(' ',tpay))\n",
        "      print(\"{0:20} Total deductions: {1:23}\".format(' ',stax))\n",
        "      print(\"{0:20} Net Pay: {1:32}\".format(' ',tpay-stax))\n",
        "\n",
        "    else:\n",
        "      ohrs,tpay,opay,total=income()\n",
        "      stax,otax,tdct=deduction()\n",
        "      print(\"Hours (Normal) {0:10} {1:9} {2:9}  Tax @{3:3}% {4:3} \".format(37.50,hrate,tpay,tax,stax))\n",
        "      print(\"Hours (Overtime) {0:8} {1:9} {2:9}  Tax @{3:3}% {4:3} \".format(ohrs,hrate*orate,opay,o_r_tax,otax))\n",
        "      print(\"\\n{0:20} Total Pay: {1:30}\".format(' ',total))\n",
        "      print(\"{0:20} Total deductions: {1:23}\".format(' ',tdct))\n",
        "      print(\"{0:20} Net Pay: {1:32}\".format(' ',total-tdct))\n",
        "      print(\"\\n\")\n",
        "  output.clear()\n",
        "  display()\n",
        "  \n",
        "if __name__ == \"__main__\":\n",
        "    payslip()\n"
      ],
      "execution_count": null,
      "outputs": [
        {
          "output_type": "stream",
          "text": [
            "\n",
            "                               PAYSLIP\n",
            "WEEK ENDING 2020-12-12\n",
            "Employeee: 12\n",
            "Employee Number: 12\n",
            "\n",
            "                     Earnings                      Deductions\n",
            "                     Hours     Rate     Total\n",
            "Hours (Normal)       31.0      12.0     372.0  Tax @ 12% 44.64 \n",
            "\n",
            "                     Total Pay:                          372.0\n",
            "                     Total deductions:                   44.64\n",
            "                     Net Pay:                           327.36\n"
          ],
          "name": "stdout"
        }
      ]
    },
    {
      "cell_type": "code",
      "metadata": {
        "colab": {
          "base_uri": "https://localhost:8080/"
        },
        "id": "KicLPL9aC1DG",
        "outputId": "47f1f9e4-f04f-48a9-d926-040dd3e36016"
      },
      "source": [
        "import datetime\n",
        "while True:\n",
        "  userInput = input('Please enter your birthday (mm/dd/yyyy)')\n",
        "  try:\n",
        "    userInput = datetime.datetime.strptime(userInput,'%m/%d/%Y').date()\n",
        "  except:\n",
        "    print(\"invalid input\")\n",
        "    continue\n",
        "  break\n",
        "print(userInput)\n"
      ],
      "execution_count": null,
      "outputs": [
        {
          "output_type": "stream",
          "text": [
            "Please enter your birthday (mm/dd/yyyy)12/12/2020\n",
            "2020-12-12\n"
          ],
          "name": "stdout"
        }
      ]
    },
    {
      "cell_type": "code",
      "metadata": {
        "colab": {
          "base_uri": "https://localhost:8080/"
        },
        "id": "BqYBKak1IrsX",
        "outputId": "4b4547d4-9d98-4282-84af-52bc74ee3ba2"
      },
      "source": [
        "def squareit(n):\n",
        "    return n * n\n",
        "\n",
        "def cubeit(n):\n",
        "    return n*n*n\n",
        "\n",
        "def main():\n",
        "    anum = int(input(\"Please enter a number\"))\n",
        "    abc=int(input('enter number'))\n",
        "    print(squareit(anum))\n",
        "    print(cubeit(abc))\n",
        "\n",
        "if __name__ == \"__main__\":\n",
        "    main()"
      ],
      "execution_count": null,
      "outputs": [
        {
          "output_type": "stream",
          "text": [
            "Please enter a number5\n",
            "enter number3\n",
            "25\n",
            "27\n"
          ],
          "name": "stdout"
        }
      ]
    },
    {
      "cell_type": "code",
      "metadata": {
        "colab": {
          "base_uri": "https://localhost:8080/",
          "height": 130
        },
        "id": "V0_YTV1cq9H8",
        "outputId": "43b3b4bc-50e5-4ded-e37b-bee595b3f0a1"
      },
      "source": [
        "\n",
        "a=round(10.385,2)\n",
        "print(a)\n",
        "print(type(a))"
      ],
      "execution_count": null,
      "outputs": [
        {
          "output_type": "error",
          "ename": "SyntaxError",
          "evalue": "ignored",
          "traceback": [
            "\u001b[0;36m  File \u001b[0;32m\"<ipython-input-59-0f455bbfd8f5>\"\u001b[0;36m, line \u001b[0;32m1\u001b[0m\n\u001b[0;31m    return format(10,20,30,'.2f')\u001b[0m\n\u001b[0m                                 ^\u001b[0m\n\u001b[0;31mSyntaxError\u001b[0m\u001b[0;31m:\u001b[0m 'return' outside function\n"
          ]
        }
      ]
    },
    {
      "cell_type": "code",
      "metadata": {
        "colab": {
          "base_uri": "https://localhost:8080/"
        },
        "id": "5gH8qTl7h7M3",
        "outputId": "fb6d75d4-f3b0-4e91-a8b6-560a929ba016"
      },
      "source": [
        "\n",
        "def add_entry():\n",
        "  name=input(\"Enter Name: \")\n",
        "  while True:\n",
        "    phone=input(\"Enter Number: \")\n",
        "    try:\n",
        "      phone=int(phone)\n",
        "      assert phone >=100\n",
        "    except:\n",
        "      print(\"Enter valid number only.\")\n",
        "      continue\n",
        "    break\n",
        "  if name.title() in MYPY:\n",
        "    print(\"{}, already exist.\".format(name.title()))                    \n",
        "  else:\n",
        "    MYPY[name.title()] = phone                                            \n",
        "    print(\"{}, added in Phone System.\".format(name.title()))\n",
        "\n",
        "\n",
        "def remove():\n",
        "  name=input(\"Enter Name: \")\n",
        "  if name.title() in MYPY:\n",
        "    print(\"\\nName: {}\".format(name.title()))\n",
        "    print(\"Number: {}\".format(MYPY[name.title()]))\n",
        "    while True:\n",
        "      option=input(\"\\nconfirm if you want to delete {},(yes/no): \".format(name.title()))\n",
        "      try:\n",
        "        assert (option.title()=='Yes' or option.title()=='No')\n",
        "      except:\n",
        "        print(\"please enter valid Option(yes/no).\")\n",
        "        continue\n",
        "      break\n",
        "    if option.title()=='Yes':\n",
        "      del MYPY[name.title()]\n",
        "      print(\"{}, deleted successfully from phone book system.\".format(name.title()))\n",
        "  else:\n",
        "    print(\"{}, not found in the phone book syatem.\".format(name.title()))\n",
        "\n",
        "\n",
        "def update():\n",
        "  name=input(\"Enter Name: \")\n",
        "  if name.title() in MYPY:\n",
        "    print(\"\\nName: {}\".format(name.title()))\n",
        "    print(\"Number: {}\".format(MYPY[name.title()]))\n",
        "    while True:\n",
        "      option=input(\"\\nDo you want to update the phone number(yes/no): \")\n",
        "      try:\n",
        "        assert (option.title()=='Yes' or option.title() =='No')\n",
        "      except:\n",
        "        print(\"please enter valid Option(yes/no).\")\n",
        "        continue\n",
        "      break\n",
        "    if option.title()=='Yes':\n",
        "      while True:\n",
        "        phone=input(\"Enter new Number: \")\n",
        "        try:\n",
        "          phone=int(phone)\n",
        "          assert phone>=100\n",
        "        except:\n",
        "          print(\"Enter a valid phone number.\")\n",
        "          continue\n",
        "        break\n",
        "      MYPY[name.title()]=phone\n",
        "      print(\"Number updated for {}\".format(name.title()))\n",
        "    while True:\n",
        "      option=input(\"\\nDo you want to update the Name(yes/no):\")\n",
        "      try:\n",
        "        assert (option.title()=='Yes' or option.title() =='No')\n",
        "      except:\n",
        "        print(\"please enter valid Option(yes/no).\")\n",
        "        continue\n",
        "      break\n",
        "    if option.title()=='Yes':\n",
        "      new_name=input(\"enter new name:\")\n",
        "      MYPY[new_name.title()]=MYPY.pop(name.title())\n",
        "      print(\"name {} update with new name {}\".format(name.title(),new_name.title()))\n",
        "    else:\n",
        "      print('')\n",
        "  else:\n",
        "    print(\"{}, not found in phone book system.\".format(name.title()))\n",
        "\n",
        "\n",
        "\n",
        "def search():\n",
        "  name=input(\"Enter Name: \")\n",
        "  if name.title() in MYPY:\n",
        "    print(\"\\nName: {}\".format(name.title()))\n",
        "    print(\"Number: {}\".format(MYPY[name.title()]))\n",
        "  else:\n",
        "    print(\"{}, not avalible in phone book system.\".format(name.title()))\n",
        "    while True:\n",
        "      option=input(\"Do you want to add {} (yes/no):\".format(name.title()))\n",
        "      try:\n",
        "        assert (option.title()=='Yes' or option.title()=='No')\n",
        "      except:\n",
        "        print(\"please enter valid Option(yes/no).\")\n",
        "        continue\n",
        "      break\n",
        "    if option.title()=='Yes':\n",
        "      while True:\n",
        "        phone=input(\"Enter Number: \")\n",
        "        try:\n",
        "          phone=int(phone)\n",
        "          assert phone >=100\n",
        "        except:\n",
        "          print(\"Enter a valid phone number \")\n",
        "          continue\n",
        "        break\n",
        "      MYPY[name.title()]=phone\n",
        "      print(\"{}, added in phone book system.\".format(name.title()))\n",
        "    else:\n",
        "      print(\"Thank you for using phone book system.\")\n",
        "\n",
        "\n",
        "def phone_book():                                                  \n",
        "    print(\"1. Add New Entry\")\n",
        "    print(\"2. Delete Entry\")\n",
        "    print(\"3. Update Entry\")\n",
        "    print(\"4. Lookup Number\")\n",
        "    print(\"5. Quit\")\n",
        "    \n",
        "print(\"#############################\\n MYPY PHONE BOOK \\n#############################\")\n",
        "MYPY = {}                                                                                 \n",
        "choice = 0                                                                      \n",
        "phone_book()\n",
        "while choice != 5:\n",
        "  while True:\n",
        "    choice = input(\"\\nSelect the above option(1-5) : \")\n",
        "    try:\n",
        "      choice=int(choice)\n",
        "      assert (choice in range(1,6))\n",
        "    except:\n",
        "      print(\"enter valid option\")\n",
        "      continue\n",
        "    break\n",
        "  if choice==1:\n",
        "    add_entry()\n",
        "  elif choice==2:\n",
        "    remove()\n",
        "  elif choice==3:\n",
        "    update()\n",
        "  elif choice==4:\n",
        "    search()\n",
        "  elif choice==5:\n",
        "    print(\"Thank you for using Phone Book System.\")\n",
        "  elif choice!=5:\n",
        "    phone_book()\n",
        "\n"
      ],
      "execution_count": null,
      "outputs": [
        {
          "output_type": "stream",
          "text": [
            "#############################\n",
            " MYPY PHONE BOOK \n",
            "#############################\n",
            "1. Add New Entry\n",
            "2. Delete Entry\n",
            "3. Update Entry\n",
            "4. Lookup Number\n",
            "5. Quit\n",
            "\n",
            "Select the above option(1-5) : 5\n",
            "Thank you for using Phone Book System.\n"
          ],
          "name": "stdout"
        }
      ]
    },
    {
      "cell_type": "code",
      "metadata": {
        "colab": {
          "base_uri": "https://localhost:8080/"
        },
        "id": "3WJlz6ahvo1X",
        "outputId": "960b2a60-e4c6-4a0e-f8f9-08df111e0f0f"
      },
      "source": [
        "\n",
        "while True:\n",
        "  a=input('enter value')\n",
        "  try:\n",
        "    a=int(a)\n",
        "    assert a>0\n",
        "  except:\n",
        "    print('error')\n",
        "    continue\n",
        "  break\n",
        "print(a)\n",
        "  "
      ],
      "execution_count": null,
      "outputs": [
        {
          "output_type": "stream",
          "text": [
            "enter value0\n",
            "1\n",
            "error\n",
            "enter value000\n",
            "3\n",
            "error\n",
            "enter value1\n",
            "1\n",
            "1\n"
          ],
          "name": "stdout"
        }
      ]
    },
    {
      "cell_type": "code",
      "metadata": {
        "colab": {
          "base_uri": "https://localhost:8080/"
        },
        "id": "Mi3KkcxAv-FJ",
        "outputId": "5c3fdf61-6443-4b1b-eafb-030876cd291a"
      },
      "source": [
        "a=input('enter input')\n",
        "if isinstance(a,int):\n",
        "  a=int(a)\n",
        "  print(a)\n",
        "else:\n",
        "  print(\"jyasdgv\")"
      ],
      "execution_count": null,
      "outputs": [
        {
          "output_type": "stream",
          "text": [
            "enter input-1\n",
            "jyasdgv\n"
          ],
          "name": "stdout"
        }
      ]
    },
    {
      "cell_type": "code",
      "metadata": {
        "colab": {
          "base_uri": "https://localhost:8080/"
        },
        "id": "5lUd8ITuUz_h",
        "outputId": "1ec89818-a999-489f-bbdc-0611a2401742"
      },
      "source": [
        "\n",
        "#MYPY={}\n",
        "def search():\n",
        "  name=input(\"Enter Name: \")\n",
        "  if name.title() in MYPY:\n",
        "    print(\"\\nName: {}\".format(name.title()))\n",
        "    print(\"Number: {}\".format(MYPY[name.title()]))\n",
        "  else:\n",
        "    print(\"{}, not avalible in phone book system.\".format(name.title()))\n",
        "    while True:\n",
        "      option=input(\"Do you want to add {} (yes/no):\".format(name.title()))\n",
        "      try:\n",
        "        assert (option.title()=='Yes' or option.title()=='No')\n",
        "      except:\n",
        "        print(\"please enter valid Option(yes/no).\")\n",
        "        continue\n",
        "      break\n",
        "    if option.title()=='Yes':\n",
        "      while True:\n",
        "        phone=input(\"Enter Number: \")\n",
        "        try:\n",
        "          phone=int(phone)\n",
        "          assert phone >=100\n",
        "        except:\n",
        "          print(\"Enter a valid phone number \")\n",
        "          continue\n",
        "        break\n",
        "      MYPY[name.title()]=phone\n",
        "      print(\"{}, added in phone book system.\".format(name.title()))\n",
        "    else:\n",
        "      print(\"Thank you for using phone book system.\")\n",
        "  \n",
        "search()\n",
        "#MYPY"
      ],
      "execution_count": null,
      "outputs": [
        {
          "output_type": "stream",
          "text": [
            "Enter Name: raj\n",
            "\n",
            "Name: Raj\n",
            "Number: 12324412\n"
          ],
          "name": "stdout"
        }
      ]
    },
    {
      "cell_type": "code",
      "metadata": {
        "colab": {
          "base_uri": "https://localhost:8080/"
        },
        "id": "DN34RH0aqCsz",
        "outputId": "335329ed-a2cd-4db3-ac21-68761f3d4fb9"
      },
      "source": [
        "while True:\n",
        "  option=input(\"Confirm if you want to update the number(yes/no): \")\n",
        "  try:\n",
        "    #option=str(option)\n",
        "    assert (option.title()=='Yes' or option.title() =='No')\n",
        "  except:\n",
        "    print(\"enter valid option\")\n",
        "    continue\n",
        "  break\n",
        "print(option)"
      ],
      "execution_count": null,
      "outputs": [
        {
          "output_type": "stream",
          "text": [
            "Confirm if you want to update the number(yes/no): assd\n",
            "enter valid option\n",
            "Confirm if you want to update the number(yes/no): 1\n",
            "enter valid option\n",
            "Confirm if you want to update the number(yes/no): no\n",
            "no\n"
          ],
          "name": "stdout"
        }
      ]
    },
    {
      "cell_type": "code",
      "metadata": {
        "colab": {
          "base_uri": "https://localhost:8080/"
        },
        "id": "QU6lCvw0uNoq",
        "outputId": "a3d9b464-607f-40bd-aba5-d4bf2ece6e7a"
      },
      "source": [
        "def freequency():\n",
        "  print(\"#############################\\n Welcome to DBS Console \\n#############################\") #print the welcome statement.\n",
        "  #validate the input based on the given format in try statement\n",
        "  while True:\n",
        "    element = input(\"Input the number of elements to be stored in the list :\")\n",
        "    try:\n",
        "      element=int(element) #validate only integer value\n",
        "    except:\n",
        "      print(\"please enter number/interger value.\\n\")\n",
        "      continue\n",
        "    break\n",
        "\n",
        "  print(\"Input {} elements in the list :\".format(element))\n",
        "  num_list = [] #empty list\n",
        "  #loop to enter the value to range entered by user\n",
        "  for i in range(element):\n",
        "    num = map(int, input(\"element - {} : \".format(i)).split()) \n",
        "    for x in num:\n",
        "        num_list.append(x) #append the value in the list \n",
        "  print(\"\\nThe freequency of all elements of the list:\")\n",
        "# Get frequencies\n",
        "  for count in set(num_list):\n",
        "    print(\"{} occurs {} times\".format(count,num_list.count(count)))\n",
        "    \n",
        "freequency()"
      ],
      "execution_count": null,
      "outputs": [
        {
          "output_type": "stream",
          "text": [
            "#############################\n",
            " Welcome to DBS Console \n",
            "#############################\n",
            "Input the number of elements to be stored in the list :5\n",
            "Input 5 elements in the list :\n",
            "element - 0 : 1\n",
            "element - 1 : 1\n",
            "element - 2 : 2\n",
            "element - 3 : 4\n",
            "element - 4 : 2\n",
            "\n",
            "The freequency of all elements of the list:\n",
            "1 occurs 2 times\n",
            "2 occurs 2 times\n",
            "4 occurs 1 times\n"
          ],
          "name": "stdout"
        }
      ]
    },
    {
      "cell_type": "code",
      "metadata": {
        "colab": {
          "base_uri": "https://localhost:8080/"
        },
        "id": "vOKnS50UAdLc",
        "outputId": "4d17dab5-0acc-4f10-e7d4-aeaf1695500a"
      },
      "source": [
        "def CountFrequency(my_list): \n",
        "  \n",
        "    # Creating an empty dictionary  \n",
        "    freq = {} \n",
        "    for item in my_list: \n",
        "        if (item in freq): \n",
        "            freq[item] += 1\n",
        "        else: \n",
        "            freq[item] = 1\n",
        "  \n",
        "    for key, value in freq.items(): \n",
        "        print (\"% d : % d\"%(key, value)) \n",
        "  \n",
        "# Driver function \n",
        "if __name__ == \"__main__\":  \n",
        "    my_list =[1, 1, 1, 5, 5, 3, 1, 3, 3, 1, 4, 4, 4, 2, 2, 2, 2] \n",
        "  \n",
        "    CountFrequency(my_list)"
      ],
      "execution_count": null,
      "outputs": [
        {
          "output_type": "stream",
          "text": [
            " 1 :  5\n",
            " 5 :  2\n",
            " 3 :  3\n",
            " 4 :  3\n",
            " 2 :  4\n"
          ],
          "name": "stdout"
        }
      ]
    },
    {
      "cell_type": "code",
      "metadata": {
        "colab": {
          "base_uri": "https://localhost:8080/"
        },
        "id": "P014oBSHBUP-",
        "outputId": "8773c64b-15ed-4f6d-e6ee-9b1960100181"
      },
      "source": [
        "def user_entry():\n",
        "  print(\"#############################\\n Welcome to DBS Console \\n#############################\")\n",
        "  #validate the input based on the given format in try statement\n",
        "  while True:\n",
        "    element = input(\"Input the number of elements to be stored in the list :\")\n",
        "    try:\n",
        "      element=int(element) #validate only integer value\n",
        "      assert element>0\n",
        "    except:\n",
        "      print(\"please enter number/interger value.\\n\")\n",
        "      continue\n",
        "    break\n",
        "  print(\"Input {} elements in the list :\".format(element))\n",
        "  num_list = [] #empty list\n",
        "  #loop to enter the value to range entered by user\n",
        "  for i in range(element):\n",
        "    while True:\n",
        "      num = input(\"element - {} : \".format(i))\n",
        "      try:\n",
        "        num=int(num)\n",
        "      except:\n",
        "        print(\"enter number only\")\n",
        "        continue\n",
        "      break\n",
        "    num_list.append(num) #append the value in the list\n",
        "  return num_list\n",
        "\n",
        "\n",
        "def frequency(): \n",
        "      num_list=user_entry() \n",
        "      freq = {} \n",
        "      for num in num_list: \n",
        "          if (num in freq): \n",
        "              freq[num] += 1\n",
        "          else: \n",
        "              freq[num] = 1\n",
        "      print(\"\\nThe freequency of all elements of the list:\")\n",
        "      for key, value in freq.items():\n",
        "        print(\"{} occurs {} times\".format(key, value)) \n",
        "\n",
        "if __name__ == \"__main__\":  \n",
        "  frequency()"
      ],
      "execution_count": null,
      "outputs": [
        {
          "output_type": "stream",
          "text": [
            "#############################\n",
            " Welcome to DBS Console \n",
            "#############################\n",
            "Input the number of elements to be stored in the list :5\n",
            "Input 5 elements in the list :\n",
            "element - 0 : 1\n",
            "element - 1 : 2\n",
            "element - 2 : 1\n",
            "element - 3 : 4\n",
            "element - 4 : 2\n",
            "\n",
            "The freequency of all elements of the list:\n",
            "1 occurs 2 times\n",
            "2 occurs 2 times\n",
            "4 occurs 1 times\n"
          ],
          "name": "stdout"
        }
      ]
    },
    {
      "cell_type": "code",
      "metadata": {
        "colab": {
          "base_uri": "https://localhost:8080/"
        },
        "id": "_MUJciLtGFPX",
        "outputId": "cd2be0d3-97b0-459d-d820-53f938df5611"
      },
      "source": [
        "while True:\n",
        "  element = input(\"Input the number of elements to be stored in the list :\")\n",
        "  try:\n",
        "    element=int(element) #validate only integer value\n",
        "    assert element>0\n",
        "  except:\n",
        "    print(\"please enter number/interger value.\\n\")\n",
        "    continue\n",
        "  break\n",
        "print(\"Input {} elements in the list :\".format(element))"
      ],
      "execution_count": null,
      "outputs": [
        {
          "output_type": "stream",
          "text": [
            "Input the number of elements to be stored in the list :-1\n",
            "please enter number/interger value.\n",
            "\n",
            "Input the number of elements to be stored in the list :0\n",
            "please enter number/interger value.\n",
            "\n",
            "Input the number of elements to be stored in the list :a\n",
            "please enter number/interger value.\n",
            "\n",
            "Input the number of elements to be stored in the list :5\n",
            "Input 5 elements in the list :\n"
          ],
          "name": "stdout"
        }
      ]
    },
    {
      "cell_type": "code",
      "metadata": {
        "colab": {
          "base_uri": "https://localhost:8080/"
        },
        "id": "LgHtboXU8vQX",
        "outputId": "ea120b64-fb84-4b92-b263-577b926b4a50"
      },
      "source": [
        "print(\"Hours (Normal) {0:10,.2f} {1:9,.2f} {2:9,.2f}  Tax @{3:3,.2f}% {4:3,.2f} \".format(35.0,10,350,10,35))"
      ],
      "execution_count": null,
      "outputs": [
        {
          "output_type": "stream",
          "text": [
            "Hours (Normal)      35.00     10.00    350.00  Tax @10.00% 35.00 \n"
          ],
          "name": "stdout"
        }
      ]
    },
    {
      "cell_type": "code",
      "metadata": {
        "colab": {
          "base_uri": "https://localhost:8080/"
        },
        "id": "crVhypR4di_i",
        "outputId": "1ab5cdcb-93cb-45e4-abb7-93297a14e0c1"
      },
      "source": [
        "while True:\n",
        "  a=input(\"enter name\")\n",
        "  try:\n",
        "    assert len(a)==10\n",
        "  except:\n",
        "    print(\"Name should not blank\")\n",
        "    continue\n",
        "  break"
      ],
      "execution_count": null,
      "outputs": [
        {
          "output_type": "stream",
          "text": [
            "enter name123\n",
            "Name should not blank\n",
            "enter name1234567890\n"
          ],
          "name": "stdout"
        }
      ]
    },
    {
      "cell_type": "code",
      "metadata": {
        "colab": {
          "base_uri": "https://localhost:8080/"
        },
        "id": "Ao4BOkJQZcKe",
        "outputId": "dee85c3a-00ba-4c01-965d-c250a5c086fb"
      },
      "source": [
        "#library={}\n",
        "def addbook():\n",
        "  author=input('Enter Author Name: ')\n",
        "  book=input('Enter Book Name: ')\n",
        "  if book.title() in library:\n",
        "    print(\"book already avilable\")\n",
        "  else:\n",
        "    library[author.title()]=book.title()\n",
        "    print('Book {} added in library  '.format(library[author.title()]))\n",
        "addbook()\n",
        "library\n",
        "\n",
        "def search():\n",
        "  option=input('want to search by author name(yes/no):')\n",
        "  if option.title() == 'Yes':\n",
        "    author=input('Enter Author name to search: ')\n",
        "    if author.title() in library:\n",
        "      print('Author: {} '.format(author.title()))\n",
        "      print('Book name:')\n",
        "      for name in library[author.title()]:\n",
        "        print('{0:3}{1:1}'.format(' ',name))\n",
        "      \n",
        "    else:\n",
        "      print('No book found with author {}'.format(author.title()))\n",
        "  else:\n",
        "    book=input('Enter book name to search: ')\n",
        "    for key,value in library.items():\n",
        "      if book.title() in value:\n",
        "        print('Author: {} '.format(key))\n",
        "        print('Book Name:')\n",
        "        for name in value:\n",
        "          print('{0:3}{1:1}'.format(' ',name)) \n",
        "    if book.title() not in value:  \n",
        "      print('No book found with name {}'.format(book.title()))\n",
        "\n"
      ],
      "execution_count": null,
      "outputs": [
        {
          "output_type": "stream",
          "text": [
            "Enter Author Name: rajesh\n",
            "Enter Book Name: abcd\n",
            "Book {} added in library  \n"
          ],
          "name": "stdout"
        },
        {
          "output_type": "execute_result",
          "data": {
            "text/plain": [
              "{'Rajesh': 'Abcd'}"
            ]
          },
          "metadata": {
            "tags": []
          },
          "execution_count": 1
        }
      ]
    },
    {
      "cell_type": "code",
      "metadata": {
        "colab": {
          "base_uri": "https://localhost:8080/",
          "height": 385
        },
        "id": "uFG1TW23hz61",
        "outputId": "61846528-5e98-46d9-ff0b-f0920d7fc34f"
      },
      "source": [
        "from datetime import date\n",
        "#payment={}\n",
        "def search():\n",
        "  option=input('want to search by author name(yes/no):')\n",
        "  if option.title() == 'Yes':\n",
        "    author=input('Enter Author name to search: ')\n",
        "    if author.title() in library:\n",
        "      print('Book: {}'.format(library[author.title()]))\n",
        "      print('Author: {} '.format(author.title()))\n",
        "      lendbook(author)\n",
        "    else:\n",
        "      print('No book found with author {}'.format(author.title()))\n",
        "  else:\n",
        "    book=input('Enter book name to search: ')\n",
        "    if book.title() in library.values():\n",
        "      #key,value = library.items()\n",
        "      \n",
        "      print('Book: {}'.format(book))\n",
        "      print('Author: {} '.format(library[book.keys()]))\n",
        "      lendbook(author=key)\n",
        "    else:\n",
        "      print('No book found with name {}'.format(book.title()))\n",
        "      \n",
        "    \n",
        "\n",
        "def lendbook(author):\n",
        "  option=input('would you like to lend this book(yes/no): ')\n",
        "  if option.title()=='Yes':\n",
        "    name=input('Enter Name:')\n",
        "    today = date.today() \n",
        "    payment[name.title()]=today.strftime('%d/%m/%Y')\n",
        "    book=library[author.title()]\n",
        "    del library[author.title()]\n",
        "    print('book {} has been issued to you.'.format(book))\n",
        "  \n",
        "search()\n",
        "payment\n"
      ],
      "execution_count": null,
      "outputs": [
        {
          "output_type": "stream",
          "text": [
            "want to search by author name(yes/no):no\n",
            "Enter book name to search: anm\n",
            "Book: anm\n"
          ],
          "name": "stdout"
        },
        {
          "output_type": "error",
          "ename": "AttributeError",
          "evalue": "ignored",
          "traceback": [
            "\u001b[0;31m---------------------------------------------------------------------------\u001b[0m",
            "\u001b[0;31mAttributeError\u001b[0m                            Traceback (most recent call last)",
            "\u001b[0;32m<ipython-input-108-a41744077fc3>\u001b[0m in \u001b[0;36m<module>\u001b[0;34m()\u001b[0m\n\u001b[1;32m     34\u001b[0m     \u001b[0mprint\u001b[0m\u001b[0;34m(\u001b[0m\u001b[0;34m'book {} has been issued to you.'\u001b[0m\u001b[0;34m.\u001b[0m\u001b[0mformat\u001b[0m\u001b[0;34m(\u001b[0m\u001b[0mbook\u001b[0m\u001b[0;34m)\u001b[0m\u001b[0;34m)\u001b[0m\u001b[0;34m\u001b[0m\u001b[0;34m\u001b[0m\u001b[0m\n\u001b[1;32m     35\u001b[0m \u001b[0;34m\u001b[0m\u001b[0m\n\u001b[0;32m---> 36\u001b[0;31m \u001b[0msearch\u001b[0m\u001b[0;34m(\u001b[0m\u001b[0;34m)\u001b[0m\u001b[0;34m\u001b[0m\u001b[0;34m\u001b[0m\u001b[0m\n\u001b[0m\u001b[1;32m     37\u001b[0m \u001b[0mpayment\u001b[0m\u001b[0;34m\u001b[0m\u001b[0;34m\u001b[0m\u001b[0m\n",
            "\u001b[0;32m<ipython-input-108-a41744077fc3>\u001b[0m in \u001b[0;36msearch\u001b[0;34m()\u001b[0m\n\u001b[1;32m     17\u001b[0m \u001b[0;34m\u001b[0m\u001b[0m\n\u001b[1;32m     18\u001b[0m       \u001b[0mprint\u001b[0m\u001b[0;34m(\u001b[0m\u001b[0;34m'Book: {}'\u001b[0m\u001b[0;34m.\u001b[0m\u001b[0mformat\u001b[0m\u001b[0;34m(\u001b[0m\u001b[0mbook\u001b[0m\u001b[0;34m)\u001b[0m\u001b[0;34m)\u001b[0m\u001b[0;34m\u001b[0m\u001b[0;34m\u001b[0m\u001b[0m\n\u001b[0;32m---> 19\u001b[0;31m       \u001b[0mprint\u001b[0m\u001b[0;34m(\u001b[0m\u001b[0;34m'Author: {} '\u001b[0m\u001b[0;34m.\u001b[0m\u001b[0mformat\u001b[0m\u001b[0;34m(\u001b[0m\u001b[0mlibrary\u001b[0m\u001b[0;34m[\u001b[0m\u001b[0mbook\u001b[0m\u001b[0;34m.\u001b[0m\u001b[0mkeys\u001b[0m\u001b[0;34m(\u001b[0m\u001b[0;34m)\u001b[0m\u001b[0;34m]\u001b[0m\u001b[0;34m)\u001b[0m\u001b[0;34m)\u001b[0m\u001b[0;34m\u001b[0m\u001b[0;34m\u001b[0m\u001b[0m\n\u001b[0m\u001b[1;32m     20\u001b[0m       \u001b[0mlendbook\u001b[0m\u001b[0;34m(\u001b[0m\u001b[0mauthor\u001b[0m\u001b[0;34m=\u001b[0m\u001b[0mkey\u001b[0m\u001b[0;34m)\u001b[0m\u001b[0;34m\u001b[0m\u001b[0;34m\u001b[0m\u001b[0m\n\u001b[1;32m     21\u001b[0m     \u001b[0;32melse\u001b[0m\u001b[0;34m:\u001b[0m\u001b[0;34m\u001b[0m\u001b[0;34m\u001b[0m\u001b[0m\n",
            "\u001b[0;31mAttributeError\u001b[0m: 'str' object has no attribute 'keys'"
          ]
        }
      ]
    },
    {
      "cell_type": "code",
      "metadata": {
        "colab": {
          "base_uri": "https://localhost:8080/"
        },
        "id": "rxVw_LKslcJk",
        "outputId": "56d05ab7-466f-4290-cddf-23b3677466d1"
      },
      "source": [
        "#library={}\n",
        "def addbook():\n",
        "  author=input('Enter Author Name: ')\n",
        "  book=input('Enter Book Name: ')\n",
        "  if book.title() in library:\n",
        "    print(\"book already avilable\")\n",
        "  else:\n",
        "    library[author.title()]=book.title()\n",
        "    print('Book {} added in library  '.format(library[author.title()]))\n",
        "addbook()\n",
        "library"
      ],
      "execution_count": null,
      "outputs": [
        {
          "output_type": "stream",
          "text": [
            "Enter Author Name: niloo\n",
            "Enter Book Name: anm\n",
            "Book Anm added in library  \n"
          ],
          "name": "stdout"
        },
        {
          "output_type": "execute_result",
          "data": {
            "text/plain": [
              "{'Niloo': 'Anm', 'Raj': 'Asdf', 'Rajesh': 'Qwer', 'Rajnish': 'Zxcvb'}"
            ]
          },
          "metadata": {
            "tags": []
          },
          "execution_count": 99
        }
      ]
    },
    {
      "cell_type": "code",
      "metadata": {
        "colab": {
          "base_uri": "https://localhost:8080/"
        },
        "id": "FBgjvI-9VKUQ",
        "outputId": "8e4c1831-67d2-42c9-8239-01a9131a0392"
      },
      "source": [
        ""
      ],
      "execution_count": null,
      "outputs": [
        {
          "output_type": "execute_result",
          "data": {
            "text/plain": [
              "datetime.date(2020, 12, 5)"
            ]
          },
          "metadata": {
            "tags": []
          },
          "execution_count": 66
        }
      ]
    },
    {
      "cell_type": "code",
      "metadata": {
        "colab": {
          "base_uri": "https://localhost:8080/"
        },
        "id": "6BdcQoHPVyf2",
        "outputId": "c177eb8b-5ee8-4a8a-d965-fc96d9b802d4"
      },
      "source": [
        "from datetime import date \n",
        "  \n",
        "  \n",
        "# Returns the current local date \n",
        "today = date.today() \n",
        "print(today)"
      ],
      "execution_count": null,
      "outputs": [
        {
          "output_type": "stream",
          "text": [
            "2020-12-05\n"
          ],
          "name": "stdout"
        }
      ]
    },
    {
      "cell_type": "code",
      "metadata": {
        "colab": {
          "base_uri": "https://localhost:8080/",
          "height": 35
        },
        "id": "skzle950WiZg",
        "outputId": "95c68eb3-71b5-4c28-fb1d-8fc6ef876e0e"
      },
      "source": [
        "today = date.today() \n",
        "today.strftime('%d/%m/%Y')"
      ],
      "execution_count": null,
      "outputs": [
        {
          "output_type": "execute_result",
          "data": {
            "application/vnd.google.colaboratory.intrinsic+json": {
              "type": "string"
            },
            "text/plain": [
              "'05/12/2020'"
            ]
          },
          "metadata": {
            "tags": []
          },
          "execution_count": 78
        }
      ]
    },
    {
      "cell_type": "code",
      "metadata": {
        "colab": {
          "base_uri": "https://localhost:8080/"
        },
        "id": "qwZRUowIhbXh",
        "outputId": "ebf9238f-fd74-4329-b162-b589db58fa6c"
      },
      "source": [
        "def search():\n",
        "  option=input('want to search by author name(yes/no):')\n",
        "  if option.title() == 'Yes':\n",
        "    author=input('Enter Author name to search: ')\n",
        "    if author.title() in library:\n",
        "      print('Book: {}'.format(library[author.title()]))\n",
        "      print('Author: {} '.format(author.title()))\n",
        "    else:\n",
        "      print('No book found with author {}'.format(author.title()))\n",
        "  else:\n",
        "    book=input('Enter book name to search: ')\n",
        "    for key,value in library.items():\n",
        "      if book.title() == value:\n",
        "        print('Book: {}'.format(value))\n",
        "        print('Author: {} '.format(key))\n",
        "      else:\n",
        "        print('No book found with name {}'.format(book.title()))\n",
        "search()"
      ],
      "execution_count": null,
      "outputs": [
        {
          "output_type": "stream",
          "text": [
            "want to search by author name(yes/no):no\n",
            "Enter book name to search: anm\n",
            "\n",
            "\n",
            "Book: Anm\n",
            "Author: Niloo \n",
            "No book found with name Anm\n"
          ],
          "name": "stdout"
        }
      ]
    },
    {
      "cell_type": "code",
      "metadata": {
        "colab": {
          "base_uri": "https://localhost:8080/"
        },
        "id": "7TWcYciyBqxE",
        "outputId": "81f6960e-4fc3-44d4-8769-b1771611678c"
      },
      "source": [
        "#example={}\n",
        "example.setdefault('raj', []).append('banana')\n",
        "#example\n",
        "print(example['a'])"
      ],
      "execution_count": 5,
      "outputs": [
        {
          "output_type": "stream",
          "text": [
            "['apple', 'banana', 'banana', 'banana', 'banana']\n"
          ],
          "name": "stdout"
        }
      ]
    },
    {
      "cell_type": "code",
      "metadata": {
        "colab": {
          "base_uri": "https://localhost:8080/"
        },
        "id": "6tm-q1BSCOZi",
        "outputId": "9d441cc4-19b7-4609-a728-3b823a3e7a6d"
      },
      "source": [
        "#library={}\n",
        "name=input('enter name')\n",
        "number=input('entr number')\n",
        "if name in library:\n",
        "  if number in library[name]:\n",
        "    print('number available')\n",
        "    for x in library[name]:\n",
        "      print(x)\n",
        "  else:\n",
        "    library.setdefault(name, []).append(number)\n",
        "    print('append')\n",
        "else:\n",
        "  print('add')\n",
        "  library.setdefault(name, []).append(number)\n",
        "\n",
        "#for x in example[name]:\n",
        "library\n",
        "\n",
        "\n",
        "def addbook():\n",
        "  author=input('Enter Author Name: ')\n",
        "  book=input('Enter Book Name: ')\n",
        "  if author.title() in library:\n",
        "    if book.title() in library[author.title()]:\n",
        "      print(\"Book already avilable in system.\")\n",
        "    else:\n",
        "      library.setdefault(author.title(),[]).append(book.title())\n",
        "      print('Book {}, added for Author {}'.format(book.title(),author.title()))\n",
        "  else:\n",
        "    library.setdefault(author.title(),[]).append(book.title())\n",
        "    print('Book {} added in library with Author {} '.format(book.title(),author.title()))\n",
        "addbook()"
      ],
      "execution_count": 110,
      "outputs": [
        {
          "output_type": "stream",
          "text": [
            "enter nameRaj\n",
            "entr numberMath\n",
            "append\n"
          ],
          "name": "stdout"
        },
        {
          "output_type": "execute_result",
          "data": {
            "text/plain": [
              "{'Raj': ['Science', 'Math'],\n",
              " 'Rajesh': ['programming', 'science', 'math'],\n",
              " 'raj': ['programming', 'math'],\n",
              " 'rajesh': ['programming', 'physics']}"
            ]
          },
          "metadata": {
            "tags": []
          },
          "execution_count": 110
        }
      ]
    },
    {
      "cell_type": "code",
      "metadata": {
        "colab": {
          "base_uri": "https://localhost:8080/"
        },
        "id": "pyEzGBNNPA-1",
        "outputId": "dc06f88f-9775-4a7f-b461-f49a967ababb"
      },
      "source": [
        "#library={}\n",
        "def search():\n",
        "  option=input('want to search by author name(yes/no):')\n",
        "  if option.title() == 'Yes':\n",
        "    author=input('Enter Author name to search: ')\n",
        "    if author.title() in library:\n",
        "      print('Author: {} '.format(author.title()))\n",
        "      print('Book name:')\n",
        "      for name in library[author.title()]:\n",
        "        print('{0:3}{1:1}'.format(' ',name))\n",
        "    else:\n",
        "      print('No book found with author {}'.format(author.title()))\n",
        "  else:\n",
        "    book=input('Enter book name to search: ')\n",
        "    for key,value in library.items():\n",
        "      if book.title() in value:\n",
        "        print('Author: {} '.format(key))\n",
        "        print('Book Name:')\n",
        "        for name in value:\n",
        "          print('{0:3}{1:1}'.format(' ',name)) \n",
        "    if book.title() not in value:  \n",
        "      print('No book found with name {}'.format(book.title()))\n",
        "search()"
      ],
      "execution_count": 115,
      "outputs": [
        {
          "output_type": "stream",
          "text": [
            "want to search by author name(yes/no):no\n",
            "Enter book name to search: asdf\n",
            "No book found with name Asdf\n"
          ],
          "name": "stdout"
        }
      ]
    },
    {
      "cell_type": "code",
      "metadata": {
        "colab": {
          "base_uri": "https://localhost:8080/"
        },
        "id": "LmWrKPlkR8ly",
        "outputId": "8a48eab2-e1a7-41c6-93d4-f2234c296f21"
      },
      "source": [
        "author=input('Enter Author name to search: ')\n",
        "for key,value in library.items():\n",
        "  if author in value:\n",
        "    print('Author: {}'.format(key))\n",
        "    print('Book Name:')\n",
        "    for name in value:\n",
        "      print('{0:3}{1:1}'.format(' ',name))\n",
        "\n",
        "\n",
        "print('no book found' )"
      ],
      "execution_count": 112,
      "outputs": [
        {
          "output_type": "stream",
          "text": [
            "Enter Author name to search: math\n",
            "Author: raj\n",
            "Book Name:\n",
            "   programming\n",
            "   math\n",
            "Author: Rajesh\n",
            "Book Name:\n",
            "   programming\n",
            "   science\n",
            "   math\n",
            "no book found\n"
          ],
          "name": "stdout"
        }
      ]
    },
    {
      "cell_type": "code",
      "metadata": {
        "colab": {
          "base_uri": "https://localhost:8080/"
        },
        "id": "d56JKq_kgnZL",
        "outputId": "5ccaaae3-b16f-4237-913a-edbae7281e37"
      },
      "source": [
        "#library={}\n",
        "def addbook():\n",
        "  author=input('Enter Author Name: ')\n",
        "  book=input('Enter Book Name: ')\n",
        "  if author.title() in library:\n",
        "    if book.title() in library[author.title()]:\n",
        "      print(\"Book already avilable in system.\")\n",
        "    else:\n",
        "      library.setdefault(author.title(),[]).append(book.title())\n",
        "      print('Book {}, added for Author {}'.format(book.title(),author.title()))\n",
        "  else:\n",
        "    library.setdefault(author.title(),[]).append(book.title())\n",
        "    print('Book {} added in library with Author {} '.format(book.title(),author.title()))\n",
        "addbook()\n",
        "library"
      ],
      "execution_count": 145,
      "outputs": [
        {
          "output_type": "stream",
          "text": [
            "Enter Author Name: raj\n",
            "Enter Book Name: qwe\n",
            "Book Qwe, added for Author Raj\n"
          ],
          "name": "stdout"
        },
        {
          "output_type": "execute_result",
          "data": {
            "text/plain": [
              "{'Raj': ['Asd', 'Qwe'], 'Rajesh': ['Programming']}"
            ]
          },
          "metadata": {
            "tags": []
          },
          "execution_count": 145
        }
      ]
    },
    {
      "cell_type": "code",
      "metadata": {
        "colab": {
          "base_uri": "https://localhost:8080/"
        },
        "id": "Jewtqvown1jG",
        "outputId": "24b46e9c-a849-4603-f9d4-04140a115195"
      },
      "source": [
        "from datetime import date\n",
        "payment={}\n",
        "def lendbook():\n",
        "  search()\n",
        "  book=input('enter book name you want to lend: ')\n",
        "  author=input('Enter Author name: ')\n",
        "  if author.title() in library:\n",
        "    if book.title() in library[author.title()]:\n",
        "      option=input('confirm if you want to lend(Yes/No): ')\n",
        "      if option=='Yes':\n",
        "        name=input('Enter your Name: ')\n",
        "        library.setdefault(author.title(),[]).remove(book.title())\n",
        "        today = date.today()\n",
        "        payment.setdefault(name.title(),[]).append(today.strftime('%d/%m/%Y'))\n",
        "        payment.setdefault(name.title(),[]).append(book.title())\n",
        "        print('book {} reserverd'.format(book.title()))\n",
        "        if len(library[author.title()])==0:\n",
        "          library.pop(author.title())\n",
        "    else:\n",
        "      print('book not found')\n",
        "  else:\n",
        "    print('No book found with author {}'.format(author.title()))\n",
        "lendbook()\n",
        "library\n",
        "payment\n",
        "\n"
      ],
      "execution_count": 147,
      "outputs": [
        {
          "output_type": "stream",
          "text": [
            "want to search by author name(yes/no):yes\n",
            "Enter Author name to search: raj\n",
            "Author: Raj \n",
            "Book name:\n",
            "   Qwe\n",
            "enter book name you want to lend: qwe\n",
            "Enter Author name: raj\n",
            "confirm if you want to lend(Yes/No): Yes\n",
            "Enter your Name: rajesh\n",
            "book Qwe reserverd\n"
          ],
          "name": "stdout"
        },
        {
          "output_type": "execute_result",
          "data": {
            "text/plain": [
              "{'Rajesh': ['06/12/2020', 'Qwe']}"
            ]
          },
          "metadata": {
            "tags": []
          },
          "execution_count": 147
        }
      ]
    },
    {
      "cell_type": "code",
      "metadata": {
        "colab": {
          "base_uri": "https://localhost:8080/",
          "height": 215
        },
        "id": "QZ2na2FLpcd-",
        "outputId": "b8711678-32d6-483f-a685-b639a7557fe1"
      },
      "source": [
        "from datetime import date,datetime\n",
        "#today.strftime('%d/%m/%Y')\n",
        "#days_between('2020-12-12','2020-12-20')\n",
        "\n",
        "\n",
        "issue_date=datetime.strptime(payment['Rajesh'][0],\"%d/%m/%Y\")\n",
        "d1 = datetime.strftime(issue_date, \"%Y-%m-%d\")\n",
        "today=date.today()\n",
        "d2 = datetime.strftime(today, \"%Y-%m-%d\")\n",
        "#today=today.strftime('%d/%m/%Y')\n",
        "diff=abs((d2 - d1).days)\n",
        "print(diff)\n"
      ],
      "execution_count": 180,
      "outputs": [
        {
          "output_type": "error",
          "ename": "TypeError",
          "evalue": "ignored",
          "traceback": [
            "\u001b[0;31m---------------------------------------------------------------------------\u001b[0m",
            "\u001b[0;31mTypeError\u001b[0m                                 Traceback (most recent call last)",
            "\u001b[0;32m<ipython-input-180-513373105ea5>\u001b[0m in \u001b[0;36m<module>\u001b[0;34m()\u001b[0m\n\u001b[1;32m      8\u001b[0m \u001b[0md2\u001b[0m \u001b[0;34m=\u001b[0m \u001b[0mdatetime\u001b[0m\u001b[0;34m.\u001b[0m\u001b[0mstrftime\u001b[0m\u001b[0;34m(\u001b[0m\u001b[0mtoday\u001b[0m\u001b[0;34m,\u001b[0m \u001b[0;34m\"%Y-%m-%d\"\u001b[0m\u001b[0;34m)\u001b[0m\u001b[0;34m\u001b[0m\u001b[0;34m\u001b[0m\u001b[0m\n\u001b[1;32m      9\u001b[0m \u001b[0;31m#today=today.strftime('%d/%m/%Y')\u001b[0m\u001b[0;34m\u001b[0m\u001b[0;34m\u001b[0m\u001b[0;34m\u001b[0m\u001b[0m\n\u001b[0;32m---> 10\u001b[0;31m \u001b[0mdiff\u001b[0m\u001b[0;34m=\u001b[0m\u001b[0mabs\u001b[0m\u001b[0;34m(\u001b[0m\u001b[0;34m(\u001b[0m\u001b[0md2\u001b[0m \u001b[0;34m-\u001b[0m \u001b[0md1\u001b[0m\u001b[0;34m)\u001b[0m\u001b[0;34m.\u001b[0m\u001b[0mdays\u001b[0m\u001b[0;34m)\u001b[0m\u001b[0;34m\u001b[0m\u001b[0;34m\u001b[0m\u001b[0m\n\u001b[0m\u001b[1;32m     11\u001b[0m \u001b[0mprint\u001b[0m\u001b[0;34m(\u001b[0m\u001b[0mdiff\u001b[0m\u001b[0;34m)\u001b[0m\u001b[0;34m\u001b[0m\u001b[0;34m\u001b[0m\u001b[0m\n",
            "\u001b[0;31mTypeError\u001b[0m: unsupported operand type(s) for -: 'str' and 'str'"
          ]
        }
      ]
    },
    {
      "cell_type": "code",
      "metadata": {
        "colab": {
          "base_uri": "https://localhost:8080/"
        },
        "id": "5w5-NRV37EcE",
        "outputId": "9e97d3e2-ef05-46da-af2f-b567ff7b5592"
      },
      "source": [
        "import datetime\n",
        "today = datetime.date.today()\n",
        "today"
      ],
      "execution_count": 177,
      "outputs": [
        {
          "output_type": "execute_result",
          "data": {
            "text/plain": [
              "datetime.date(2020, 12, 6)"
            ]
          },
          "metadata": {
            "tags": []
          },
          "execution_count": 177
        }
      ]
    },
    {
      "cell_type": "code",
      "metadata": {
        "id": "sCiZ3nv476S0"
      },
      "source": [
        "from datetime import date, datetime\n",
        "\n",
        "\n",
        "issue_date=payment['Rajesh'][0]\n",
        "\n",
        "d1 = datetime.strptime(d1, \"%Y-%m-%d\")\n",
        "d2 = datetime.strptime(d2, \"%Y-%m-%d\")\n",
        "diff= abs((d2 - d1).days)\n",
        "print(diff)"
      ],
      "execution_count": null,
      "outputs": []
    },
    {
      "cell_type": "code",
      "metadata": {
        "colab": {
          "base_uri": "https://localhost:8080/",
          "height": 375
        },
        "id": "iQVfKV6n8ZJT",
        "outputId": "6ce1cb27-a21b-40a6-d407-d4dbf10ecf3b"
      },
      "source": [
        "import datetime\n",
        "#issue_date=payment['Rajesh'][0]\n",
        "#d1=datetime.datetime.strptime(issue_date,\"%d/%m/%y\").date()\n",
        "print(issue_date)\n",
        "#print(d1)"
      ],
      "execution_count": 191,
      "outputs": [
        {
          "output_type": "error",
          "ename": "ValueError",
          "evalue": "ignored",
          "traceback": [
            "\u001b[0;31m---------------------------------------------------------------------------\u001b[0m",
            "\u001b[0;31mValueError\u001b[0m                                Traceback (most recent call last)",
            "\u001b[0;32m<ipython-input-191-a15a6c328b4b>\u001b[0m in \u001b[0;36m<module>\u001b[0;34m()\u001b[0m\n\u001b[1;32m      1\u001b[0m \u001b[0;32mimport\u001b[0m \u001b[0mdatetime\u001b[0m\u001b[0;34m\u001b[0m\u001b[0;34m\u001b[0m\u001b[0m\n\u001b[1;32m      2\u001b[0m \u001b[0missue_date\u001b[0m\u001b[0;34m=\u001b[0m\u001b[0mpayment\u001b[0m\u001b[0;34m[\u001b[0m\u001b[0;34m'Rajesh'\u001b[0m\u001b[0;34m]\u001b[0m\u001b[0;34m[\u001b[0m\u001b[0;36m0\u001b[0m\u001b[0;34m]\u001b[0m\u001b[0;34m\u001b[0m\u001b[0;34m\u001b[0m\u001b[0m\n\u001b[0;32m----> 3\u001b[0;31m \u001b[0md1\u001b[0m\u001b[0;34m=\u001b[0m\u001b[0mdatetime\u001b[0m\u001b[0;34m.\u001b[0m\u001b[0mdatetime\u001b[0m\u001b[0;34m.\u001b[0m\u001b[0mstrptime\u001b[0m\u001b[0;34m(\u001b[0m\u001b[0missue_date\u001b[0m\u001b[0;34m,\u001b[0m\u001b[0;34m\"%d/%m/%y\"\u001b[0m\u001b[0;34m)\u001b[0m\u001b[0;34m.\u001b[0m\u001b[0mdate\u001b[0m\u001b[0;34m(\u001b[0m\u001b[0;34m)\u001b[0m\u001b[0;34m\u001b[0m\u001b[0;34m\u001b[0m\u001b[0m\n\u001b[0m\u001b[1;32m      4\u001b[0m \u001b[0mprint\u001b[0m\u001b[0;34m(\u001b[0m\u001b[0missue_date\u001b[0m\u001b[0;34m)\u001b[0m\u001b[0;34m\u001b[0m\u001b[0;34m\u001b[0m\u001b[0m\n\u001b[1;32m      5\u001b[0m \u001b[0;31m#print(d1)\u001b[0m\u001b[0;34m\u001b[0m\u001b[0;34m\u001b[0m\u001b[0;34m\u001b[0m\u001b[0m\n",
            "\u001b[0;32m/usr/lib/python3.6/_strptime.py\u001b[0m in \u001b[0;36m_strptime_datetime\u001b[0;34m(cls, data_string, format)\u001b[0m\n\u001b[1;32m    563\u001b[0m     \"\"\"Return a class cls instance based on the input string and the\n\u001b[1;32m    564\u001b[0m     format string.\"\"\"\n\u001b[0;32m--> 565\u001b[0;31m     \u001b[0mtt\u001b[0m\u001b[0;34m,\u001b[0m \u001b[0mfraction\u001b[0m \u001b[0;34m=\u001b[0m \u001b[0m_strptime\u001b[0m\u001b[0;34m(\u001b[0m\u001b[0mdata_string\u001b[0m\u001b[0;34m,\u001b[0m \u001b[0mformat\u001b[0m\u001b[0;34m)\u001b[0m\u001b[0;34m\u001b[0m\u001b[0;34m\u001b[0m\u001b[0m\n\u001b[0m\u001b[1;32m    566\u001b[0m     \u001b[0mtzname\u001b[0m\u001b[0;34m,\u001b[0m \u001b[0mgmtoff\u001b[0m \u001b[0;34m=\u001b[0m \u001b[0mtt\u001b[0m\u001b[0;34m[\u001b[0m\u001b[0;34m-\u001b[0m\u001b[0;36m2\u001b[0m\u001b[0;34m:\u001b[0m\u001b[0;34m]\u001b[0m\u001b[0;34m\u001b[0m\u001b[0;34m\u001b[0m\u001b[0m\n\u001b[1;32m    567\u001b[0m     \u001b[0margs\u001b[0m \u001b[0;34m=\u001b[0m \u001b[0mtt\u001b[0m\u001b[0;34m[\u001b[0m\u001b[0;34m:\u001b[0m\u001b[0;36m6\u001b[0m\u001b[0;34m]\u001b[0m \u001b[0;34m+\u001b[0m \u001b[0;34m(\u001b[0m\u001b[0mfraction\u001b[0m\u001b[0;34m,\u001b[0m\u001b[0;34m)\u001b[0m\u001b[0;34m\u001b[0m\u001b[0;34m\u001b[0m\u001b[0m\n",
            "\u001b[0;32m/usr/lib/python3.6/_strptime.py\u001b[0m in \u001b[0;36m_strptime\u001b[0;34m(data_string, format)\u001b[0m\n\u001b[1;32m    363\u001b[0m     \u001b[0;32mif\u001b[0m \u001b[0mlen\u001b[0m\u001b[0;34m(\u001b[0m\u001b[0mdata_string\u001b[0m\u001b[0;34m)\u001b[0m \u001b[0;34m!=\u001b[0m \u001b[0mfound\u001b[0m\u001b[0;34m.\u001b[0m\u001b[0mend\u001b[0m\u001b[0;34m(\u001b[0m\u001b[0;34m)\u001b[0m\u001b[0;34m:\u001b[0m\u001b[0;34m\u001b[0m\u001b[0;34m\u001b[0m\u001b[0m\n\u001b[1;32m    364\u001b[0m         raise ValueError(\"unconverted data remains: %s\" %\n\u001b[0;32m--> 365\u001b[0;31m                           data_string[found.end():])\n\u001b[0m\u001b[1;32m    366\u001b[0m \u001b[0;34m\u001b[0m\u001b[0m\n\u001b[1;32m    367\u001b[0m     \u001b[0miso_year\u001b[0m \u001b[0;34m=\u001b[0m \u001b[0myear\u001b[0m \u001b[0;34m=\u001b[0m \u001b[0;32mNone\u001b[0m\u001b[0;34m\u001b[0m\u001b[0;34m\u001b[0m\u001b[0m\n",
            "\u001b[0;31mValueError\u001b[0m: unconverted data remains: 20"
          ]
        }
      ]
    }
  ]
}
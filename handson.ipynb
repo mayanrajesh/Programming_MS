{
  "nbformat": 4,
  "nbformat_minor": 0,
  "metadata": {
    "colab": {
      "name": "Untitled1.ipynb",
      "provenance": [],
      "authorship_tag": "ABX9TyN+4nI/JauWooE6xvemZJDe",
      "include_colab_link": true
    },
    "kernelspec": {
      "name": "python3",
      "display_name": "Python 3"
    }
  },
  "cells": [
    {
      "cell_type": "markdown",
      "metadata": {
        "id": "view-in-github",
        "colab_type": "text"
      },
      "source": [
        "<a href=\"https://colab.research.google.com/github/mayanrajesh/Programming_MS/blob/main/handson.ipynb\" target=\"_parent\"><img src=\"https://colab.research.google.com/assets/colab-badge.svg\" alt=\"Open In Colab\"/></a>"
      ]
    },
    {
      "cell_type": "code",
      "metadata": {
        "id": "TP6IF-grSRKX"
      },
      "source": [
        ""
      ],
      "execution_count": null,
      "outputs": []
    },
    {
      "cell_type": "markdown",
      "metadata": {
        "id": "mY625uR9SRrD"
      },
      "source": [
        ""
      ]
    },
    {
      "cell_type": "code",
      "metadata": {
        "id": "xbQ5a3qCSSwk"
      },
      "source": [
        ""
      ],
      "execution_count": null,
      "outputs": []
    },
    {
      "cell_type": "markdown",
      "metadata": {
        "id": "cNtnHT4cSTT1"
      },
      "source": [
        "List"
      ]
    },
    {
      "cell_type": "code",
      "metadata": {
        "id": "KK5-0LJFSUhK"
      },
      "source": [
        "marks=[50,60,70,90,60]"
      ],
      "execution_count": 1,
      "outputs": []
    },
    {
      "cell_type": "code",
      "metadata": {
        "id": "flmuTxNLStdE"
      },
      "source": [
        "marks[0]=\"rajesh\""
      ],
      "execution_count": 2,
      "outputs": []
    },
    {
      "cell_type": "code",
      "metadata": {
        "id": "AOCoAbKqSzKP",
        "outputId": "f35479ed-13c8-4e81-b009-dcea5dfbd495",
        "colab": {
          "base_uri": "https://localhost:8080/"
        }
      },
      "source": [
        "print(marks)"
      ],
      "execution_count": 3,
      "outputs": [
        {
          "output_type": "stream",
          "text": [
            "['rajesh', 60, 70, 90, 60]\n"
          ],
          "name": "stdout"
        }
      ]
    },
    {
      "cell_type": "markdown",
      "metadata": {
        "id": "Zzv8upqZS7Tt"
      },
      "source": [
        "# list operation\n",
        "##Append ,pop,remove,extend\n"
      ]
    },
    {
      "cell_type": "code",
      "metadata": {
        "id": "aZVQ2jY0TDac",
        "outputId": "5c72b039-fc07-48ca-a5a4-dcaadb8ced12",
        "colab": {
          "base_uri": "https://localhost:8080/"
        }
      },
      "source": [
        "marks.append(\"kumar\")\n",
        "print(marks)"
      ],
      "execution_count": 5,
      "outputs": [
        {
          "output_type": "stream",
          "text": [
            "['rajesh', 60, 70, 90, 60, 'kumar', 'kumar']\n"
          ],
          "name": "stdout"
        }
      ]
    },
    {
      "cell_type": "code",
      "metadata": {
        "id": "MwNmJ8CdTOMZ"
      },
      "source": [
        ""
      ],
      "execution_count": null,
      "outputs": []
    },
    {
      "cell_type": "code",
      "metadata": {
        "id": "MLDWMBKhTOOt"
      },
      "source": [
        "hight=[132,140,150,155,4]"
      ],
      "execution_count": 19,
      "outputs": []
    },
    {
      "cell_type": "code",
      "metadata": {
        "id": "EjI1X5kPTX9F",
        "outputId": "1e0bb40d-0550-462a-8d1d-f1f2aa50d58e",
        "colab": {
          "base_uri": "https://localhost:8080/"
        }
      },
      "source": [
        "hight.pop(4) #pop remove the value from index"
      ],
      "execution_count": 20,
      "outputs": [
        {
          "output_type": "execute_result",
          "data": {
            "text/plain": [
              "4"
            ]
          },
          "metadata": {
            "tags": []
          },
          "execution_count": 20
        }
      ]
    },
    {
      "cell_type": "code",
      "metadata": {
        "id": "euhcO5W_T-Yb",
        "outputId": "6b1111f6-c94f-4d7a-cefb-154296401d2b",
        "colab": {
          "base_uri": "https://localhost:8080/"
        }
      },
      "source": [
        "print(hight)"
      ],
      "execution_count": 21,
      "outputs": [
        {
          "output_type": "stream",
          "text": [
            "[132, 140, 150, 155]\n"
          ],
          "name": "stdout"
        }
      ]
    },
    {
      "cell_type": "code",
      "metadata": {
        "id": "fdufNscFUClc"
      },
      "source": [
        ""
      ],
      "execution_count": null,
      "outputs": []
    },
    {
      "cell_type": "code",
      "metadata": {
        "id": "332zLcjgT45H"
      },
      "source": [
        "print(hight)"
      ],
      "execution_count": null,
      "outputs": []
    },
    {
      "cell_type": "code",
      "metadata": {
        "id": "2-R4o3dsUFfz",
        "outputId": "f74fa9a9-931f-4651-ba34-0202225c7825",
        "colab": {
          "base_uri": "https://localhost:8080/"
        }
      },
      "source": [
        "hight.remove(140)\n",
        "print(hight)"
      ],
      "execution_count": 22,
      "outputs": [
        {
          "output_type": "stream",
          "text": [
            "[132, 150, 155]\n"
          ],
          "name": "stdout"
        }
      ]
    },
    {
      "cell_type": "code",
      "metadata": {
        "id": "h1riwPzyUkAt",
        "outputId": "d962ce2d-9b3d-4c30-dc1a-9d22160c6601",
        "colab": {
          "base_uri": "https://localhost:8080/"
        }
      },
      "source": [
        "marks.extend(hight)\n",
        "print(hight)"
      ],
      "execution_count": 23,
      "outputs": [
        {
          "output_type": "stream",
          "text": [
            "[132, 150, 155]\n"
          ],
          "name": "stdout"
        }
      ]
    },
    {
      "cell_type": "code",
      "metadata": {
        "id": "nALi5VTCUsPW",
        "outputId": "d039c865-55b1-43af-da81-da67e422e441",
        "colab": {
          "base_uri": "https://localhost:8080/"
        }
      },
      "source": [
        "print(marks)"
      ],
      "execution_count": 24,
      "outputs": [
        {
          "output_type": "stream",
          "text": [
            "['rajesh', 60, 70, 90, 60, 'kumar', 'kumar', 132, 150, 155]\n"
          ],
          "name": "stdout"
        }
      ]
    },
    {
      "cell_type": "code",
      "metadata": {
        "id": "PeyfeFYzU6Hj",
        "outputId": "0aa8d206-9783-4da0-ef7c-0a965333e88f",
        "colab": {
          "base_uri": "https://localhost:8080/"
        }
      },
      "source": [
        "name=\"rajesh Kumar\"\n",
        "short=name[0:4]\n",
        "print(short)"
      ],
      "execution_count": 26,
      "outputs": [
        {
          "output_type": "stream",
          "text": [
            "raje\n"
          ],
          "name": "stdout"
        }
      ]
    },
    {
      "cell_type": "code",
      "metadata": {
        "id": "i92nvtfgVT4W",
        "outputId": "ec89a698-eedd-4c9b-da2c-19d5a9d95e9b",
        "colab": {
          "base_uri": "https://localhost:8080/"
        }
      },
      "source": [
        "short_list=marks[0:4]\n",
        "print(short_list)"
      ],
      "execution_count": 27,
      "outputs": [
        {
          "output_type": "stream",
          "text": [
            "['rajesh', 60, 70, 90]\n"
          ],
          "name": "stdout"
        }
      ]
    },
    {
      "cell_type": "code",
      "metadata": {
        "id": "S49KzFWoVlAW",
        "outputId": "0af05332-8ddd-4d76-8a7f-0ee86a45d454",
        "colab": {
          "base_uri": "https://localhost:8080/"
        }
      },
      "source": [
        "#sliceing \n",
        "name=\"Raje\"\n",
        "name1=[\"R\",\"a\",\"j\",\"e\"]\n",
        "\n",
        "slice1=name[0:2]\n",
        "slice2=name1[0:2]\n",
        "print(slice1)\n",
        "print(slice2)"
      ],
      "execution_count": 28,
      "outputs": [
        {
          "output_type": "stream",
          "text": [
            "Ra\n",
            "['R', 'a']\n"
          ],
          "name": "stdout"
        }
      ]
    },
    {
      "cell_type": "code",
      "metadata": {
        "id": "FJ06sO4VWA2i",
        "outputId": "54521bf9-c6b0-49a6-b7ab-3bc1964f42d9",
        "colab": {
          "base_uri": "https://localhost:8080/"
        }
      },
      "source": [
        "#length\n",
        "marks2=[10,20,30,40]\n",
        "print(len(marks2))"
      ],
      "execution_count": 30,
      "outputs": [
        {
          "output_type": "stream",
          "text": [
            "4\n"
          ],
          "name": "stdout"
        }
      ]
    },
    {
      "cell_type": "code",
      "metadata": {
        "id": "btNmkxt9WdCv",
        "outputId": "29f695f0-338a-48a6-c832-69b55daec7f4",
        "colab": {
          "base_uri": "https://localhost:8080/"
        }
      },
      "source": [
        "#tuple needs one dit and comma to identify the tuple\n",
        "A=(\"A\") #will show the datatype is string\n",
        "print(type(A))\n",
        "B=(\"B\",) #will display datatype tuple\n",
        "print(type(B))"
      ],
      "execution_count": 32,
      "outputs": [
        {
          "output_type": "stream",
          "text": [
            "<class 'str'>\n",
            "<class 'tuple'>\n"
          ],
          "name": "stdout"
        }
      ]
    },
    {
      "cell_type": "code",
      "metadata": {
        "id": "JI_ZErdZXeuw",
        "outputId": "fbf62076-7668-4688-dcf2-bac67e975861",
        "colab": {
          "base_uri": "https://localhost:8080/"
        }
      },
      "source": [
        "#dictinory\n",
        "phone_no={\"rajesh\":1234556,\"kumar\":2344556}\n",
        "print(phone_no[\"rajesh\"])"
      ],
      "execution_count": 34,
      "outputs": [
        {
          "output_type": "stream",
          "text": [
            "1234556\n"
          ],
          "name": "stdout"
        }
      ]
    },
    {
      "cell_type": "code",
      "metadata": {
        "id": "TaI9HdJyYOMd"
      },
      "source": [
        "print(phone_no.items)"
      ],
      "execution_count": null,
      "outputs": []
    },
    {
      "cell_type": "code",
      "metadata": {
        "id": "O0U0qR4WYixB",
        "outputId": "ed4cdfc3-36c6-4121-9918-1d8c175c69d7",
        "colab": {
          "base_uri": "https://localhost:8080/"
        }
      },
      "source": [
        "#prepare a dict of phone number and try to print a number of the serach queary \n",
        "\n",
        "phone_number={\"rajesh\":123456,\"kumar\":567890,\"raj\":4563414,\"ram\":78873853,\"prabht\":352452,\"mohan\":886384,\"raman\":978344,\"rohan\":8876324,\"rodshan\":864347}\n",
        "query=\"rajesh\"\n",
        "value=phone_number[query]\n",
        "print(\"query for your search {\",query,\"} and phone number is :\",value)"
      ],
      "execution_count": 36,
      "outputs": [
        {
          "output_type": "stream",
          "text": [
            "query for your search { rajesh } and phone number is : 123456\n"
          ],
          "name": "stdout"
        }
      ]
    },
    {
      "cell_type": "markdown",
      "metadata": {
        "id": "ujevtO1ldDcn"
      },
      "source": [
        "#Boolean operation\n"
      ]
    },
    {
      "cell_type": "code",
      "metadata": {
        "id": "1uNzRFNZdGjR",
        "outputId": "45c3b7f2-26f9-44c8-d815-520c21a02050",
        "colab": {
          "base_uri": "https://localhost:8080/"
        }
      },
      "source": [
        "5<6"
      ],
      "execution_count": 37,
      "outputs": [
        {
          "output_type": "execute_result",
          "data": {
            "text/plain": [
              "True"
            ]
          },
          "metadata": {
            "tags": []
          },
          "execution_count": 37
        }
      ]
    },
    {
      "cell_type": "code",
      "metadata": {
        "id": "duhXjqPzdtvg",
        "outputId": "c6d2b21d-2f0e-4924-ef2d-929472c93333",
        "colab": {
          "base_uri": "https://localhost:8080/"
        }
      },
      "source": [
        "6>5"
      ],
      "execution_count": 38,
      "outputs": [
        {
          "output_type": "execute_result",
          "data": {
            "text/plain": [
              "True"
            ]
          },
          "metadata": {
            "tags": []
          },
          "execution_count": 38
        }
      ]
    },
    {
      "cell_type": "code",
      "metadata": {
        "id": "I5IyQaQ2dvKZ",
        "outputId": "d03dc843-28f1-4267-d51a-39053652b2a4",
        "colab": {
          "base_uri": "https://localhost:8080/"
        }
      },
      "source": [
        "result=5+(5>6)\n",
        "result"
      ],
      "execution_count": 40,
      "outputs": [
        {
          "output_type": "execute_result",
          "data": {
            "text/plain": [
              "5"
            ]
          },
          "metadata": {
            "tags": []
          },
          "execution_count": 40
        }
      ]
    },
    {
      "cell_type": "code",
      "metadata": {
        "id": "GoClx8fsd7KL",
        "outputId": "3f84d0ec-4c0b-4241-f59e-5c3dbac2c0bd",
        "colab": {
          "base_uri": "https://localhost:8080/"
        }
      },
      "source": [
        "result1=5+(5<6)\n",
        "result1"
      ],
      "execution_count": 42,
      "outputs": [
        {
          "output_type": "execute_result",
          "data": {
            "text/plain": [
              "6"
            ]
          },
          "metadata": {
            "tags": []
          },
          "execution_count": 42
        }
      ]
    },
    {
      "cell_type": "markdown",
      "metadata": {
        "id": "3siNRPtyfS1R"
      },
      "source": [
        "#function\n",
        "##defintation\n"
      ]
    },
    {
      "cell_type": "code",
      "metadata": {
        "id": "a7-AUUWDfgxQ",
        "outputId": "433f8510-fc80-4e73-d64a-71b70bed7d5c",
        "colab": {
          "base_uri": "https://localhost:8080/"
        }
      },
      "source": [
        "def avg():\n",
        "  A=50\n",
        "  B=60\n",
        "  print(\"the avg of {} and {} is {}\".format(A,B, (A+B)/2))\n",
        "\n",
        "avg()"
      ],
      "execution_count": 48,
      "outputs": [
        {
          "output_type": "stream",
          "text": [
            "the avg of 50 and 60 is 55.0\n"
          ],
          "name": "stdout"
        }
      ]
    },
    {
      "cell_type": "code",
      "metadata": {
        "id": "zcnv25o5geBk",
        "outputId": "b61e7da7-4d24-4336-81ef-f9dd0464a0bb",
        "colab": {
          "base_uri": "https://localhost:8080/"
        }
      },
      "source": [
        "def name():\n",
        "  first_name=\"Rajesh\"\n",
        "  last_name=\"kumar\"\n",
        "  print(\"My FullName is: {}\".format(first_name +' '+ last_name))\n",
        "name()"
      ],
      "execution_count": 53,
      "outputs": [
        {
          "output_type": "stream",
          "text": [
            "My FullName is Rajesh kumar\n"
          ],
          "name": "stdout"
        }
      ]
    },
    {
      "cell_type": "markdown",
      "metadata": {
        "id": "d5g-IT4SpuD_"
      },
      "source": [
        "##Exercise generate nickname"
      ]
    },
    {
      "cell_type": "code",
      "metadata": {
        "id": "PskMTJp7hJQI",
        "outputId": "970a60f9-f312-4e00-f9ff-d1699c9d2a98",
        "colab": {
          "base_uri": "https://localhost:8080/"
        }
      },
      "source": [
        "def nickname_generator():\n",
        "  first_name=\"Rajesh\"\n",
        "  last_name=\"kumar\"\n",
        "  fullname= first_name+' '+last_name\n",
        "  nickname=fullname[0:3]\n",
        "  print(\"The nick name of {} could be {} .\".format(fullname,nickname))\n",
        "\n",
        "nickname_generator()"
      ],
      "execution_count": 67,
      "outputs": [
        {
          "output_type": "stream",
          "text": [
            "The nick name of Rajesh kumar could be Raj .\n"
          ],
          "name": "stdout"
        }
      ]
    },
    {
      "cell_type": "markdown",
      "metadata": {
        "id": "SI6n740Ij2v3"
      },
      "source": [
        "#Exercise annual income\n",
        "##WAF to calculate the monthly salary and Tax. The formal parameter will be annual salary . TAx slab is 32000 20% beyond 32000 till 60000 is 40% and beyond 60000 is 60%\n",
        " "
      ]
    },
    {
      "cell_type": "code",
      "metadata": {
        "id": "FjR7A1_gprkf",
        "outputId": "8527cac6-4c9e-4661-bd93-c08a469a7788",
        "colab": {
          "base_uri": "https://localhost:8080/"
        }
      },
      "source": [
        "#with ifelse statement\n",
        "def monthly_income(annual_salary):\n",
        "  \n",
        "  if annual_salary <=32000:\n",
        "    monthly_salary = annual_salary/12\n",
        "    annual_tax = (annual_salary * 20)/100\n",
        "    print(\"Annual Salary is : {}\".format(annual_salary))\n",
        "    print(\"Annual Tax of the salary is : {}\".format(annual_tax))\n",
        "    print(\"Monthly Salary is : {}\".format(monthly_salary))\n",
        "    print(\"monthly tax of salary is :{}\".format(annual_tax/12))\n",
        "  elif annual_salary >32000 <= 60000 :\n",
        "    annual_tax = (annual_salary*40)/100\n",
        "    monthly_salary = annual_salary/12\n",
        "    annual_tax = (annual_salary * 40)/100\n",
        "    print(\"Annual Salary is : {}\".format(annual_salary))\n",
        "    print(\"Annual Tax of the salary is : {}\".format(annual_tax))\n",
        "    print(\"Monthly Salary is : {}\".format(monthly_salary))\n",
        "    print(\"monthly tax of salary is :{}\".format(annual_tax/12))\n",
        "  else :\n",
        "    annual_tax = (annual_salary*60)/100\n",
        "    monthly_salary = annual_salary/12\n",
        "    annual_tax = (annual_salary * 60)/100\n",
        "    print(\"Annual Salary is : {}\".format(annual_salary))\n",
        "    print(\"Annual Tax of the salary is : {}\".format(annual_tax))\n",
        "    print(\"Monthly Salary is : {}\".format(monthly_salary))\n",
        "    print(\"monthly tax of salary is :{}\".format(annual_tax/12))\n",
        "\n",
        "monthly_income(60000)\n"
      ],
      "execution_count": 74,
      "outputs": [
        {
          "output_type": "stream",
          "text": [
            "Annual Salary is : 60000\n",
            "Annual Tax of the salary is : 24000.0\n",
            "Monthly Salary is : 5000.0\n",
            "monthly tax of salary is :2000.0\n"
          ],
          "name": "stdout"
        }
      ]
    },
    {
      "cell_type": "code",
      "metadata": {
        "id": "yX1ygdq70BJJ",
        "outputId": "5c26cd18-37d3-41f7-f4b5-9afa0a81a4fb",
        "colab": {
          "base_uri": "https://localhost:8080/"
        }
      },
      "source": [
        "def monthly_income(annual_sal):\n",
        "  monthly_sal = annual_sal/12\n",
        "  sal = annual_sal<32000\n",
        "  print(\"Annual Salary is : {}\".format(annual_sal))\n",
        "  print(\"Annual Tax of the salary is : {}\".format(annual_sal/12))\n",
        "  print(\"Monthly Salary is : {}\".format(monthly_salary))\n",
        "  print(\"monthly tax of salary is :{}\".format(annual_tax/12))\n",
        "  print(sal)\n",
        "\n",
        "monthly_income (18000)\n"
      ],
      "execution_count": 76,
      "outputs": [
        {
          "output_type": "stream",
          "text": [
            "True\n"
          ],
          "name": "stdout"
        }
      ]
    }
  ]
}